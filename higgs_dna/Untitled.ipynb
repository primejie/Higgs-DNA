{
 "cells": [
  {
   "cell_type": "code",
   "execution_count": 1,
   "id": "048309e2",
   "metadata": {},
   "outputs": [],
   "source": [
    "import higgs_dna"
   ]
  },
  {
   "cell_type": "code",
   "execution_count": 2,
   "id": "8bf62bd3",
   "metadata": {},
   "outputs": [],
   "source": [
    "from higgs_dna.selections import object_selections, lepton_selections, jet_selections, tau_selections, fatjet_selections, gen_selections,tools"
   ]
  },
  {
   "cell_type": "code",
   "execution_count": null,
   "id": "ce2a877a",
   "metadata": {},
   "outputs": [],
   "source": []
  },
  {
   "cell_type": "code",
   "execution_count": 3,
   "id": "9313940f",
   "metadata": {},
   "outputs": [],
   "source": [
    "import awkward"
   ]
  },
  {
   "cell_type": "code",
   "execution_count": 4,
   "id": "8969b6ba",
   "metadata": {},
   "outputs": [
    {
     "name": "stdout",
     "output_type": "stream",
     "text": [
      "['/afs/cern.ch/work/c/chuw/ResonantAnalysis/HiggsDNA/higgs_dna', '/afs/cern.ch/work/c/chuw/.higgsenv/lib/python39.zip', '/afs/cern.ch/work/c/chuw/.higgsenv/lib/python3.9', '/afs/cern.ch/work/c/chuw/.higgsenv/lib/python3.9/lib-dynload', '', '/afs/cern.ch/work/c/chuw/.higgsenv/lib/python3.9/site-packages', '/afs/cern.ch/work/c/chuw/ResonantAnalysis/HiggsDNA']\n"
     ]
    }
   ],
   "source": [
    "import sys\n",
    "print(sys.path)"
   ]
  },
  {
   "cell_type": "code",
   "execution_count": 5,
   "id": "bac17e70",
   "metadata": {},
   "outputs": [
    {
     "data": {
      "text/html": [
       "<pre style=\"white-space:pre;overflow-x:auto;line-height:normal;font-family:Menlo,'DejaVu Sans Mono',consolas,'Courier New',monospace\"><span style=\"color: #000080; text-decoration-color: #000080\">INFO    </span> <span style=\"font-weight: bold\">[</span>SampleManager : get_samples<span style=\"font-weight: bold\">]</span> Fetching input files for <span style=\"color: #008080; text-decoration-color: #008080; font-weight: bold\">1</span>        <a href=\"file:///afs/cern.ch/work/c/chuw/ResonantAnalysis/HiggsDNA/higgs_dna/samples/sample_manager.py\" target=\"_blank\"><span style=\"color: #7f7f7f; text-decoration-color: #7f7f7f\">sample_manager.py</span></a><span style=\"color: #7f7f7f; text-decoration-color: #7f7f7f\">:</span><a href=\"file:///afs/cern.ch/work/c/chuw/ResonantAnalysis/HiggsDNA/higgs_dna/samples/sample_manager.py#43\" target=\"_blank\"><span style=\"color: #7f7f7f; text-decoration-color: #7f7f7f\">43</span></a>\n",
       "         samples.                                                        <span style=\"color: #7f7f7f; text-decoration-color: #7f7f7f\">                    </span>\n",
       "</pre>\n"
      ],
      "text/plain": [
       "\u001b[34mINFO    \u001b[0m \u001b[1m[\u001b[0mSampleManager : get_samples\u001b[1m]\u001b[0m Fetching input files for \u001b[1;36m1\u001b[0m        \u001b]8;id=580974;file:///afs/cern.ch/work/c/chuw/ResonantAnalysis/HiggsDNA/higgs_dna/samples/sample_manager.py\u001b\\\u001b[2msample_manager.py\u001b[0m\u001b]8;;\u001b\\\u001b[2m:\u001b[0m\u001b]8;id=590426;file:///afs/cern.ch/work/c/chuw/ResonantAnalysis/HiggsDNA/higgs_dna/samples/sample_manager.py#43\u001b\\\u001b[2m43\u001b[0m\u001b]8;;\u001b\\\n",
       "         samples.                                                        \u001b[2m                    \u001b[0m\n"
      ]
     },
     "metadata": {},
     "output_type": "display_data"
    },
    {
     "name": "stderr",
     "output_type": "stream",
     "text": [
      "\r",
      "  0%|                                                                         | 0/1 [00:00<?, ?it/s]"
     ]
    },
    {
     "data": {
      "text/html": [
       "<pre style=\"white-space:pre;overflow-x:auto;line-height:normal;font-family:Menlo,'DejaVu Sans Mono',consolas,'Courier New',monospace\"><span style=\"color: #008000; text-decoration-color: #008000\">DEBUG   </span> <span style=\"font-weight: bold\">[</span>SampleManager : get_samples<span style=\"font-weight: bold\">]</span> For sample                        <a href=\"file:///afs/cern.ch/work/c/chuw/ResonantAnalysis/HiggsDNA/higgs_dna/samples/sample_manager.py\" target=\"_blank\"><span style=\"color: #7f7f7f; text-decoration-color: #7f7f7f\">sample_manager.py</span></a><span style=\"color: #7f7f7f; text-decoration-color: #7f7f7f\">:</span><a href=\"file:///afs/cern.ch/work/c/chuw/ResonantAnalysis/HiggsDNA/higgs_dna/samples/sample_manager.py#73\" target=\"_blank\"><span style=\"color: #7f7f7f; text-decoration-color: #7f7f7f\">73</span></a>\n",
       "         <span style=\"color: #008000; text-decoration-color: #008000\">'GluGluToBulkGravitonToHHTo2G4Q_M1000'</span>, year <span style=\"color: #008000; text-decoration-color: #008000\">'2017'</span>, found xs   <span style=\"color: #7f7f7f; text-decoration-color: #7f7f7f\">                    </span>\n",
       "         of <span style=\"color: #008080; text-decoration-color: #008080; font-weight: bold\">1.000000</span> pb and bf of <span style=\"color: #008080; text-decoration-color: #008080; font-weight: bold\">1.000000</span>                               <span style=\"color: #7f7f7f; text-decoration-color: #7f7f7f\">                    </span>\n",
       "</pre>\n"
      ],
      "text/plain": [
       "\u001b[32mDEBUG   \u001b[0m \u001b[1m[\u001b[0mSampleManager : get_samples\u001b[1m]\u001b[0m For sample                        \u001b]8;id=105339;file:///afs/cern.ch/work/c/chuw/ResonantAnalysis/HiggsDNA/higgs_dna/samples/sample_manager.py\u001b\\\u001b[2msample_manager.py\u001b[0m\u001b]8;;\u001b\\\u001b[2m:\u001b[0m\u001b]8;id=259133;file:///afs/cern.ch/work/c/chuw/ResonantAnalysis/HiggsDNA/higgs_dna/samples/sample_manager.py#73\u001b\\\u001b[2m73\u001b[0m\u001b]8;;\u001b\\\n",
       "         \u001b[32m'GluGluToBulkGravitonToHHTo2G4Q_M1000'\u001b[0m, year \u001b[32m'2017'\u001b[0m, found xs   \u001b[2m                    \u001b[0m\n",
       "         of \u001b[1;36m1.000000\u001b[0m pb and bf of \u001b[1;36m1.000000\u001b[0m                               \u001b[2m                    \u001b[0m\n"
      ]
     },
     "metadata": {},
     "output_type": "display_data"
    },
    {
     "data": {
      "text/html": [
       "<pre style=\"white-space:pre;overflow-x:auto;line-height:normal;font-family:Menlo,'DejaVu Sans Mono',consolas,'Courier New',monospace\"><span style=\"color: #008000; text-decoration-color: #008000\">DEBUG   </span> <span style=\"font-weight: bold\">[</span>SampleManager : get_samples<span style=\"font-weight: bold\">]</span> For sample                        <a href=\"file:///afs/cern.ch/work/c/chuw/ResonantAnalysis/HiggsDNA/higgs_dna/samples/sample_manager.py\" target=\"_blank\"><span style=\"color: #7f7f7f; text-decoration-color: #7f7f7f\">sample_manager.py</span></a><span style=\"color: #7f7f7f; text-decoration-color: #7f7f7f\">:</span><a href=\"file:///afs/cern.ch/work/c/chuw/ResonantAnalysis/HiggsDNA/higgs_dna/samples/sample_manager.py#98\" target=\"_blank\"><span style=\"color: #7f7f7f; text-decoration-color: #7f7f7f\">98</span></a>\n",
       "         <span style=\"color: #008000; text-decoration-color: #008000\">'GluGluToBulkGravitonToHHTo2G4Q_M1000'</span>, year <span style=\"color: #008000; text-decoration-color: #008000\">'2017'</span>, getting    <span style=\"color: #7f7f7f; text-decoration-color: #7f7f7f\">                    </span>\n",
       "         files from hard-coded list.                                     <span style=\"color: #7f7f7f; text-decoration-color: #7f7f7f\">                    </span>\n",
       "</pre>\n"
      ],
      "text/plain": [
       "\u001b[32mDEBUG   \u001b[0m \u001b[1m[\u001b[0mSampleManager : get_samples\u001b[1m]\u001b[0m For sample                        \u001b]8;id=1368;file:///afs/cern.ch/work/c/chuw/ResonantAnalysis/HiggsDNA/higgs_dna/samples/sample_manager.py\u001b\\\u001b[2msample_manager.py\u001b[0m\u001b]8;;\u001b\\\u001b[2m:\u001b[0m\u001b]8;id=221818;file:///afs/cern.ch/work/c/chuw/ResonantAnalysis/HiggsDNA/higgs_dna/samples/sample_manager.py#98\u001b\\\u001b[2m98\u001b[0m\u001b]8;;\u001b\\\n",
       "         \u001b[32m'GluGluToBulkGravitonToHHTo2G4Q_M1000'\u001b[0m, year \u001b[32m'2017'\u001b[0m, getting    \u001b[2m                    \u001b[0m\n",
       "         files from hard-coded list.                                     \u001b[2m                    \u001b[0m\n"
      ]
     },
     "metadata": {},
     "output_type": "display_data"
    },
    {
     "data": {
      "text/html": [
       "<pre style=\"white-space:pre;overflow-x:auto;line-height:normal;font-family:Menlo,'DejaVu Sans Mono',consolas,'Courier New',monospace\"><span style=\"color: #008000; text-decoration-color: #008000\">DEBUG   </span> <span style=\"font-weight: bold\">[</span>SampleManager : get_samples<span style=\"font-weight: bold\">]</span> For sample                       <a href=\"file:///afs/cern.ch/work/c/chuw/ResonantAnalysis/HiggsDNA/higgs_dna/samples/sample_manager.py\" target=\"_blank\"><span style=\"color: #7f7f7f; text-decoration-color: #7f7f7f\">sample_manager.py</span></a><span style=\"color: #7f7f7f; text-decoration-color: #7f7f7f\">:</span><a href=\"file:///afs/cern.ch/work/c/chuw/ResonantAnalysis/HiggsDNA/higgs_dna/samples/sample_manager.py#137\" target=\"_blank\"><span style=\"color: #7f7f7f; text-decoration-color: #7f7f7f\">137</span></a>\n",
       "         <span style=\"color: #008000; text-decoration-color: #008000\">'GluGluToBulkGravitonToHHTo2G4Q_M1000'</span>, year <span style=\"color: #008000; text-decoration-color: #008000\">'2017'</span>, found <span style=\"color: #008080; text-decoration-color: #008080; font-weight: bold\">13</span>  <span style=\"color: #7f7f7f; text-decoration-color: #7f7f7f\">                     </span>\n",
       "         input files:                                                   <span style=\"color: #7f7f7f; text-decoration-color: #7f7f7f\">                     </span>\n",
       "</pre>\n"
      ],
      "text/plain": [
       "\u001b[32mDEBUG   \u001b[0m \u001b[1m[\u001b[0mSampleManager : get_samples\u001b[1m]\u001b[0m For sample                       \u001b]8;id=594053;file:///afs/cern.ch/work/c/chuw/ResonantAnalysis/HiggsDNA/higgs_dna/samples/sample_manager.py\u001b\\\u001b[2msample_manager.py\u001b[0m\u001b]8;;\u001b\\\u001b[2m:\u001b[0m\u001b]8;id=599658;file:///afs/cern.ch/work/c/chuw/ResonantAnalysis/HiggsDNA/higgs_dna/samples/sample_manager.py#137\u001b\\\u001b[2m137\u001b[0m\u001b]8;;\u001b\\\n",
       "         \u001b[32m'GluGluToBulkGravitonToHHTo2G4Q_M1000'\u001b[0m, year \u001b[32m'2017'\u001b[0m, found \u001b[1;36m13\u001b[0m  \u001b[2m                     \u001b[0m\n",
       "         input files:                                                   \u001b[2m                     \u001b[0m\n"
      ]
     },
     "metadata": {},
     "output_type": "display_data"
    },
    {
     "data": {
      "text/html": [
       "<pre style=\"white-space:pre;overflow-x:auto;line-height:normal;font-family:Menlo,'DejaVu Sans Mono',consolas,'Courier New',monospace\"><span style=\"color: #008000; text-decoration-color: #008000\">DEBUG   </span>          root:<span style=\"color: #800080; text-decoration-color: #800080\">//cms-xrd-global.cern.ch///store/mc/RunIIFall17N</span> <a href=\"file:///afs/cern.ch/work/c/chuw/ResonantAnalysis/HiggsDNA/higgs_dna/samples/sample_manager.py\" target=\"_blank\"><span style=\"color: #7f7f7f; text-decoration-color: #7f7f7f\">sample_manager.py</span></a><span style=\"color: #7f7f7f; text-decoration-color: #7f7f7f\">:</span><a href=\"file:///afs/cern.ch/work/c/chuw/ResonantAnalysis/HiggsDNA/higgs_dna/samples/sample_manager.py#140\" target=\"_blank\"><span style=\"color: #7f7f7f; text-decoration-color: #7f7f7f\">140</span></a>\n",
       "         <span style=\"color: #800080; text-decoration-color: #800080\">anoAODv7/GluGluToBulkGravitonToHHTo2G4Q_M-1000_narrow_TuneCP5_</span> <span style=\"color: #7f7f7f; text-decoration-color: #7f7f7f\">                     </span>\n",
       "         <span style=\"color: #800080; text-decoration-color: #800080\">PSWeights_13TeV-madgraph-pythia8/NANOAODSIM/PU2017_12Apr2018_N</span> <span style=\"color: #7f7f7f; text-decoration-color: #7f7f7f\">                     </span>\n",
       "         <span style=\"color: #800080; text-decoration-color: #800080\">ano02Apr2020_102X_mc2017_realistic_v8-v1/100000/</span><span style=\"color: #ff00ff; text-decoration-color: #ff00ff\">9E9CEC5B-2EBF-</span> <span style=\"color: #7f7f7f; text-decoration-color: #7f7f7f\">                     </span>\n",
       "         <span style=\"color: #ff00ff; text-decoration-color: #ff00ff\">A640-A4D5-832E5D559DDA.root</span>                                    <span style=\"color: #7f7f7f; text-decoration-color: #7f7f7f\">                     </span>\n",
       "</pre>\n"
      ],
      "text/plain": [
       "\u001b[32mDEBUG   \u001b[0m          root:\u001b[35m/\u001b[0m\u001b[35m/cms-xrd-global.cern.ch/\u001b[0m\u001b[35m/\u001b[0m\u001b[35m/store/mc/RunIIFall17N\u001b[0m \u001b]8;id=511011;file:///afs/cern.ch/work/c/chuw/ResonantAnalysis/HiggsDNA/higgs_dna/samples/sample_manager.py\u001b\\\u001b[2msample_manager.py\u001b[0m\u001b]8;;\u001b\\\u001b[2m:\u001b[0m\u001b]8;id=965631;file:///afs/cern.ch/work/c/chuw/ResonantAnalysis/HiggsDNA/higgs_dna/samples/sample_manager.py#140\u001b\\\u001b[2m140\u001b[0m\u001b]8;;\u001b\\\n",
       "         \u001b[35manoAODv7/GluGluToBulkGravitonToHHTo2G4Q_M-1000_narrow_TuneCP5_\u001b[0m \u001b[2m                     \u001b[0m\n",
       "         \u001b[35mPSWeights_13TeV-madgraph-pythia8/NANOAODSIM/PU2017_12Apr2018_N\u001b[0m \u001b[2m                     \u001b[0m\n",
       "         \u001b[35mano02Apr2020_102X_mc2017_realistic_v8-v1/100000/\u001b[0m\u001b[95m9E9CEC5B-2EBF-\u001b[0m \u001b[2m                     \u001b[0m\n",
       "         \u001b[95mA640-A4D5-832E5D559DDA.root\u001b[0m                                    \u001b[2m                     \u001b[0m\n"
      ]
     },
     "metadata": {},
     "output_type": "display_data"
    },
    {
     "data": {
      "text/html": [
       "<pre style=\"white-space:pre;overflow-x:auto;line-height:normal;font-family:Menlo,'DejaVu Sans Mono',consolas,'Courier New',monospace\"><span style=\"color: #008000; text-decoration-color: #008000\">DEBUG   </span>          root:<span style=\"color: #800080; text-decoration-color: #800080\">//cms-xrd-global.cern.ch///store/mc/RunIIFall17N</span> <a href=\"file:///afs/cern.ch/work/c/chuw/ResonantAnalysis/HiggsDNA/higgs_dna/samples/sample_manager.py\" target=\"_blank\"><span style=\"color: #7f7f7f; text-decoration-color: #7f7f7f\">sample_manager.py</span></a><span style=\"color: #7f7f7f; text-decoration-color: #7f7f7f\">:</span><a href=\"file:///afs/cern.ch/work/c/chuw/ResonantAnalysis/HiggsDNA/higgs_dna/samples/sample_manager.py#140\" target=\"_blank\"><span style=\"color: #7f7f7f; text-decoration-color: #7f7f7f\">140</span></a>\n",
       "         <span style=\"color: #800080; text-decoration-color: #800080\">anoAODv7/GluGluToBulkGravitonToHHTo2G4Q_M-1000_narrow_TuneCP5_</span> <span style=\"color: #7f7f7f; text-decoration-color: #7f7f7f\">                     </span>\n",
       "         <span style=\"color: #800080; text-decoration-color: #800080\">PSWeights_13TeV-madgraph-pythia8/NANOAODSIM/PU2017_12Apr2018_N</span> <span style=\"color: #7f7f7f; text-decoration-color: #7f7f7f\">                     </span>\n",
       "         <span style=\"color: #800080; text-decoration-color: #800080\">ano02Apr2020_102X_mc2017_realistic_v8-v1/100000/</span><span style=\"color: #ff00ff; text-decoration-color: #ff00ff\">DB9AABD9-AAD0-</span> <span style=\"color: #7f7f7f; text-decoration-color: #7f7f7f\">                     </span>\n",
       "         <span style=\"color: #ff00ff; text-decoration-color: #ff00ff\">1E40-977E-30A83CB3706B.root</span>                                    <span style=\"color: #7f7f7f; text-decoration-color: #7f7f7f\">                     </span>\n",
       "</pre>\n"
      ],
      "text/plain": [
       "\u001b[32mDEBUG   \u001b[0m          root:\u001b[35m/\u001b[0m\u001b[35m/cms-xrd-global.cern.ch/\u001b[0m\u001b[35m/\u001b[0m\u001b[35m/store/mc/RunIIFall17N\u001b[0m \u001b]8;id=304409;file:///afs/cern.ch/work/c/chuw/ResonantAnalysis/HiggsDNA/higgs_dna/samples/sample_manager.py\u001b\\\u001b[2msample_manager.py\u001b[0m\u001b]8;;\u001b\\\u001b[2m:\u001b[0m\u001b]8;id=912471;file:///afs/cern.ch/work/c/chuw/ResonantAnalysis/HiggsDNA/higgs_dna/samples/sample_manager.py#140\u001b\\\u001b[2m140\u001b[0m\u001b]8;;\u001b\\\n",
       "         \u001b[35manoAODv7/GluGluToBulkGravitonToHHTo2G4Q_M-1000_narrow_TuneCP5_\u001b[0m \u001b[2m                     \u001b[0m\n",
       "         \u001b[35mPSWeights_13TeV-madgraph-pythia8/NANOAODSIM/PU2017_12Apr2018_N\u001b[0m \u001b[2m                     \u001b[0m\n",
       "         \u001b[35mano02Apr2020_102X_mc2017_realistic_v8-v1/100000/\u001b[0m\u001b[95mDB9AABD9-AAD0-\u001b[0m \u001b[2m                     \u001b[0m\n",
       "         \u001b[95m1E40-977E-30A83CB3706B.root\u001b[0m                                    \u001b[2m                     \u001b[0m\n"
      ]
     },
     "metadata": {},
     "output_type": "display_data"
    },
    {
     "data": {
      "text/html": [
       "<pre style=\"white-space:pre;overflow-x:auto;line-height:normal;font-family:Menlo,'DejaVu Sans Mono',consolas,'Courier New',monospace\"><span style=\"color: #008000; text-decoration-color: #008000\">DEBUG   </span>          root:<span style=\"color: #800080; text-decoration-color: #800080\">//cms-xrd-global.cern.ch///store/mc/RunIIFall17N</span> <a href=\"file:///afs/cern.ch/work/c/chuw/ResonantAnalysis/HiggsDNA/higgs_dna/samples/sample_manager.py\" target=\"_blank\"><span style=\"color: #7f7f7f; text-decoration-color: #7f7f7f\">sample_manager.py</span></a><span style=\"color: #7f7f7f; text-decoration-color: #7f7f7f\">:</span><a href=\"file:///afs/cern.ch/work/c/chuw/ResonantAnalysis/HiggsDNA/higgs_dna/samples/sample_manager.py#140\" target=\"_blank\"><span style=\"color: #7f7f7f; text-decoration-color: #7f7f7f\">140</span></a>\n",
       "         <span style=\"color: #800080; text-decoration-color: #800080\">anoAODv7/GluGluToBulkGravitonToHHTo2G4Q_M-1000_narrow_TuneCP5_</span> <span style=\"color: #7f7f7f; text-decoration-color: #7f7f7f\">                     </span>\n",
       "         <span style=\"color: #800080; text-decoration-color: #800080\">PSWeights_13TeV-madgraph-pythia8/NANOAODSIM/PU2017_12Apr2018_N</span> <span style=\"color: #7f7f7f; text-decoration-color: #7f7f7f\">                     </span>\n",
       "         <span style=\"color: #800080; text-decoration-color: #800080\">ano02Apr2020_102X_mc2017_realistic_v8-v1/120000/</span><span style=\"color: #ff00ff; text-decoration-color: #ff00ff\">6D4EB38F-3897-</span> <span style=\"color: #7f7f7f; text-decoration-color: #7f7f7f\">                     </span>\n",
       "         <span style=\"color: #ff00ff; text-decoration-color: #ff00ff\">794C-B929-816A8304AB54.root</span>                                    <span style=\"color: #7f7f7f; text-decoration-color: #7f7f7f\">                     </span>\n",
       "</pre>\n"
      ],
      "text/plain": [
       "\u001b[32mDEBUG   \u001b[0m          root:\u001b[35m/\u001b[0m\u001b[35m/cms-xrd-global.cern.ch/\u001b[0m\u001b[35m/\u001b[0m\u001b[35m/store/mc/RunIIFall17N\u001b[0m \u001b]8;id=566003;file:///afs/cern.ch/work/c/chuw/ResonantAnalysis/HiggsDNA/higgs_dna/samples/sample_manager.py\u001b\\\u001b[2msample_manager.py\u001b[0m\u001b]8;;\u001b\\\u001b[2m:\u001b[0m\u001b]8;id=131075;file:///afs/cern.ch/work/c/chuw/ResonantAnalysis/HiggsDNA/higgs_dna/samples/sample_manager.py#140\u001b\\\u001b[2m140\u001b[0m\u001b]8;;\u001b\\\n",
       "         \u001b[35manoAODv7/GluGluToBulkGravitonToHHTo2G4Q_M-1000_narrow_TuneCP5_\u001b[0m \u001b[2m                     \u001b[0m\n",
       "         \u001b[35mPSWeights_13TeV-madgraph-pythia8/NANOAODSIM/PU2017_12Apr2018_N\u001b[0m \u001b[2m                     \u001b[0m\n",
       "         \u001b[35mano02Apr2020_102X_mc2017_realistic_v8-v1/120000/\u001b[0m\u001b[95m6D4EB38F-3897-\u001b[0m \u001b[2m                     \u001b[0m\n",
       "         \u001b[95m794C-B929-816A8304AB54.root\u001b[0m                                    \u001b[2m                     \u001b[0m\n"
      ]
     },
     "metadata": {},
     "output_type": "display_data"
    },
    {
     "data": {
      "text/html": [
       "<pre style=\"white-space:pre;overflow-x:auto;line-height:normal;font-family:Menlo,'DejaVu Sans Mono',consolas,'Courier New',monospace\"><span style=\"color: #008000; text-decoration-color: #008000\">DEBUG   </span>          root:<span style=\"color: #800080; text-decoration-color: #800080\">//cms-xrd-global.cern.ch///store/mc/RunIIFall17N</span> <a href=\"file:///afs/cern.ch/work/c/chuw/ResonantAnalysis/HiggsDNA/higgs_dna/samples/sample_manager.py\" target=\"_blank\"><span style=\"color: #7f7f7f; text-decoration-color: #7f7f7f\">sample_manager.py</span></a><span style=\"color: #7f7f7f; text-decoration-color: #7f7f7f\">:</span><a href=\"file:///afs/cern.ch/work/c/chuw/ResonantAnalysis/HiggsDNA/higgs_dna/samples/sample_manager.py#140\" target=\"_blank\"><span style=\"color: #7f7f7f; text-decoration-color: #7f7f7f\">140</span></a>\n",
       "         <span style=\"color: #800080; text-decoration-color: #800080\">anoAODv7/GluGluToBulkGravitonToHHTo2G4Q_M-1000_narrow_TuneCP5_</span> <span style=\"color: #7f7f7f; text-decoration-color: #7f7f7f\">                     </span>\n",
       "         <span style=\"color: #800080; text-decoration-color: #800080\">PSWeights_13TeV-madgraph-pythia8/NANOAODSIM/PU2017_12Apr2018_N</span> <span style=\"color: #7f7f7f; text-decoration-color: #7f7f7f\">                     </span>\n",
       "         <span style=\"color: #800080; text-decoration-color: #800080\">ano02Apr2020_102X_mc2017_realistic_v8-v1/120000/</span><span style=\"color: #ff00ff; text-decoration-color: #ff00ff\">AD0A3EE4-734F-</span> <span style=\"color: #7f7f7f; text-decoration-color: #7f7f7f\">                     </span>\n",
       "         <span style=\"color: #ff00ff; text-decoration-color: #ff00ff\">544E-B154-DA37E82B4CFC.root</span>                                    <span style=\"color: #7f7f7f; text-decoration-color: #7f7f7f\">                     </span>\n",
       "</pre>\n"
      ],
      "text/plain": [
       "\u001b[32mDEBUG   \u001b[0m          root:\u001b[35m/\u001b[0m\u001b[35m/cms-xrd-global.cern.ch/\u001b[0m\u001b[35m/\u001b[0m\u001b[35m/store/mc/RunIIFall17N\u001b[0m \u001b]8;id=381924;file:///afs/cern.ch/work/c/chuw/ResonantAnalysis/HiggsDNA/higgs_dna/samples/sample_manager.py\u001b\\\u001b[2msample_manager.py\u001b[0m\u001b]8;;\u001b\\\u001b[2m:\u001b[0m\u001b]8;id=64784;file:///afs/cern.ch/work/c/chuw/ResonantAnalysis/HiggsDNA/higgs_dna/samples/sample_manager.py#140\u001b\\\u001b[2m140\u001b[0m\u001b]8;;\u001b\\\n",
       "         \u001b[35manoAODv7/GluGluToBulkGravitonToHHTo2G4Q_M-1000_narrow_TuneCP5_\u001b[0m \u001b[2m                     \u001b[0m\n",
       "         \u001b[35mPSWeights_13TeV-madgraph-pythia8/NANOAODSIM/PU2017_12Apr2018_N\u001b[0m \u001b[2m                     \u001b[0m\n",
       "         \u001b[35mano02Apr2020_102X_mc2017_realistic_v8-v1/120000/\u001b[0m\u001b[95mAD0A3EE4-734F-\u001b[0m \u001b[2m                     \u001b[0m\n",
       "         \u001b[95m544E-B154-DA37E82B4CFC.root\u001b[0m                                    \u001b[2m                     \u001b[0m\n"
      ]
     },
     "metadata": {},
     "output_type": "display_data"
    },
    {
     "data": {
      "text/html": [
       "<pre style=\"white-space:pre;overflow-x:auto;line-height:normal;font-family:Menlo,'DejaVu Sans Mono',consolas,'Courier New',monospace\"><span style=\"color: #008000; text-decoration-color: #008000\">DEBUG   </span>          root:<span style=\"color: #800080; text-decoration-color: #800080\">//cms-xrd-global.cern.ch///store/mc/RunIIFall17N</span> <a href=\"file:///afs/cern.ch/work/c/chuw/ResonantAnalysis/HiggsDNA/higgs_dna/samples/sample_manager.py\" target=\"_blank\"><span style=\"color: #7f7f7f; text-decoration-color: #7f7f7f\">sample_manager.py</span></a><span style=\"color: #7f7f7f; text-decoration-color: #7f7f7f\">:</span><a href=\"file:///afs/cern.ch/work/c/chuw/ResonantAnalysis/HiggsDNA/higgs_dna/samples/sample_manager.py#140\" target=\"_blank\"><span style=\"color: #7f7f7f; text-decoration-color: #7f7f7f\">140</span></a>\n",
       "         <span style=\"color: #800080; text-decoration-color: #800080\">anoAODv7/GluGluToBulkGravitonToHHTo2G4Q_M-1000_narrow_TuneCP5_</span> <span style=\"color: #7f7f7f; text-decoration-color: #7f7f7f\">                     </span>\n",
       "         <span style=\"color: #800080; text-decoration-color: #800080\">PSWeights_13TeV-madgraph-pythia8/NANOAODSIM/PU2017_12Apr2018_N</span> <span style=\"color: #7f7f7f; text-decoration-color: #7f7f7f\">                     </span>\n",
       "         <span style=\"color: #800080; text-decoration-color: #800080\">ano02Apr2020_102X_mc2017_realistic_v8-v1/120000/</span><span style=\"color: #ff00ff; text-decoration-color: #ff00ff\">CD38AD5A-B1D8-</span> <span style=\"color: #7f7f7f; text-decoration-color: #7f7f7f\">                     </span>\n",
       "         <span style=\"color: #ff00ff; text-decoration-color: #ff00ff\">9C4D-8D67-808DCC544880.root</span>                                    <span style=\"color: #7f7f7f; text-decoration-color: #7f7f7f\">                     </span>\n",
       "</pre>\n"
      ],
      "text/plain": [
       "\u001b[32mDEBUG   \u001b[0m          root:\u001b[35m/\u001b[0m\u001b[35m/cms-xrd-global.cern.ch/\u001b[0m\u001b[35m/\u001b[0m\u001b[35m/store/mc/RunIIFall17N\u001b[0m \u001b]8;id=372731;file:///afs/cern.ch/work/c/chuw/ResonantAnalysis/HiggsDNA/higgs_dna/samples/sample_manager.py\u001b\\\u001b[2msample_manager.py\u001b[0m\u001b]8;;\u001b\\\u001b[2m:\u001b[0m\u001b]8;id=985826;file:///afs/cern.ch/work/c/chuw/ResonantAnalysis/HiggsDNA/higgs_dna/samples/sample_manager.py#140\u001b\\\u001b[2m140\u001b[0m\u001b]8;;\u001b\\\n",
       "         \u001b[35manoAODv7/GluGluToBulkGravitonToHHTo2G4Q_M-1000_narrow_TuneCP5_\u001b[0m \u001b[2m                     \u001b[0m\n",
       "         \u001b[35mPSWeights_13TeV-madgraph-pythia8/NANOAODSIM/PU2017_12Apr2018_N\u001b[0m \u001b[2m                     \u001b[0m\n",
       "         \u001b[35mano02Apr2020_102X_mc2017_realistic_v8-v1/120000/\u001b[0m\u001b[95mCD38AD5A-B1D8-\u001b[0m \u001b[2m                     \u001b[0m\n",
       "         \u001b[95m9C4D-8D67-808DCC544880.root\u001b[0m                                    \u001b[2m                     \u001b[0m\n"
      ]
     },
     "metadata": {},
     "output_type": "display_data"
    },
    {
     "data": {
      "text/html": [
       "<pre style=\"white-space:pre;overflow-x:auto;line-height:normal;font-family:Menlo,'DejaVu Sans Mono',consolas,'Courier New',monospace\"><span style=\"color: #008000; text-decoration-color: #008000\">DEBUG   </span>          root:<span style=\"color: #800080; text-decoration-color: #800080\">//cms-xrd-global.cern.ch///store/mc/RunIIFall17N</span> <a href=\"file:///afs/cern.ch/work/c/chuw/ResonantAnalysis/HiggsDNA/higgs_dna/samples/sample_manager.py\" target=\"_blank\"><span style=\"color: #7f7f7f; text-decoration-color: #7f7f7f\">sample_manager.py</span></a><span style=\"color: #7f7f7f; text-decoration-color: #7f7f7f\">:</span><a href=\"file:///afs/cern.ch/work/c/chuw/ResonantAnalysis/HiggsDNA/higgs_dna/samples/sample_manager.py#140\" target=\"_blank\"><span style=\"color: #7f7f7f; text-decoration-color: #7f7f7f\">140</span></a>\n",
       "         <span style=\"color: #800080; text-decoration-color: #800080\">anoAODv7/GluGluToBulkGravitonToHHTo2G4Q_M-1000_narrow_TuneCP5_</span> <span style=\"color: #7f7f7f; text-decoration-color: #7f7f7f\">                     </span>\n",
       "         <span style=\"color: #800080; text-decoration-color: #800080\">PSWeights_13TeV-madgraph-pythia8/NANOAODSIM/PU2017_12Apr2018_N</span> <span style=\"color: #7f7f7f; text-decoration-color: #7f7f7f\">                     </span>\n",
       "         <span style=\"color: #800080; text-decoration-color: #800080\">ano02Apr2020_102X_mc2017_realistic_v8-v1/130000/</span><span style=\"color: #ff00ff; text-decoration-color: #ff00ff\">04477627-7EFC-</span> <span style=\"color: #7f7f7f; text-decoration-color: #7f7f7f\">                     </span>\n",
       "         <span style=\"color: #ff00ff; text-decoration-color: #ff00ff\">5A4F-A4E7-B56FFD1F762C.root</span>                                    <span style=\"color: #7f7f7f; text-decoration-color: #7f7f7f\">                     </span>\n",
       "</pre>\n"
      ],
      "text/plain": [
       "\u001b[32mDEBUG   \u001b[0m          root:\u001b[35m/\u001b[0m\u001b[35m/cms-xrd-global.cern.ch/\u001b[0m\u001b[35m/\u001b[0m\u001b[35m/store/mc/RunIIFall17N\u001b[0m \u001b]8;id=226326;file:///afs/cern.ch/work/c/chuw/ResonantAnalysis/HiggsDNA/higgs_dna/samples/sample_manager.py\u001b\\\u001b[2msample_manager.py\u001b[0m\u001b]8;;\u001b\\\u001b[2m:\u001b[0m\u001b]8;id=849569;file:///afs/cern.ch/work/c/chuw/ResonantAnalysis/HiggsDNA/higgs_dna/samples/sample_manager.py#140\u001b\\\u001b[2m140\u001b[0m\u001b]8;;\u001b\\\n",
       "         \u001b[35manoAODv7/GluGluToBulkGravitonToHHTo2G4Q_M-1000_narrow_TuneCP5_\u001b[0m \u001b[2m                     \u001b[0m\n",
       "         \u001b[35mPSWeights_13TeV-madgraph-pythia8/NANOAODSIM/PU2017_12Apr2018_N\u001b[0m \u001b[2m                     \u001b[0m\n",
       "         \u001b[35mano02Apr2020_102X_mc2017_realistic_v8-v1/130000/\u001b[0m\u001b[95m04477627-7EFC-\u001b[0m \u001b[2m                     \u001b[0m\n",
       "         \u001b[95m5A4F-A4E7-B56FFD1F762C.root\u001b[0m                                    \u001b[2m                     \u001b[0m\n"
      ]
     },
     "metadata": {},
     "output_type": "display_data"
    },
    {
     "data": {
      "text/html": [
       "<pre style=\"white-space:pre;overflow-x:auto;line-height:normal;font-family:Menlo,'DejaVu Sans Mono',consolas,'Courier New',monospace\"><span style=\"color: #008000; text-decoration-color: #008000\">DEBUG   </span>          root:<span style=\"color: #800080; text-decoration-color: #800080\">//cms-xrd-global.cern.ch///store/mc/RunIIFall17N</span> <a href=\"file:///afs/cern.ch/work/c/chuw/ResonantAnalysis/HiggsDNA/higgs_dna/samples/sample_manager.py\" target=\"_blank\"><span style=\"color: #7f7f7f; text-decoration-color: #7f7f7f\">sample_manager.py</span></a><span style=\"color: #7f7f7f; text-decoration-color: #7f7f7f\">:</span><a href=\"file:///afs/cern.ch/work/c/chuw/ResonantAnalysis/HiggsDNA/higgs_dna/samples/sample_manager.py#140\" target=\"_blank\"><span style=\"color: #7f7f7f; text-decoration-color: #7f7f7f\">140</span></a>\n",
       "         <span style=\"color: #800080; text-decoration-color: #800080\">anoAODv7/GluGluToBulkGravitonToHHTo2G4Q_M-1000_narrow_TuneCP5_</span> <span style=\"color: #7f7f7f; text-decoration-color: #7f7f7f\">                     </span>\n",
       "         <span style=\"color: #800080; text-decoration-color: #800080\">PSWeights_13TeV-madgraph-pythia8/NANOAODSIM/PU2017_12Apr2018_N</span> <span style=\"color: #7f7f7f; text-decoration-color: #7f7f7f\">                     </span>\n",
       "         <span style=\"color: #800080; text-decoration-color: #800080\">ano02Apr2020_102X_mc2017_realistic_v8-v1/130000/</span><span style=\"color: #ff00ff; text-decoration-color: #ff00ff\">1BBF3E55-2810-</span> <span style=\"color: #7f7f7f; text-decoration-color: #7f7f7f\">                     </span>\n",
       "         <span style=\"color: #ff00ff; text-decoration-color: #ff00ff\">FD4A-886B-472DB9C1BF34.root</span>                                    <span style=\"color: #7f7f7f; text-decoration-color: #7f7f7f\">                     </span>\n",
       "</pre>\n"
      ],
      "text/plain": [
       "\u001b[32mDEBUG   \u001b[0m          root:\u001b[35m/\u001b[0m\u001b[35m/cms-xrd-global.cern.ch/\u001b[0m\u001b[35m/\u001b[0m\u001b[35m/store/mc/RunIIFall17N\u001b[0m \u001b]8;id=451144;file:///afs/cern.ch/work/c/chuw/ResonantAnalysis/HiggsDNA/higgs_dna/samples/sample_manager.py\u001b\\\u001b[2msample_manager.py\u001b[0m\u001b]8;;\u001b\\\u001b[2m:\u001b[0m\u001b]8;id=811157;file:///afs/cern.ch/work/c/chuw/ResonantAnalysis/HiggsDNA/higgs_dna/samples/sample_manager.py#140\u001b\\\u001b[2m140\u001b[0m\u001b]8;;\u001b\\\n",
       "         \u001b[35manoAODv7/GluGluToBulkGravitonToHHTo2G4Q_M-1000_narrow_TuneCP5_\u001b[0m \u001b[2m                     \u001b[0m\n",
       "         \u001b[35mPSWeights_13TeV-madgraph-pythia8/NANOAODSIM/PU2017_12Apr2018_N\u001b[0m \u001b[2m                     \u001b[0m\n",
       "         \u001b[35mano02Apr2020_102X_mc2017_realistic_v8-v1/130000/\u001b[0m\u001b[95m1BBF3E55-2810-\u001b[0m \u001b[2m                     \u001b[0m\n",
       "         \u001b[95mFD4A-886B-472DB9C1BF34.root\u001b[0m                                    \u001b[2m                     \u001b[0m\n"
      ]
     },
     "metadata": {},
     "output_type": "display_data"
    },
    {
     "data": {
      "text/html": [
       "<pre style=\"white-space:pre;overflow-x:auto;line-height:normal;font-family:Menlo,'DejaVu Sans Mono',consolas,'Courier New',monospace\"><span style=\"color: #008000; text-decoration-color: #008000\">DEBUG   </span>          root:<span style=\"color: #800080; text-decoration-color: #800080\">//cms-xrd-global.cern.ch///store/mc/RunIIFall17N</span> <a href=\"file:///afs/cern.ch/work/c/chuw/ResonantAnalysis/HiggsDNA/higgs_dna/samples/sample_manager.py\" target=\"_blank\"><span style=\"color: #7f7f7f; text-decoration-color: #7f7f7f\">sample_manager.py</span></a><span style=\"color: #7f7f7f; text-decoration-color: #7f7f7f\">:</span><a href=\"file:///afs/cern.ch/work/c/chuw/ResonantAnalysis/HiggsDNA/higgs_dna/samples/sample_manager.py#140\" target=\"_blank\"><span style=\"color: #7f7f7f; text-decoration-color: #7f7f7f\">140</span></a>\n",
       "         <span style=\"color: #800080; text-decoration-color: #800080\">anoAODv7/GluGluToBulkGravitonToHHTo2G4Q_M-1000_narrow_TuneCP5_</span> <span style=\"color: #7f7f7f; text-decoration-color: #7f7f7f\">                     </span>\n",
       "         <span style=\"color: #800080; text-decoration-color: #800080\">PSWeights_13TeV-madgraph-pythia8/NANOAODSIM/PU2017_12Apr2018_N</span> <span style=\"color: #7f7f7f; text-decoration-color: #7f7f7f\">                     </span>\n",
       "         <span style=\"color: #800080; text-decoration-color: #800080\">ano02Apr2020_102X_mc2017_realistic_v8-v1/130000/</span><span style=\"color: #ff00ff; text-decoration-color: #ff00ff\">250EF3BE-5626-</span> <span style=\"color: #7f7f7f; text-decoration-color: #7f7f7f\">                     </span>\n",
       "         <span style=\"color: #ff00ff; text-decoration-color: #ff00ff\">4941-A681-E1B091CFA653.root</span>                                    <span style=\"color: #7f7f7f; text-decoration-color: #7f7f7f\">                     </span>\n",
       "</pre>\n"
      ],
      "text/plain": [
       "\u001b[32mDEBUG   \u001b[0m          root:\u001b[35m/\u001b[0m\u001b[35m/cms-xrd-global.cern.ch/\u001b[0m\u001b[35m/\u001b[0m\u001b[35m/store/mc/RunIIFall17N\u001b[0m \u001b]8;id=389694;file:///afs/cern.ch/work/c/chuw/ResonantAnalysis/HiggsDNA/higgs_dna/samples/sample_manager.py\u001b\\\u001b[2msample_manager.py\u001b[0m\u001b]8;;\u001b\\\u001b[2m:\u001b[0m\u001b]8;id=82034;file:///afs/cern.ch/work/c/chuw/ResonantAnalysis/HiggsDNA/higgs_dna/samples/sample_manager.py#140\u001b\\\u001b[2m140\u001b[0m\u001b]8;;\u001b\\\n",
       "         \u001b[35manoAODv7/GluGluToBulkGravitonToHHTo2G4Q_M-1000_narrow_TuneCP5_\u001b[0m \u001b[2m                     \u001b[0m\n",
       "         \u001b[35mPSWeights_13TeV-madgraph-pythia8/NANOAODSIM/PU2017_12Apr2018_N\u001b[0m \u001b[2m                     \u001b[0m\n",
       "         \u001b[35mano02Apr2020_102X_mc2017_realistic_v8-v1/130000/\u001b[0m\u001b[95m250EF3BE-5626-\u001b[0m \u001b[2m                     \u001b[0m\n",
       "         \u001b[95m4941-A681-E1B091CFA653.root\u001b[0m                                    \u001b[2m                     \u001b[0m\n"
      ]
     },
     "metadata": {},
     "output_type": "display_data"
    },
    {
     "data": {
      "text/html": [
       "<pre style=\"white-space:pre;overflow-x:auto;line-height:normal;font-family:Menlo,'DejaVu Sans Mono',consolas,'Courier New',monospace\"><span style=\"color: #008000; text-decoration-color: #008000\">DEBUG   </span>          root:<span style=\"color: #800080; text-decoration-color: #800080\">//cms-xrd-global.cern.ch///store/mc/RunIIFall17N</span> <a href=\"file:///afs/cern.ch/work/c/chuw/ResonantAnalysis/HiggsDNA/higgs_dna/samples/sample_manager.py\" target=\"_blank\"><span style=\"color: #7f7f7f; text-decoration-color: #7f7f7f\">sample_manager.py</span></a><span style=\"color: #7f7f7f; text-decoration-color: #7f7f7f\">:</span><a href=\"file:///afs/cern.ch/work/c/chuw/ResonantAnalysis/HiggsDNA/higgs_dna/samples/sample_manager.py#140\" target=\"_blank\"><span style=\"color: #7f7f7f; text-decoration-color: #7f7f7f\">140</span></a>\n",
       "         <span style=\"color: #800080; text-decoration-color: #800080\">anoAODv7/GluGluToBulkGravitonToHHTo2G4Q_M-1000_narrow_TuneCP5_</span> <span style=\"color: #7f7f7f; text-decoration-color: #7f7f7f\">                     </span>\n",
       "         <span style=\"color: #800080; text-decoration-color: #800080\">PSWeights_13TeV-madgraph-pythia8/NANOAODSIM/PU2017_12Apr2018_N</span> <span style=\"color: #7f7f7f; text-decoration-color: #7f7f7f\">                     </span>\n",
       "         <span style=\"color: #800080; text-decoration-color: #800080\">ano02Apr2020_102X_mc2017_realistic_v8-v1/130000/</span><span style=\"color: #ff00ff; text-decoration-color: #ff00ff\">9FD388B4-8C15-</span> <span style=\"color: #7f7f7f; text-decoration-color: #7f7f7f\">                     </span>\n",
       "         <span style=\"color: #ff00ff; text-decoration-color: #ff00ff\">3049-94C1-AEEF9F7B4FC0.root</span>                                    <span style=\"color: #7f7f7f; text-decoration-color: #7f7f7f\">                     </span>\n",
       "</pre>\n"
      ],
      "text/plain": [
       "\u001b[32mDEBUG   \u001b[0m          root:\u001b[35m/\u001b[0m\u001b[35m/cms-xrd-global.cern.ch/\u001b[0m\u001b[35m/\u001b[0m\u001b[35m/store/mc/RunIIFall17N\u001b[0m \u001b]8;id=779268;file:///afs/cern.ch/work/c/chuw/ResonantAnalysis/HiggsDNA/higgs_dna/samples/sample_manager.py\u001b\\\u001b[2msample_manager.py\u001b[0m\u001b]8;;\u001b\\\u001b[2m:\u001b[0m\u001b]8;id=325130;file:///afs/cern.ch/work/c/chuw/ResonantAnalysis/HiggsDNA/higgs_dna/samples/sample_manager.py#140\u001b\\\u001b[2m140\u001b[0m\u001b]8;;\u001b\\\n",
       "         \u001b[35manoAODv7/GluGluToBulkGravitonToHHTo2G4Q_M-1000_narrow_TuneCP5_\u001b[0m \u001b[2m                     \u001b[0m\n",
       "         \u001b[35mPSWeights_13TeV-madgraph-pythia8/NANOAODSIM/PU2017_12Apr2018_N\u001b[0m \u001b[2m                     \u001b[0m\n",
       "         \u001b[35mano02Apr2020_102X_mc2017_realistic_v8-v1/130000/\u001b[0m\u001b[95m9FD388B4-8C15-\u001b[0m \u001b[2m                     \u001b[0m\n",
       "         \u001b[95m3049-94C1-AEEF9F7B4FC0.root\u001b[0m                                    \u001b[2m                     \u001b[0m\n"
      ]
     },
     "metadata": {},
     "output_type": "display_data"
    },
    {
     "data": {
      "text/html": [
       "<pre style=\"white-space:pre;overflow-x:auto;line-height:normal;font-family:Menlo,'DejaVu Sans Mono',consolas,'Courier New',monospace\"><span style=\"color: #008000; text-decoration-color: #008000\">DEBUG   </span>          root:<span style=\"color: #800080; text-decoration-color: #800080\">//cms-xrd-global.cern.ch///store/mc/RunIIFall17N</span> <a href=\"file:///afs/cern.ch/work/c/chuw/ResonantAnalysis/HiggsDNA/higgs_dna/samples/sample_manager.py\" target=\"_blank\"><span style=\"color: #7f7f7f; text-decoration-color: #7f7f7f\">sample_manager.py</span></a><span style=\"color: #7f7f7f; text-decoration-color: #7f7f7f\">:</span><a href=\"file:///afs/cern.ch/work/c/chuw/ResonantAnalysis/HiggsDNA/higgs_dna/samples/sample_manager.py#140\" target=\"_blank\"><span style=\"color: #7f7f7f; text-decoration-color: #7f7f7f\">140</span></a>\n",
       "         <span style=\"color: #800080; text-decoration-color: #800080\">anoAODv7/GluGluToBulkGravitonToHHTo2G4Q_M-1000_narrow_TuneCP5_</span> <span style=\"color: #7f7f7f; text-decoration-color: #7f7f7f\">                     </span>\n",
       "         <span style=\"color: #800080; text-decoration-color: #800080\">PSWeights_13TeV-madgraph-pythia8/NANOAODSIM/PU2017_12Apr2018_N</span> <span style=\"color: #7f7f7f; text-decoration-color: #7f7f7f\">                     </span>\n",
       "         <span style=\"color: #800080; text-decoration-color: #800080\">ano02Apr2020_102X_mc2017_realistic_v8-v1/130000/</span><span style=\"color: #ff00ff; text-decoration-color: #ff00ff\">A56354AE-A1BF-</span> <span style=\"color: #7f7f7f; text-decoration-color: #7f7f7f\">                     </span>\n",
       "         <span style=\"color: #ff00ff; text-decoration-color: #ff00ff\">B54C-85B2-CF5D528FDA7F.root</span>                                    <span style=\"color: #7f7f7f; text-decoration-color: #7f7f7f\">                     </span>\n",
       "</pre>\n"
      ],
      "text/plain": [
       "\u001b[32mDEBUG   \u001b[0m          root:\u001b[35m/\u001b[0m\u001b[35m/cms-xrd-global.cern.ch/\u001b[0m\u001b[35m/\u001b[0m\u001b[35m/store/mc/RunIIFall17N\u001b[0m \u001b]8;id=751311;file:///afs/cern.ch/work/c/chuw/ResonantAnalysis/HiggsDNA/higgs_dna/samples/sample_manager.py\u001b\\\u001b[2msample_manager.py\u001b[0m\u001b]8;;\u001b\\\u001b[2m:\u001b[0m\u001b]8;id=731863;file:///afs/cern.ch/work/c/chuw/ResonantAnalysis/HiggsDNA/higgs_dna/samples/sample_manager.py#140\u001b\\\u001b[2m140\u001b[0m\u001b]8;;\u001b\\\n",
       "         \u001b[35manoAODv7/GluGluToBulkGravitonToHHTo2G4Q_M-1000_narrow_TuneCP5_\u001b[0m \u001b[2m                     \u001b[0m\n",
       "         \u001b[35mPSWeights_13TeV-madgraph-pythia8/NANOAODSIM/PU2017_12Apr2018_N\u001b[0m \u001b[2m                     \u001b[0m\n",
       "         \u001b[35mano02Apr2020_102X_mc2017_realistic_v8-v1/130000/\u001b[0m\u001b[95mA56354AE-A1BF-\u001b[0m \u001b[2m                     \u001b[0m\n",
       "         \u001b[95mB54C-85B2-CF5D528FDA7F.root\u001b[0m                                    \u001b[2m                     \u001b[0m\n"
      ]
     },
     "metadata": {},
     "output_type": "display_data"
    },
    {
     "data": {
      "text/html": [
       "<pre style=\"white-space:pre;overflow-x:auto;line-height:normal;font-family:Menlo,'DejaVu Sans Mono',consolas,'Courier New',monospace\"><span style=\"color: #008000; text-decoration-color: #008000\">DEBUG   </span>          root:<span style=\"color: #800080; text-decoration-color: #800080\">//cms-xrd-global.cern.ch///store/mc/RunIIFall17N</span> <a href=\"file:///afs/cern.ch/work/c/chuw/ResonantAnalysis/HiggsDNA/higgs_dna/samples/sample_manager.py\" target=\"_blank\"><span style=\"color: #7f7f7f; text-decoration-color: #7f7f7f\">sample_manager.py</span></a><span style=\"color: #7f7f7f; text-decoration-color: #7f7f7f\">:</span><a href=\"file:///afs/cern.ch/work/c/chuw/ResonantAnalysis/HiggsDNA/higgs_dna/samples/sample_manager.py#140\" target=\"_blank\"><span style=\"color: #7f7f7f; text-decoration-color: #7f7f7f\">140</span></a>\n",
       "         <span style=\"color: #800080; text-decoration-color: #800080\">anoAODv7/GluGluToBulkGravitonToHHTo2G4Q_M-1000_narrow_TuneCP5_</span> <span style=\"color: #7f7f7f; text-decoration-color: #7f7f7f\">                     </span>\n",
       "         <span style=\"color: #800080; text-decoration-color: #800080\">PSWeights_13TeV-madgraph-pythia8/NANOAODSIM/PU2017_12Apr2018_N</span> <span style=\"color: #7f7f7f; text-decoration-color: #7f7f7f\">                     </span>\n",
       "         <span style=\"color: #800080; text-decoration-color: #800080\">ano02Apr2020_102X_mc2017_realistic_v8-v1/130000/</span><span style=\"color: #ff00ff; text-decoration-color: #ff00ff\">DC774C48-DAB5-</span> <span style=\"color: #7f7f7f; text-decoration-color: #7f7f7f\">                     </span>\n",
       "         <span style=\"color: #ff00ff; text-decoration-color: #ff00ff\">DC4A-90B6-2D42CF622E89.root</span>                                    <span style=\"color: #7f7f7f; text-decoration-color: #7f7f7f\">                     </span>\n",
       "</pre>\n"
      ],
      "text/plain": [
       "\u001b[32mDEBUG   \u001b[0m          root:\u001b[35m/\u001b[0m\u001b[35m/cms-xrd-global.cern.ch/\u001b[0m\u001b[35m/\u001b[0m\u001b[35m/store/mc/RunIIFall17N\u001b[0m \u001b]8;id=901394;file:///afs/cern.ch/work/c/chuw/ResonantAnalysis/HiggsDNA/higgs_dna/samples/sample_manager.py\u001b\\\u001b[2msample_manager.py\u001b[0m\u001b]8;;\u001b\\\u001b[2m:\u001b[0m\u001b]8;id=771663;file:///afs/cern.ch/work/c/chuw/ResonantAnalysis/HiggsDNA/higgs_dna/samples/sample_manager.py#140\u001b\\\u001b[2m140\u001b[0m\u001b]8;;\u001b\\\n",
       "         \u001b[35manoAODv7/GluGluToBulkGravitonToHHTo2G4Q_M-1000_narrow_TuneCP5_\u001b[0m \u001b[2m                     \u001b[0m\n",
       "         \u001b[35mPSWeights_13TeV-madgraph-pythia8/NANOAODSIM/PU2017_12Apr2018_N\u001b[0m \u001b[2m                     \u001b[0m\n",
       "         \u001b[35mano02Apr2020_102X_mc2017_realistic_v8-v1/130000/\u001b[0m\u001b[95mDC774C48-DAB5-\u001b[0m \u001b[2m                     \u001b[0m\n",
       "         \u001b[95mDC4A-90B6-2D42CF622E89.root\u001b[0m                                    \u001b[2m                     \u001b[0m\n"
      ]
     },
     "metadata": {},
     "output_type": "display_data"
    },
    {
     "data": {
      "text/html": [
       "<pre style=\"white-space:pre;overflow-x:auto;line-height:normal;font-family:Menlo,'DejaVu Sans Mono',consolas,'Courier New',monospace\"><span style=\"color: #008000; text-decoration-color: #008000\">DEBUG   </span>          root:<span style=\"color: #800080; text-decoration-color: #800080\">//cms-xrd-global.cern.ch///store/mc/RunIIFall17N</span> <a href=\"file:///afs/cern.ch/work/c/chuw/ResonantAnalysis/HiggsDNA/higgs_dna/samples/sample_manager.py\" target=\"_blank\"><span style=\"color: #7f7f7f; text-decoration-color: #7f7f7f\">sample_manager.py</span></a><span style=\"color: #7f7f7f; text-decoration-color: #7f7f7f\">:</span><a href=\"file:///afs/cern.ch/work/c/chuw/ResonantAnalysis/HiggsDNA/higgs_dna/samples/sample_manager.py#140\" target=\"_blank\"><span style=\"color: #7f7f7f; text-decoration-color: #7f7f7f\">140</span></a>\n",
       "         <span style=\"color: #800080; text-decoration-color: #800080\">anoAODv7/GluGluToBulkGravitonToHHTo2G4Q_M-1000_narrow_TuneCP5_</span> <span style=\"color: #7f7f7f; text-decoration-color: #7f7f7f\">                     </span>\n",
       "         <span style=\"color: #800080; text-decoration-color: #800080\">PSWeights_13TeV-madgraph-pythia8/NANOAODSIM/PU2017_12Apr2018_N</span> <span style=\"color: #7f7f7f; text-decoration-color: #7f7f7f\">                     </span>\n",
       "         <span style=\"color: #800080; text-decoration-color: #800080\">ano02Apr2020_102X_mc2017_realistic_v8-v1/260000/</span><span style=\"color: #ff00ff; text-decoration-color: #ff00ff\">8E450768-0F24-</span> <span style=\"color: #7f7f7f; text-decoration-color: #7f7f7f\">                     </span>\n",
       "         <span style=\"color: #ff00ff; text-decoration-color: #ff00ff\">5A41-B1F5-50C3445BFE88.root</span>                                    <span style=\"color: #7f7f7f; text-decoration-color: #7f7f7f\">                     </span>\n",
       "</pre>\n"
      ],
      "text/plain": [
       "\u001b[32mDEBUG   \u001b[0m          root:\u001b[35m/\u001b[0m\u001b[35m/cms-xrd-global.cern.ch/\u001b[0m\u001b[35m/\u001b[0m\u001b[35m/store/mc/RunIIFall17N\u001b[0m \u001b]8;id=23189;file:///afs/cern.ch/work/c/chuw/ResonantAnalysis/HiggsDNA/higgs_dna/samples/sample_manager.py\u001b\\\u001b[2msample_manager.py\u001b[0m\u001b]8;;\u001b\\\u001b[2m:\u001b[0m\u001b]8;id=901507;file:///afs/cern.ch/work/c/chuw/ResonantAnalysis/HiggsDNA/higgs_dna/samples/sample_manager.py#140\u001b\\\u001b[2m140\u001b[0m\u001b]8;;\u001b\\\n",
       "         \u001b[35manoAODv7/GluGluToBulkGravitonToHHTo2G4Q_M-1000_narrow_TuneCP5_\u001b[0m \u001b[2m                     \u001b[0m\n",
       "         \u001b[35mPSWeights_13TeV-madgraph-pythia8/NANOAODSIM/PU2017_12Apr2018_N\u001b[0m \u001b[2m                     \u001b[0m\n",
       "         \u001b[35mano02Apr2020_102X_mc2017_realistic_v8-v1/260000/\u001b[0m\u001b[95m8E450768-0F24-\u001b[0m \u001b[2m                     \u001b[0m\n",
       "         \u001b[95m5A41-B1F5-50C3445BFE88.root\u001b[0m                                    \u001b[2m                     \u001b[0m\n"
      ]
     },
     "metadata": {},
     "output_type": "display_data"
    },
    {
     "data": {
      "text/html": [
       "<pre style=\"white-space:pre;overflow-x:auto;line-height:normal;font-family:Menlo,'DejaVu Sans Mono',consolas,'Courier New',monospace\"><span style=\"color: #008000; text-decoration-color: #008000\">DEBUG   </span>          root:<span style=\"color: #800080; text-decoration-color: #800080\">//cms-xrd-global.cern.ch///store/mc/RunIIFall17N</span> <a href=\"file:///afs/cern.ch/work/c/chuw/ResonantAnalysis/HiggsDNA/higgs_dna/samples/sample_manager.py\" target=\"_blank\"><span style=\"color: #7f7f7f; text-decoration-color: #7f7f7f\">sample_manager.py</span></a><span style=\"color: #7f7f7f; text-decoration-color: #7f7f7f\">:</span><a href=\"file:///afs/cern.ch/work/c/chuw/ResonantAnalysis/HiggsDNA/higgs_dna/samples/sample_manager.py#140\" target=\"_blank\"><span style=\"color: #7f7f7f; text-decoration-color: #7f7f7f\">140</span></a>\n",
       "         <span style=\"color: #800080; text-decoration-color: #800080\">anoAODv7/GluGluToBulkGravitonToHHTo2G4Q_M-1000_narrow_TuneCP5_</span> <span style=\"color: #7f7f7f; text-decoration-color: #7f7f7f\">                     </span>\n",
       "         <span style=\"color: #800080; text-decoration-color: #800080\">PSWeights_13TeV-madgraph-pythia8/NANOAODSIM/PU2017_12Apr2018_N</span> <span style=\"color: #7f7f7f; text-decoration-color: #7f7f7f\">                     </span>\n",
       "         <span style=\"color: #800080; text-decoration-color: #800080\">ano02Apr2020_102X_mc2017_realistic_v8-v1/280000/</span><span style=\"color: #ff00ff; text-decoration-color: #ff00ff\">2B16A6E1-5453-</span> <span style=\"color: #7f7f7f; text-decoration-color: #7f7f7f\">                     </span>\n",
       "         <span style=\"color: #ff00ff; text-decoration-color: #ff00ff\">454C-B53A-DAFFE0A14EFB.root</span>                                    <span style=\"color: #7f7f7f; text-decoration-color: #7f7f7f\">                     </span>\n",
       "</pre>\n"
      ],
      "text/plain": [
       "\u001b[32mDEBUG   \u001b[0m          root:\u001b[35m/\u001b[0m\u001b[35m/cms-xrd-global.cern.ch/\u001b[0m\u001b[35m/\u001b[0m\u001b[35m/store/mc/RunIIFall17N\u001b[0m \u001b]8;id=477744;file:///afs/cern.ch/work/c/chuw/ResonantAnalysis/HiggsDNA/higgs_dna/samples/sample_manager.py\u001b\\\u001b[2msample_manager.py\u001b[0m\u001b]8;;\u001b\\\u001b[2m:\u001b[0m\u001b]8;id=376078;file:///afs/cern.ch/work/c/chuw/ResonantAnalysis/HiggsDNA/higgs_dna/samples/sample_manager.py#140\u001b\\\u001b[2m140\u001b[0m\u001b]8;;\u001b\\\n",
       "         \u001b[35manoAODv7/GluGluToBulkGravitonToHHTo2G4Q_M-1000_narrow_TuneCP5_\u001b[0m \u001b[2m                     \u001b[0m\n",
       "         \u001b[35mPSWeights_13TeV-madgraph-pythia8/NANOAODSIM/PU2017_12Apr2018_N\u001b[0m \u001b[2m                     \u001b[0m\n",
       "         \u001b[35mano02Apr2020_102X_mc2017_realistic_v8-v1/280000/\u001b[0m\u001b[95m2B16A6E1-5453-\u001b[0m \u001b[2m                     \u001b[0m\n",
       "         \u001b[95m454C-B53A-DAFFE0A14EFB.root\u001b[0m                                    \u001b[2m                     \u001b[0m\n"
      ]
     },
     "metadata": {},
     "output_type": "display_data"
    },
    {
     "data": {
      "text/html": [
       "<pre style=\"white-space:pre;overflow-x:auto;line-height:normal;font-family:Menlo,'DejaVu Sans Mono',consolas,'Courier New',monospace\"><span style=\"color: #008000; text-decoration-color: #008000\">DEBUG   </span> <span style=\"font-weight: bold\">[</span>SampleManager : get_samples<span style=\"font-weight: bold\">]</span> For sample                       <a href=\"file:///afs/cern.ch/work/c/chuw/ResonantAnalysis/HiggsDNA/higgs_dna/samples/sample_manager.py\" target=\"_blank\"><span style=\"color: #7f7f7f; text-decoration-color: #7f7f7f\">sample_manager.py</span></a><span style=\"color: #7f7f7f; text-decoration-color: #7f7f7f\">:</span><a href=\"file:///afs/cern.ch/work/c/chuw/ResonantAnalysis/HiggsDNA/higgs_dna/samples/sample_manager.py#148\" target=\"_blank\"><span style=\"color: #7f7f7f; text-decoration-color: #7f7f7f\">148</span></a>\n",
       "         <span style=\"color: #008000; text-decoration-color: #008000\">'GluGluToBulkGravitonToHHTo2G4Q_M1000'</span>, year <span style=\"color: #008000; text-decoration-color: #008000\">'2017'</span> adding     <span style=\"color: #7f7f7f; text-decoration-color: #7f7f7f\">                     </span>\n",
       "         sample-specific systematics: <span style=\"font-weight: bold\">{</span><span style=\"color: #008000; text-decoration-color: #008000\">'weights'</span>:                       <span style=\"color: #7f7f7f; text-decoration-color: #7f7f7f\">                     </span>\n",
       "         <span style=\"font-weight: bold\">{</span><span style=\"color: #008000; text-decoration-color: #008000\">'dummy_ttH_theory_sf'</span>: <span style=\"font-weight: bold\">{</span><span style=\"color: #008000; text-decoration-color: #008000\">'type'</span>: <span style=\"color: #008000; text-decoration-color: #008000\">'event'</span>, <span style=\"color: #008000; text-decoration-color: #008000\">'method'</span>:            <span style=\"color: #7f7f7f; text-decoration-color: #7f7f7f\">                     </span>\n",
       "         <span style=\"color: #008000; text-decoration-color: #008000\">'from_branch'</span>, <span style=\"color: #008000; text-decoration-color: #008000\">'branches'</span>: <span style=\"font-weight: bold\">{</span><span style=\"color: #008000; text-decoration-color: #008000\">'central'</span>: <span style=\"color: #008000; text-decoration-color: #008000\">'genWeight'</span>, <span style=\"color: #008000; text-decoration-color: #008000\">'up'</span>:      <span style=\"color: #7f7f7f; text-decoration-color: #7f7f7f\">                     </span>\n",
       "         <span style=\"color: #008000; text-decoration-color: #008000\">'genWeight'</span>, <span style=\"color: #008000; text-decoration-color: #008000\">'down'</span>: <span style=\"color: #008000; text-decoration-color: #008000\">'genWeight'</span><span style=\"font-weight: bold\">}</span>, <span style=\"color: #008000; text-decoration-color: #008000\">'modify_central_weight'</span>:    <span style=\"color: #7f7f7f; text-decoration-color: #7f7f7f\">                     </span>\n",
       "         <span style=\"color: #ff0000; text-decoration-color: #ff0000; font-style: italic\">False</span><span style=\"font-weight: bold\">}}}</span>                                                       <span style=\"color: #7f7f7f; text-decoration-color: #7f7f7f\">                     </span>\n",
       "</pre>\n"
      ],
      "text/plain": [
       "\u001b[32mDEBUG   \u001b[0m \u001b[1m[\u001b[0mSampleManager : get_samples\u001b[1m]\u001b[0m For sample                       \u001b]8;id=891287;file:///afs/cern.ch/work/c/chuw/ResonantAnalysis/HiggsDNA/higgs_dna/samples/sample_manager.py\u001b\\\u001b[2msample_manager.py\u001b[0m\u001b]8;;\u001b\\\u001b[2m:\u001b[0m\u001b]8;id=91514;file:///afs/cern.ch/work/c/chuw/ResonantAnalysis/HiggsDNA/higgs_dna/samples/sample_manager.py#148\u001b\\\u001b[2m148\u001b[0m\u001b]8;;\u001b\\\n",
       "         \u001b[32m'GluGluToBulkGravitonToHHTo2G4Q_M1000'\u001b[0m, year \u001b[32m'2017'\u001b[0m adding     \u001b[2m                     \u001b[0m\n",
       "         sample-specific systematics: \u001b[1m{\u001b[0m\u001b[32m'weights'\u001b[0m:                       \u001b[2m                     \u001b[0m\n",
       "         \u001b[1m{\u001b[0m\u001b[32m'dummy_ttH_theory_sf'\u001b[0m: \u001b[1m{\u001b[0m\u001b[32m'type'\u001b[0m: \u001b[32m'event'\u001b[0m, \u001b[32m'method'\u001b[0m:            \u001b[2m                     \u001b[0m\n",
       "         \u001b[32m'from_branch'\u001b[0m, \u001b[32m'branches'\u001b[0m: \u001b[1m{\u001b[0m\u001b[32m'central'\u001b[0m: \u001b[32m'genWeight'\u001b[0m, \u001b[32m'up'\u001b[0m:      \u001b[2m                     \u001b[0m\n",
       "         \u001b[32m'genWeight'\u001b[0m, \u001b[32m'down'\u001b[0m: \u001b[32m'genWeight'\u001b[0m\u001b[1m}\u001b[0m, \u001b[32m'modify_central_weight'\u001b[0m:    \u001b[2m                     \u001b[0m\n",
       "         \u001b[3;91mFalse\u001b[0m\u001b[1m}\u001b[0m\u001b[1m}\u001b[0m\u001b[1m}\u001b[0m                                                       \u001b[2m                     \u001b[0m\n"
      ]
     },
     "metadata": {},
     "output_type": "display_data"
    },
    {
     "name": "stderr",
     "output_type": "stream",
     "text": [
      "100%|█████████████████████████████████████████████████████████████████| 1/1 [00:00<00:00, 14.94it/s]\n",
      "/afs/cern.ch/work/c/chuw/.higgsenv/lib/python3.9/site-packages/uproot/reading.py:171: FutureWarning: XRootD 5.1.1 is not fully supported; either upgrade to 5.2.0+ or set\n",
      "\n",
      "    open.defaults[\"xrootd_handler\"] = uproot.MultithreadedXRootDSource\n",
      "\n",
      "  warnings.warn(message, FutureWarning)\n"
     ]
    },
    {
     "ename": "OSError",
     "evalue": "XRootD error: [FATAL] Redirect limit has been reached\nin file root://cms-xrd-global.cern.ch///store/mc/RunIIFall17NanoAODv7/GluGluToBulkGravitonToHHTo2G4Q_M-1000_narrow_TuneCP5_PSWeights_13TeV-madgraph-pythia8/NANOAODSIM/PU2017_12Apr2018_Nano02Apr2020_102X_mc2017_realistic_v8-v1/100000/9E9CEC5B-2EBF-A640-A4D5-832E5D559DDA.root",
     "output_type": "error",
     "traceback": [
      "\u001b[0;31m---------------------------------------------------------------------------\u001b[0m",
      "\u001b[0;31mOSError\u001b[0m                                   Traceback (most recent call last)",
      "Input \u001b[0;32mIn [5]\u001b[0m, in \u001b[0;36m<cell line: 19>\u001b[0;34m()\u001b[0m\n\u001b[1;32m     16\u001b[0m \u001b[38;5;28;01mimport\u001b[39;00m \u001b[38;5;21;01muproot\u001b[39;00m\u001b[38;5;241m,\u001b[39m \u001b[38;5;21;01mawkward\u001b[39;00m\n\u001b[1;32m     18\u001b[0m file \u001b[38;5;241m=\u001b[39m sample\u001b[38;5;241m.\u001b[39mfiles[\u001b[38;5;241m0\u001b[39m]\u001b[38;5;241m.\u001b[39mname\n\u001b[0;32m---> 19\u001b[0m \u001b[38;5;28;01mwith\u001b[39;00m \u001b[43muproot\u001b[49m\u001b[38;5;241;43m.\u001b[39;49m\u001b[43mopen\u001b[49m\u001b[43m(\u001b[49m\u001b[43mfile\u001b[49m\u001b[43m)\u001b[49m \u001b[38;5;28;01mas\u001b[39;00m f:\n\u001b[1;32m     20\u001b[0m     tree \u001b[38;5;241m=\u001b[39m f[\u001b[38;5;124m\"\u001b[39m\u001b[38;5;124mEvents\u001b[39m\u001b[38;5;124m\"\u001b[39m]\n\u001b[1;32m     21\u001b[0m     events \u001b[38;5;241m=\u001b[39m tree\u001b[38;5;241m.\u001b[39marrays(library \u001b[38;5;241m=\u001b[39m \u001b[38;5;124m\"\u001b[39m\u001b[38;5;124mak\u001b[39m\u001b[38;5;124m\"\u001b[39m, how \u001b[38;5;241m=\u001b[39m \u001b[38;5;124m\"\u001b[39m\u001b[38;5;124mzip\u001b[39m\u001b[38;5;124m\"\u001b[39m)\n",
      "File \u001b[0;32m/afs/cern.ch/work/c/chuw/.higgsenv/lib/python3.9/site-packages/uproot/reading.py:141\u001b[0m, in \u001b[0;36mopen\u001b[0;34m(path, object_cache, array_cache, custom_classes, decompression_executor, interpretation_executor, **options)\u001b[0m\n\u001b[1;32m    132\u001b[0m \u001b[38;5;28;01mif\u001b[39;00m \u001b[38;5;129;01mnot\u001b[39;00m uproot\u001b[38;5;241m.\u001b[39m_util\u001b[38;5;241m.\u001b[39misstr(file_path) \u001b[38;5;129;01mand\u001b[39;00m \u001b[38;5;129;01mnot\u001b[39;00m (\n\u001b[1;32m    133\u001b[0m     \u001b[38;5;28mhasattr\u001b[39m(file_path, \u001b[38;5;124m\"\u001b[39m\u001b[38;5;124mread\u001b[39m\u001b[38;5;124m\"\u001b[39m) \u001b[38;5;129;01mand\u001b[39;00m \u001b[38;5;28mhasattr\u001b[39m(file_path, \u001b[38;5;124m\"\u001b[39m\u001b[38;5;124mseek\u001b[39m\u001b[38;5;124m\"\u001b[39m)\n\u001b[1;32m    134\u001b[0m ):\n\u001b[1;32m    135\u001b[0m     \u001b[38;5;28;01mraise\u001b[39;00m \u001b[38;5;167;01mValueError\u001b[39;00m(\n\u001b[1;32m    136\u001b[0m         \u001b[38;5;124m\"\u001b[39m\u001b[38;5;124m'\u001b[39m\u001b[38;5;124mpath\u001b[39m\u001b[38;5;124m'\u001b[39m\u001b[38;5;124m must be a string, pathlib.Path, an object with \u001b[39m\u001b[38;5;124m'\u001b[39m\u001b[38;5;124mread\u001b[39m\u001b[38;5;124m'\u001b[39m\u001b[38;5;124m and \u001b[39m\u001b[38;5;124m\"\u001b[39m\n\u001b[1;32m    137\u001b[0m         \u001b[38;5;124m\"\u001b[39m\u001b[38;5;124m'\u001b[39m\u001b[38;5;124mseek\u001b[39m\u001b[38;5;124m'\u001b[39m\u001b[38;5;124m methods, or a length-1 dict of \u001b[39m\u001b[38;5;124m{{\u001b[39m\u001b[38;5;124mfile_path: object_path}}, \u001b[39m\u001b[38;5;124m\"\u001b[39m\n\u001b[1;32m    138\u001b[0m         \u001b[38;5;124m\"\u001b[39m\u001b[38;5;124mnot \u001b[39m\u001b[38;5;132;01m{0}\u001b[39;00m\u001b[38;5;124m\"\u001b[39m\u001b[38;5;241m.\u001b[39mformat(\u001b[38;5;28mrepr\u001b[39m(path))\n\u001b[1;32m    139\u001b[0m     )\n\u001b[0;32m--> 141\u001b[0m file \u001b[38;5;241m=\u001b[39m \u001b[43mReadOnlyFile\u001b[49m\u001b[43m(\u001b[49m\n\u001b[1;32m    142\u001b[0m \u001b[43m    \u001b[49m\u001b[43mfile_path\u001b[49m\u001b[43m,\u001b[49m\n\u001b[1;32m    143\u001b[0m \u001b[43m    \u001b[49m\u001b[43mobject_cache\u001b[49m\u001b[38;5;241;43m=\u001b[39;49m\u001b[43mobject_cache\u001b[49m\u001b[43m,\u001b[49m\n\u001b[1;32m    144\u001b[0m \u001b[43m    \u001b[49m\u001b[43marray_cache\u001b[49m\u001b[38;5;241;43m=\u001b[39;49m\u001b[43marray_cache\u001b[49m\u001b[43m,\u001b[49m\n\u001b[1;32m    145\u001b[0m \u001b[43m    \u001b[49m\u001b[43mcustom_classes\u001b[49m\u001b[38;5;241;43m=\u001b[39;49m\u001b[43mcustom_classes\u001b[49m\u001b[43m,\u001b[49m\n\u001b[1;32m    146\u001b[0m \u001b[43m    \u001b[49m\u001b[43mdecompression_executor\u001b[49m\u001b[38;5;241;43m=\u001b[39;49m\u001b[43mdecompression_executor\u001b[49m\u001b[43m,\u001b[49m\n\u001b[1;32m    147\u001b[0m \u001b[43m    \u001b[49m\u001b[43minterpretation_executor\u001b[49m\u001b[38;5;241;43m=\u001b[39;49m\u001b[43minterpretation_executor\u001b[49m\u001b[43m,\u001b[49m\n\u001b[1;32m    148\u001b[0m \u001b[43m    \u001b[49m\u001b[38;5;241;43m*\u001b[39;49m\u001b[38;5;241;43m*\u001b[39;49m\u001b[43moptions\u001b[49m\u001b[43m,\u001b[49m\u001b[43m  \u001b[49m\u001b[38;5;66;43;03m# NOTE: a comma after **options breaks Python 2\u001b[39;49;00m\n\u001b[1;32m    149\u001b[0m \u001b[43m\u001b[49m\u001b[43m)\u001b[49m\n\u001b[1;32m    151\u001b[0m \u001b[38;5;28;01mif\u001b[39;00m object_path \u001b[38;5;129;01mis\u001b[39;00m \u001b[38;5;28;01mNone\u001b[39;00m:\n\u001b[1;32m    152\u001b[0m     \u001b[38;5;28;01mreturn\u001b[39;00m file\u001b[38;5;241m.\u001b[39mroot_directory\n",
      "File \u001b[0;32m/afs/cern.ch/work/c/chuw/.higgsenv/lib/python3.9/site-packages/uproot/reading.py:580\u001b[0m, in \u001b[0;36mReadOnlyFile.__init__\u001b[0;34m(self, file_path, object_cache, array_cache, custom_classes, decompression_executor, interpretation_executor, **options)\u001b[0m\n\u001b[1;32m    575\u001b[0m \u001b[38;5;28mself\u001b[39m\u001b[38;5;241m.\u001b[39mhook_before_create_source()\n\u001b[1;32m    577\u001b[0m Source, file_path \u001b[38;5;241m=\u001b[39m uproot\u001b[38;5;241m.\u001b[39m_util\u001b[38;5;241m.\u001b[39mfile_path_to_source_class(\n\u001b[1;32m    578\u001b[0m     file_path, \u001b[38;5;28mself\u001b[39m\u001b[38;5;241m.\u001b[39m_options\n\u001b[1;32m    579\u001b[0m )\n\u001b[0;32m--> 580\u001b[0m \u001b[38;5;28mself\u001b[39m\u001b[38;5;241m.\u001b[39m_source \u001b[38;5;241m=\u001b[39m \u001b[43mSource\u001b[49m\u001b[43m(\u001b[49m\n\u001b[1;32m    581\u001b[0m \u001b[43m    \u001b[49m\u001b[43mfile_path\u001b[49m\u001b[43m,\u001b[49m\u001b[43m \u001b[49m\u001b[38;5;241;43m*\u001b[39;49m\u001b[38;5;241;43m*\u001b[39;49m\u001b[38;5;28;43mself\u001b[39;49m\u001b[38;5;241;43m.\u001b[39;49m\u001b[43m_options\u001b[49m\u001b[43m  \u001b[49m\u001b[38;5;66;43;03m# NOTE: a comma after **options breaks Python 2\u001b[39;49;00m\n\u001b[1;32m    582\u001b[0m \u001b[43m\u001b[49m\u001b[43m)\u001b[49m\n\u001b[1;32m    584\u001b[0m \u001b[38;5;28mself\u001b[39m\u001b[38;5;241m.\u001b[39mhook_before_get_chunks()\n\u001b[1;32m    586\u001b[0m \u001b[38;5;28;01mif\u001b[39;00m \u001b[38;5;28mself\u001b[39m\u001b[38;5;241m.\u001b[39m_options[\u001b[38;5;124m\"\u001b[39m\u001b[38;5;124mbegin_chunk_size\u001b[39m\u001b[38;5;124m\"\u001b[39m] \u001b[38;5;241m<\u001b[39m _file_header_fields_big\u001b[38;5;241m.\u001b[39msize:\n",
      "File \u001b[0;32m/afs/cern.ch/work/c/chuw/.higgsenv/lib/python3.9/site-packages/uproot/source/xrootd.py:272\u001b[0m, in \u001b[0;36mXRootDSource.__init__\u001b[0;34m(self, file_path, **options)\u001b[0m\n\u001b[1;32m    270\u001b[0m \u001b[38;5;28mself\u001b[39m\u001b[38;5;241m.\u001b[39m_file_path \u001b[38;5;241m=\u001b[39m file_path\n\u001b[1;32m    271\u001b[0m \u001b[38;5;28mself\u001b[39m\u001b[38;5;241m.\u001b[39m_num_bytes \u001b[38;5;241m=\u001b[39m \u001b[38;5;28;01mNone\u001b[39;00m\n\u001b[0;32m--> 272\u001b[0m \u001b[38;5;28;43mself\u001b[39;49m\u001b[38;5;241;43m.\u001b[39;49m\u001b[43m_open\u001b[49m\u001b[43m(\u001b[49m\u001b[43m)\u001b[49m\n",
      "File \u001b[0;32m/afs/cern.ch/work/c/chuw/.higgsenv/lib/python3.9/site-packages/uproot/source/xrootd.py:275\u001b[0m, in \u001b[0;36mXRootDSource._open\u001b[0;34m(self)\u001b[0m\n\u001b[1;32m    274\u001b[0m \u001b[38;5;28;01mdef\u001b[39;00m \u001b[38;5;21m_open\u001b[39m(\u001b[38;5;28mself\u001b[39m):\n\u001b[0;32m--> 275\u001b[0m     \u001b[38;5;28mself\u001b[39m\u001b[38;5;241m.\u001b[39m_resource \u001b[38;5;241m=\u001b[39m \u001b[43mXRootDResource\u001b[49m\u001b[43m(\u001b[49m\u001b[38;5;28;43mself\u001b[39;49m\u001b[38;5;241;43m.\u001b[39;49m\u001b[43m_file_path\u001b[49m\u001b[43m,\u001b[49m\u001b[43m \u001b[49m\u001b[38;5;28;43mself\u001b[39;49m\u001b[38;5;241;43m.\u001b[39;49m\u001b[43m_timeout\u001b[49m\u001b[43m)\u001b[49m\n\u001b[1;32m    277\u001b[0m     \u001b[38;5;66;03m# this ThreadPool does not need a resource, it's only used to submit\u001b[39;00m\n\u001b[1;32m    278\u001b[0m     \u001b[38;5;66;03m# futures that wait for chunks that have been split to merge them.\u001b[39;00m\n\u001b[1;32m    279\u001b[0m     \u001b[38;5;28mself\u001b[39m\u001b[38;5;241m.\u001b[39m_executor \u001b[38;5;241m=\u001b[39m uproot\u001b[38;5;241m.\u001b[39msource\u001b[38;5;241m.\u001b[39mfutures\u001b[38;5;241m.\u001b[39mResourceThreadPoolExecutor(\n\u001b[1;32m    280\u001b[0m         [\u001b[38;5;28;01mNone\u001b[39;00m \u001b[38;5;28;01mfor\u001b[39;00m i \u001b[38;5;129;01min\u001b[39;00m \u001b[38;5;28mrange\u001b[39m(\u001b[38;5;28mself\u001b[39m\u001b[38;5;241m.\u001b[39m_num_workers)]\n\u001b[1;32m    281\u001b[0m     )\n",
      "File \u001b[0;32m/afs/cern.ch/work/c/chuw/.higgsenv/lib/python3.9/site-packages/uproot/source/xrootd.py:83\u001b[0m, in \u001b[0;36mXRootDResource.__init__\u001b[0;34m(self, file_path, timeout)\u001b[0m\n\u001b[1;32m     81\u001b[0m \u001b[38;5;28mself\u001b[39m\u001b[38;5;241m.\u001b[39m_file_path \u001b[38;5;241m=\u001b[39m file_path\n\u001b[1;32m     82\u001b[0m \u001b[38;5;28mself\u001b[39m\u001b[38;5;241m.\u001b[39m_timeout \u001b[38;5;241m=\u001b[39m timeout\n\u001b[0;32m---> 83\u001b[0m \u001b[38;5;28;43mself\u001b[39;49m\u001b[38;5;241;43m.\u001b[39;49m\u001b[43m_open\u001b[49m\u001b[43m(\u001b[49m\u001b[43m)\u001b[49m\n",
      "File \u001b[0;32m/afs/cern.ch/work/c/chuw/.higgsenv/lib/python3.9/site-packages/uproot/source/xrootd.py:92\u001b[0m, in \u001b[0;36mXRootDResource._open\u001b[0;34m(self)\u001b[0m\n\u001b[1;32m     90\u001b[0m status, dummy \u001b[38;5;241m=\u001b[39m \u001b[38;5;28mself\u001b[39m\u001b[38;5;241m.\u001b[39m_file\u001b[38;5;241m.\u001b[39mopen(\u001b[38;5;28mself\u001b[39m\u001b[38;5;241m.\u001b[39m_file_path, timeout\u001b[38;5;241m=\u001b[39m\u001b[38;5;28mself\u001b[39m\u001b[38;5;241m.\u001b[39m_xrd_timeout())\n\u001b[1;32m     91\u001b[0m \u001b[38;5;28;01mif\u001b[39;00m status\u001b[38;5;241m.\u001b[39merror:\n\u001b[0;32m---> 92\u001b[0m     \u001b[38;5;28;43mself\u001b[39;49m\u001b[38;5;241;43m.\u001b[39;49m\u001b[43m_xrd_error\u001b[49m\u001b[43m(\u001b[49m\u001b[43mstatus\u001b[49m\u001b[43m)\u001b[49m\n",
      "File \u001b[0;32m/afs/cern.ch/work/c/chuw/.higgsenv/lib/python3.9/site-packages/uproot/source/xrootd.py:118\u001b[0m, in \u001b[0;36mXRootDResource._xrd_error\u001b[0;34m(self, status)\u001b[0m\n\u001b[1;32m    115\u001b[0m             \u001b[38;5;28;01mraise\u001b[39;00m uproot\u001b[38;5;241m.\u001b[39m_util\u001b[38;5;241m.\u001b[39m_file_not_found(\u001b[38;5;28mself\u001b[39m\u001b[38;5;241m.\u001b[39m_file_path, status\u001b[38;5;241m.\u001b[39mmessage)\n\u001b[1;32m    117\u001b[0m         \u001b[38;5;28;01melse\u001b[39;00m:\n\u001b[0;32m--> 118\u001b[0m             \u001b[38;5;28;01mraise\u001b[39;00m \u001b[38;5;167;01mOSError\u001b[39;00m(\n\u001b[1;32m    119\u001b[0m                 \u001b[38;5;124;03m\"\"\"XRootD error: {}\u001b[39;00m\n\u001b[1;32m    120\u001b[0m \u001b[38;5;124;03min file {}\"\"\"\u001b[39;00m\u001b[38;5;241m.\u001b[39mformat(\n\u001b[1;32m    121\u001b[0m                     status\u001b[38;5;241m.\u001b[39mmessage, \u001b[38;5;28mself\u001b[39m\u001b[38;5;241m.\u001b[39m_file_path\n\u001b[1;32m    122\u001b[0m                 )\n\u001b[1;32m    123\u001b[0m             )\n",
      "\u001b[0;31mOSError\u001b[0m: XRootD error: [FATAL] Redirect limit has been reached\nin file root://cms-xrd-global.cern.ch///store/mc/RunIIFall17NanoAODv7/GluGluToBulkGravitonToHHTo2G4Q_M-1000_narrow_TuneCP5_PSWeights_13TeV-madgraph-pythia8/NANOAODSIM/PU2017_12Apr2018_Nano02Apr2020_102X_mc2017_realistic_v8-v1/100000/9E9CEC5B-2EBF-A640-A4D5-832E5D559DDA.root"
     ]
    }
   ],
   "source": [
    "from higgs_dna.utils.logger_utils import setup_logger\n",
    "logger = setup_logger(\"DEBUG\", None)\n",
    "\n",
    "# Get sample\n",
    "from higgs_dna.samples.sample_manager import SampleManager\n",
    "sample_manager = SampleManager(\n",
    "#         catalog = \"metadata/samples/HHggxx_rereco_singleH_samples.json\",\n",
    "        catalog = \"metadata/samples/HHggxx_rereco_signal_samples.json\",\n",
    "        sample_list = [\"GluGluToBulkGravitonToHHTo2G4Q_M1000\"],\n",
    "        years = [\"2017\"]\n",
    ")\n",
    "\n",
    "sample = sample_manager.get_samples()[0]\n",
    "\n",
    "# Load a tth file\n",
    "import uproot, awkward\n",
    "\n",
    "file = sample.files[0].name\n",
    "with uproot.open(file) as f:\n",
    "    tree = f[\"Events\"]\n",
    "    events = tree.arrays(library = \"ak\", how = \"zip\")\n",
    "\n",
    "events = sample.prep(events)"
   ]
  },
  {
   "cell_type": "code",
   "execution_count": null,
   "id": "1f76308e",
   "metadata": {},
   "outputs": [],
   "source": [
    "from higgs_dna.taggers.diphoton_tagger import DiphotonTagger\n",
    "\n",
    "diphoton_tagger = DiphotonTagger()\n",
    "diphoton_events = diphoton_tagger.select(events)\n"
   ]
  },
  {
   "cell_type": "code",
   "execution_count": null,
   "id": "0bc91e1d",
   "metadata": {},
   "outputs": [],
   "source": [
    "print(awkward.to_pandas(diphoton_events.Diphoton))"
   ]
  },
  {
   "cell_type": "code",
   "execution_count": 7,
   "id": "26206009",
   "metadata": {},
   "outputs": [],
   "source": [
    "import pandas as pd\n",
    "import awkward as ak\n",
    "\n",
    "DUMMY_VALUE = -999.\n",
    "DEFAULT_OPTIONS = {\n",
    "    \"electrons\" : {\n",
    "        \"pt\" : 15.0,\n",
    "        \"eta\" : 2.5,\n",
    "        \"dxy\" : 0.045,\n",
    "        \"dz\" : 0.2,\n",
    "        \"id\" : \"WP90\",\n",
    "        \"dr_photons\" : 0.2,\n",
    "        \"veto_transition\" : True,\n",
    "    },\n",
    "    \"muons\" : {\n",
    "        \"pt\" : 15.0,\n",
    "        \"eta\" : 2.4,\n",
    "        \"dxy\" : 0.045,\n",
    "        \"dz\" : 0.2,\n",
    "        \"id\" : None,\n",
    "        \"pfRelIso03_all\" : 0.3,\n",
    "        \"dr_photons\" : 0.2\n",
    "    },\n",
    "    \"taus\" : {\n",
    "        \"pt\" : 18.0,\n",
    "        \"eta\" : 2.3,\n",
    "        \"dz\" : 0.2,\n",
    "        \"deep_tau_vs_ele\" : 1,\n",
    "        \"deep_tau_vs_mu\" : 0,\n",
    "        \"deep_tau_vs_jet\" : 7,\n",
    "        \"dr_photons\" : 0.2,\n",
    "        \"dr_electrons\" : 0.2,\n",
    "        \"dr_muons\" : 0.2\n",
    "    },\n",
    "    \"jets\" : {\n",
    "        \"pt\" : 25.0,\n",
    "        \"eta\" : 2.4,\n",
    "        \"looseID\" : True,\n",
    "        \"dr_photons\" : 0.4,\n",
    "        \"dr_electrons\" : 0.4,\n",
    "        \"dr_muons\" : 0.4,\n",
    "        \"dr_taus\" : 0.4,\n",
    "        \"dr_iso_tracks\" : 0.4\n",
    "    },\n",
    "    \"fatjets\" : {\n",
    "        \"pt\" : 250.,\n",
    "        \"eta\" : 2.4,\n",
    "        \"dr_photons\" : 0.4,\n",
    "        \"dr_electrons\" : 0.4,\n",
    "        \"dr_muons\" : 0.4,\n",
    "        \"dr_taus\" : 0.4,\n",
    "    }, \n",
    "\n",
    "    \"photon_mvaID\" : -0.7\n",
    "}\n",
    "options = DEFAULT_OPTIONS\n"
   ]
  },
  {
   "cell_type": "code",
   "execution_count": 8,
   "id": "d5d967c5",
   "metadata": {},
   "outputs": [],
   "source": [
    "    def __init__(self, name = \"hhggbb_tagger\", options = {}, is_data = None, year = None):\n",
    "        super(HHggbbTagger, self).__init__(name, options, is_data, year)\n",
    "\n",
    "        if not options:\n",
    "            self.options = DEFAULT_OPTIONS \n",
    "        else:\n",
    "            self.options = misc_utils.update_dict(\n",
    "                    original = DEFAULT_OPTIONS,\n",
    "                    new = options\n",
    "            )"
   ]
  },
  {
   "cell_type": "code",
   "execution_count": 9,
   "id": "bb7ba6ac",
   "metadata": {},
   "outputs": [
    {
     "data": {
      "text/html": [
       "<pre style=\"white-space:pre;overflow-x:auto;line-height:normal;font-family:Menlo,'DejaVu Sans Mono',consolas,'Courier New',monospace\"><span style=\"color: #008000; text-decoration-color: #008000\">DEBUG   </span> <span style=\"font-weight: bold\">[</span>select_objects<span style=\"font-weight: bold\">]</span> : Tagger <span style=\"color: #008000; text-decoration-color: #008000\">'none'</span>, selecting objects          <a href=\"file:///eos/home-c/chuw/HiggsDNAenv/HiggsDNA/higgs_dna/selections/object_selections.py\" target=\"_blank\"><span style=\"color: #7f7f7f; text-decoration-color: #7f7f7f\">object_selections.py</span></a><span style=\"color: #7f7f7f; text-decoration-color: #7f7f7f\">:</span><a href=\"file:///eos/home-c/chuw/HiggsDNAenv/HiggsDNA/higgs_dna/selections/object_selections.py#22\" target=\"_blank\"><span style=\"color: #7f7f7f; text-decoration-color: #7f7f7f\">22</span></a>\n",
       "         <span style=\"color: #008000; text-decoration-color: #008000\">'SelectedElectron'</span>, with the following requirements:         <span style=\"color: #7f7f7f; text-decoration-color: #7f7f7f\">                       </span>\n",
       "</pre>\n"
      ],
      "text/plain": [
       "\u001b[32mDEBUG   \u001b[0m \u001b[1m[\u001b[0mselect_objects\u001b[1m]\u001b[0m : Tagger \u001b[32m'none'\u001b[0m, selecting objects          \u001b]8;id=443043;file:///eos/home-c/chuw/HiggsDNAenv/HiggsDNA/higgs_dna/selections/object_selections.py\u001b\\\u001b[2mobject_selections.py\u001b[0m\u001b]8;;\u001b\\\u001b[2m:\u001b[0m\u001b]8;id=526;file:///eos/home-c/chuw/HiggsDNAenv/HiggsDNA/higgs_dna/selections/object_selections.py#22\u001b\\\u001b[2m22\u001b[0m\u001b]8;;\u001b\\\n",
       "         \u001b[32m'SelectedElectron'\u001b[0m, with the following requirements:         \u001b[2m                       \u001b[0m\n"
      ]
     },
     "metadata": {},
     "output_type": "display_data"
    },
    {
     "data": {
      "text/html": [
       "<pre style=\"white-space:pre;overflow-x:auto;line-height:normal;font-family:Menlo,'DejaVu Sans Mono',consolas,'Courier New',monospace\"><span style=\"color: #008000; text-decoration-color: #008000\">DEBUG   </span>          <span style=\"color: #008000; text-decoration-color: #008000\">'pt'</span> : <span style=\"color: #008080; text-decoration-color: #008080; font-weight: bold\">15.0</span>                                         <a href=\"file:///eos/home-c/chuw/HiggsDNAenv/HiggsDNA/higgs_dna/selections/object_selections.py\" target=\"_blank\"><span style=\"color: #7f7f7f; text-decoration-color: #7f7f7f\">object_selections.py</span></a><span style=\"color: #7f7f7f; text-decoration-color: #7f7f7f\">:</span><a href=\"file:///eos/home-c/chuw/HiggsDNAenv/HiggsDNA/higgs_dna/selections/object_selections.py#24\" target=\"_blank\"><span style=\"color: #7f7f7f; text-decoration-color: #7f7f7f\">24</span></a>\n",
       "</pre>\n"
      ],
      "text/plain": [
       "\u001b[32mDEBUG   \u001b[0m          \u001b[32m'pt'\u001b[0m : \u001b[1;36m15.0\u001b[0m                                         \u001b]8;id=452474;file:///eos/home-c/chuw/HiggsDNAenv/HiggsDNA/higgs_dna/selections/object_selections.py\u001b\\\u001b[2mobject_selections.py\u001b[0m\u001b]8;;\u001b\\\u001b[2m:\u001b[0m\u001b]8;id=834686;file:///eos/home-c/chuw/HiggsDNAenv/HiggsDNA/higgs_dna/selections/object_selections.py#24\u001b\\\u001b[2m24\u001b[0m\u001b]8;;\u001b\\\n"
      ]
     },
     "metadata": {},
     "output_type": "display_data"
    },
    {
     "data": {
      "text/html": [
       "<pre style=\"white-space:pre;overflow-x:auto;line-height:normal;font-family:Menlo,'DejaVu Sans Mono',consolas,'Courier New',monospace\"><span style=\"color: #008000; text-decoration-color: #008000\">DEBUG   </span>          <span style=\"color: #008000; text-decoration-color: #008000\">'eta'</span> : <span style=\"color: #008080; text-decoration-color: #008080; font-weight: bold\">2.5</span>                                         <a href=\"file:///eos/home-c/chuw/HiggsDNAenv/HiggsDNA/higgs_dna/selections/object_selections.py\" target=\"_blank\"><span style=\"color: #7f7f7f; text-decoration-color: #7f7f7f\">object_selections.py</span></a><span style=\"color: #7f7f7f; text-decoration-color: #7f7f7f\">:</span><a href=\"file:///eos/home-c/chuw/HiggsDNAenv/HiggsDNA/higgs_dna/selections/object_selections.py#24\" target=\"_blank\"><span style=\"color: #7f7f7f; text-decoration-color: #7f7f7f\">24</span></a>\n",
       "</pre>\n"
      ],
      "text/plain": [
       "\u001b[32mDEBUG   \u001b[0m          \u001b[32m'eta'\u001b[0m : \u001b[1;36m2.5\u001b[0m                                         \u001b]8;id=260935;file:///eos/home-c/chuw/HiggsDNAenv/HiggsDNA/higgs_dna/selections/object_selections.py\u001b\\\u001b[2mobject_selections.py\u001b[0m\u001b]8;;\u001b\\\u001b[2m:\u001b[0m\u001b]8;id=910247;file:///eos/home-c/chuw/HiggsDNAenv/HiggsDNA/higgs_dna/selections/object_selections.py#24\u001b\\\u001b[2m24\u001b[0m\u001b]8;;\u001b\\\n"
      ]
     },
     "metadata": {},
     "output_type": "display_data"
    },
    {
     "data": {
      "text/html": [
       "<pre style=\"white-space:pre;overflow-x:auto;line-height:normal;font-family:Menlo,'DejaVu Sans Mono',consolas,'Courier New',monospace\"><span style=\"color: #008000; text-decoration-color: #008000\">DEBUG   </span>          <span style=\"color: #008000; text-decoration-color: #008000\">'dxy'</span> : <span style=\"color: #008080; text-decoration-color: #008080; font-weight: bold\">0.045</span>                                       <a href=\"file:///eos/home-c/chuw/HiggsDNAenv/HiggsDNA/higgs_dna/selections/object_selections.py\" target=\"_blank\"><span style=\"color: #7f7f7f; text-decoration-color: #7f7f7f\">object_selections.py</span></a><span style=\"color: #7f7f7f; text-decoration-color: #7f7f7f\">:</span><a href=\"file:///eos/home-c/chuw/HiggsDNAenv/HiggsDNA/higgs_dna/selections/object_selections.py#24\" target=\"_blank\"><span style=\"color: #7f7f7f; text-decoration-color: #7f7f7f\">24</span></a>\n",
       "</pre>\n"
      ],
      "text/plain": [
       "\u001b[32mDEBUG   \u001b[0m          \u001b[32m'dxy'\u001b[0m : \u001b[1;36m0.045\u001b[0m                                       \u001b]8;id=710712;file:///eos/home-c/chuw/HiggsDNAenv/HiggsDNA/higgs_dna/selections/object_selections.py\u001b\\\u001b[2mobject_selections.py\u001b[0m\u001b]8;;\u001b\\\u001b[2m:\u001b[0m\u001b]8;id=583678;file:///eos/home-c/chuw/HiggsDNAenv/HiggsDNA/higgs_dna/selections/object_selections.py#24\u001b\\\u001b[2m24\u001b[0m\u001b]8;;\u001b\\\n"
      ]
     },
     "metadata": {},
     "output_type": "display_data"
    },
    {
     "data": {
      "text/html": [
       "<pre style=\"white-space:pre;overflow-x:auto;line-height:normal;font-family:Menlo,'DejaVu Sans Mono',consolas,'Courier New',monospace\"><span style=\"color: #008000; text-decoration-color: #008000\">DEBUG   </span>          <span style=\"color: #008000; text-decoration-color: #008000\">'dz'</span> : <span style=\"color: #008080; text-decoration-color: #008080; font-weight: bold\">0.2</span>                                          <a href=\"file:///eos/home-c/chuw/HiggsDNAenv/HiggsDNA/higgs_dna/selections/object_selections.py\" target=\"_blank\"><span style=\"color: #7f7f7f; text-decoration-color: #7f7f7f\">object_selections.py</span></a><span style=\"color: #7f7f7f; text-decoration-color: #7f7f7f\">:</span><a href=\"file:///eos/home-c/chuw/HiggsDNAenv/HiggsDNA/higgs_dna/selections/object_selections.py#24\" target=\"_blank\"><span style=\"color: #7f7f7f; text-decoration-color: #7f7f7f\">24</span></a>\n",
       "</pre>\n"
      ],
      "text/plain": [
       "\u001b[32mDEBUG   \u001b[0m          \u001b[32m'dz'\u001b[0m : \u001b[1;36m0.2\u001b[0m                                          \u001b]8;id=316359;file:///eos/home-c/chuw/HiggsDNAenv/HiggsDNA/higgs_dna/selections/object_selections.py\u001b\\\u001b[2mobject_selections.py\u001b[0m\u001b]8;;\u001b\\\u001b[2m:\u001b[0m\u001b]8;id=225459;file:///eos/home-c/chuw/HiggsDNAenv/HiggsDNA/higgs_dna/selections/object_selections.py#24\u001b\\\u001b[2m24\u001b[0m\u001b]8;;\u001b\\\n"
      ]
     },
     "metadata": {},
     "output_type": "display_data"
    },
    {
     "data": {
      "text/html": [
       "<pre style=\"white-space:pre;overflow-x:auto;line-height:normal;font-family:Menlo,'DejaVu Sans Mono',consolas,'Courier New',monospace\"><span style=\"color: #008000; text-decoration-color: #008000\">DEBUG   </span>          <span style=\"color: #008000; text-decoration-color: #008000\">'id'</span> : WP90                                         <a href=\"file:///eos/home-c/chuw/HiggsDNAenv/HiggsDNA/higgs_dna/selections/object_selections.py\" target=\"_blank\"><span style=\"color: #7f7f7f; text-decoration-color: #7f7f7f\">object_selections.py</span></a><span style=\"color: #7f7f7f; text-decoration-color: #7f7f7f\">:</span><a href=\"file:///eos/home-c/chuw/HiggsDNAenv/HiggsDNA/higgs_dna/selections/object_selections.py#24\" target=\"_blank\"><span style=\"color: #7f7f7f; text-decoration-color: #7f7f7f\">24</span></a>\n",
       "</pre>\n"
      ],
      "text/plain": [
       "\u001b[32mDEBUG   \u001b[0m          \u001b[32m'id'\u001b[0m : WP90                                         \u001b]8;id=518376;file:///eos/home-c/chuw/HiggsDNAenv/HiggsDNA/higgs_dna/selections/object_selections.py\u001b\\\u001b[2mobject_selections.py\u001b[0m\u001b]8;;\u001b\\\u001b[2m:\u001b[0m\u001b]8;id=319408;file:///eos/home-c/chuw/HiggsDNAenv/HiggsDNA/higgs_dna/selections/object_selections.py#24\u001b\\\u001b[2m24\u001b[0m\u001b]8;;\u001b\\\n"
      ]
     },
     "metadata": {},
     "output_type": "display_data"
    },
    {
     "data": {
      "text/html": [
       "<pre style=\"white-space:pre;overflow-x:auto;line-height:normal;font-family:Menlo,'DejaVu Sans Mono',consolas,'Courier New',monospace\"><span style=\"color: #008000; text-decoration-color: #008000\">DEBUG   </span>          <span style=\"color: #008000; text-decoration-color: #008000\">'dr_photons'</span> : <span style=\"color: #008080; text-decoration-color: #008080; font-weight: bold\">0.2</span>                                  <a href=\"file:///eos/home-c/chuw/HiggsDNAenv/HiggsDNA/higgs_dna/selections/object_selections.py\" target=\"_blank\"><span style=\"color: #7f7f7f; text-decoration-color: #7f7f7f\">object_selections.py</span></a><span style=\"color: #7f7f7f; text-decoration-color: #7f7f7f\">:</span><a href=\"file:///eos/home-c/chuw/HiggsDNAenv/HiggsDNA/higgs_dna/selections/object_selections.py#24\" target=\"_blank\"><span style=\"color: #7f7f7f; text-decoration-color: #7f7f7f\">24</span></a>\n",
       "</pre>\n"
      ],
      "text/plain": [
       "\u001b[32mDEBUG   \u001b[0m          \u001b[32m'dr_photons'\u001b[0m : \u001b[1;36m0.2\u001b[0m                                  \u001b]8;id=555337;file:///eos/home-c/chuw/HiggsDNAenv/HiggsDNA/higgs_dna/selections/object_selections.py\u001b\\\u001b[2mobject_selections.py\u001b[0m\u001b]8;;\u001b\\\u001b[2m:\u001b[0m\u001b]8;id=455843;file:///eos/home-c/chuw/HiggsDNAenv/HiggsDNA/higgs_dna/selections/object_selections.py#24\u001b\\\u001b[2m24\u001b[0m\u001b]8;;\u001b\\\n"
      ]
     },
     "metadata": {},
     "output_type": "display_data"
    },
    {
     "data": {
      "text/html": [
       "<pre style=\"white-space:pre;overflow-x:auto;line-height:normal;font-family:Menlo,'DejaVu Sans Mono',consolas,'Courier New',monospace\"><span style=\"color: #008000; text-decoration-color: #008000\">DEBUG   </span>          <span style=\"color: #008000; text-decoration-color: #008000\">'veto_transition'</span> : <span style=\"color: #00ff00; text-decoration-color: #00ff00; font-style: italic\">True</span>                            <a href=\"file:///eos/home-c/chuw/HiggsDNAenv/HiggsDNA/higgs_dna/selections/object_selections.py\" target=\"_blank\"><span style=\"color: #7f7f7f; text-decoration-color: #7f7f7f\">object_selections.py</span></a><span style=\"color: #7f7f7f; text-decoration-color: #7f7f7f\">:</span><a href=\"file:///eos/home-c/chuw/HiggsDNAenv/HiggsDNA/higgs_dna/selections/object_selections.py#24\" target=\"_blank\"><span style=\"color: #7f7f7f; text-decoration-color: #7f7f7f\">24</span></a>\n",
       "</pre>\n"
      ],
      "text/plain": [
       "\u001b[32mDEBUG   \u001b[0m          \u001b[32m'veto_transition'\u001b[0m : \u001b[3;92mTrue\u001b[0m                            \u001b]8;id=922077;file:///eos/home-c/chuw/HiggsDNAenv/HiggsDNA/higgs_dna/selections/object_selections.py\u001b\\\u001b[2mobject_selections.py\u001b[0m\u001b]8;;\u001b\\\u001b[2m:\u001b[0m\u001b]8;id=673412;file:///eos/home-c/chuw/HiggsDNAenv/HiggsDNA/higgs_dna/selections/object_selections.py#24\u001b\\\u001b[2m24\u001b[0m\u001b]8;;\u001b\\\n"
      ]
     },
     "metadata": {},
     "output_type": "display_data"
    },
    {
     "data": {
      "text/html": [
       "<pre style=\"white-space:pre;overflow-x:auto;line-height:normal;font-family:Menlo,'DejaVu Sans Mono',consolas,'Courier New',monospace\"><span style=\"color: #008000; text-decoration-color: #008000\">DEBUG   </span> <span style=\"font-weight: bold\">[</span>select_objects<span style=\"font-weight: bold\">]</span> : Tagger <span style=\"color: #008000; text-decoration-color: #008000\">'none'</span>, cross-cleaning objects     <a href=\"file:///eos/home-c/chuw/HiggsDNAenv/HiggsDNA/higgs_dna/selections/object_selections.py\" target=\"_blank\"><span style=\"color: #7f7f7f; text-decoration-color: #7f7f7f\">object_selections.py</span></a><span style=\"color: #7f7f7f; text-decoration-color: #7f7f7f\">:</span><a href=\"file:///eos/home-c/chuw/HiggsDNAenv/HiggsDNA/higgs_dna/selections/object_selections.py#27\" target=\"_blank\"><span style=\"color: #7f7f7f; text-decoration-color: #7f7f7f\">27</span></a>\n",
       "         <span style=\"color: #008000; text-decoration-color: #008000\">'SelectedElectron'</span> with respect to the following sets of     <span style=\"color: #7f7f7f; text-decoration-color: #7f7f7f\">                       </span>\n",
       "         objects:                                                     <span style=\"color: #7f7f7f; text-decoration-color: #7f7f7f\">                       </span>\n",
       "</pre>\n"
      ],
      "text/plain": [
       "\u001b[32mDEBUG   \u001b[0m \u001b[1m[\u001b[0mselect_objects\u001b[1m]\u001b[0m : Tagger \u001b[32m'none'\u001b[0m, cross-cleaning objects     \u001b]8;id=285814;file:///eos/home-c/chuw/HiggsDNAenv/HiggsDNA/higgs_dna/selections/object_selections.py\u001b\\\u001b[2mobject_selections.py\u001b[0m\u001b]8;;\u001b\\\u001b[2m:\u001b[0m\u001b]8;id=764514;file:///eos/home-c/chuw/HiggsDNAenv/HiggsDNA/higgs_dna/selections/object_selections.py#27\u001b\\\u001b[2m27\u001b[0m\u001b]8;;\u001b\\\n",
       "         \u001b[32m'SelectedElectron'\u001b[0m with respect to the following sets of     \u001b[2m                       \u001b[0m\n",
       "         objects:                                                     \u001b[2m                       \u001b[0m\n"
      ]
     },
     "metadata": {},
     "output_type": "display_data"
    },
    {
     "data": {
      "text/html": [
       "<pre style=\"white-space:pre;overflow-x:auto;line-height:normal;font-family:Menlo,'DejaVu Sans Mono',consolas,'Courier New',monospace\"><span style=\"color: #008000; text-decoration-color: #008000\">DEBUG   </span>          <span style=\"color: #008000; text-decoration-color: #008000\">'photons'</span>, dR &gt; <span style=\"color: #008080; text-decoration-color: #008080; font-weight: bold\">0.20</span>                                <a href=\"file:///eos/home-c/chuw/HiggsDNAenv/HiggsDNA/higgs_dna/selections/object_selections.py\" target=\"_blank\"><span style=\"color: #7f7f7f; text-decoration-color: #7f7f7f\">object_selections.py</span></a><span style=\"color: #7f7f7f; text-decoration-color: #7f7f7f\">:</span><a href=\"file:///eos/home-c/chuw/HiggsDNAenv/HiggsDNA/higgs_dna/selections/object_selections.py#29\" target=\"_blank\"><span style=\"color: #7f7f7f; text-decoration-color: #7f7f7f\">29</span></a>\n",
       "</pre>\n"
      ],
      "text/plain": [
       "\u001b[32mDEBUG   \u001b[0m          \u001b[32m'photons'\u001b[0m, dR > \u001b[1;36m0.20\u001b[0m                                \u001b]8;id=416739;file:///eos/home-c/chuw/HiggsDNAenv/HiggsDNA/higgs_dna/selections/object_selections.py\u001b\\\u001b[2mobject_selections.py\u001b[0m\u001b]8;;\u001b\\\u001b[2m:\u001b[0m\u001b]8;id=804647;file:///eos/home-c/chuw/HiggsDNAenv/HiggsDNA/higgs_dna/selections/object_selections.py#29\u001b\\\u001b[2m29\u001b[0m\u001b]8;;\u001b\\\n"
      ]
     },
     "metadata": {},
     "output_type": "display_data"
    }
   ],
   "source": [
    "import awkward\n",
    "import vector\n",
    "\n",
    "vector.register_awkward()\n",
    "\n",
    "import logging\n",
    "logger = logging.getLogger(__name__)\n",
    "\n",
    "from higgs_dna.taggers.tagger import Tagger, NOMINAL_TAG\n",
    "from higgs_dna.selections import object_selections, lepton_selections, jet_selections, tau_selections, fatjet_selections, gen_selections\n",
    "from higgs_dna.utils import awkward_utils, misc_utils\n",
    "electron_cut = lepton_selections.select_electrons(\n",
    "                electrons = diphoton_events.Electron,\n",
    "                options = options[\"electrons\"],\n",
    "                clean = {\n",
    "                    \"photons\" : {\n",
    "                        \"objects\" : diphoton_events.Diphoton.Photon,\n",
    "                        \"min_dr\" : options[\"electrons\"][\"dr_photons\"]\n",
    "                    }\n",
    "                },\n",
    "                name = \"SelectedElectron\",\n",
    "#                  tagger =self \n",
    "        )\n"
   ]
  },
  {
   "cell_type": "code",
   "execution_count": 10,
   "id": "1c33d510",
   "metadata": {},
   "outputs": [],
   "source": [
    "electrons = awkward_utils.add_field(\n",
    "                events = diphoton_events,\n",
    "                name = \"SelectedElectron\",\n",
    "                data = diphoton_events.Electron[electron_cut]\n",
    ")"
   ]
  },
  {
   "cell_type": "code",
   "execution_count": 11,
   "id": "db730557",
   "metadata": {},
   "outputs": [
    {
     "name": "stdout",
     "output_type": "stream",
     "text": [
      "[[], [], [], [], [], [], [], [], [], [], ... [], [], [], [], [], [], [], [], [], []]\n"
     ]
    }
   ],
   "source": [
    "print(diphoton_events.SelectedElectron)"
   ]
  },
  {
   "cell_type": "code",
   "execution_count": 12,
   "id": "9d71c81f",
   "metadata": {},
   "outputs": [
    {
     "data": {
      "text/html": [
       "<pre style=\"white-space:pre;overflow-x:auto;line-height:normal;font-family:Menlo,'DejaVu Sans Mono',consolas,'Courier New',monospace\"><span style=\"color: #008000; text-decoration-color: #008000\">DEBUG   </span> <span style=\"font-weight: bold\">[</span>select_objects<span style=\"font-weight: bold\">]</span> : Tagger <span style=\"color: #008000; text-decoration-color: #008000\">'none'</span>, selecting objects          <a href=\"file:///eos/home-c/chuw/HiggsDNAenv/HiggsDNA/higgs_dna/selections/object_selections.py\" target=\"_blank\"><span style=\"color: #7f7f7f; text-decoration-color: #7f7f7f\">object_selections.py</span></a><span style=\"color: #7f7f7f; text-decoration-color: #7f7f7f\">:</span><a href=\"file:///eos/home-c/chuw/HiggsDNAenv/HiggsDNA/higgs_dna/selections/object_selections.py#22\" target=\"_blank\"><span style=\"color: #7f7f7f; text-decoration-color: #7f7f7f\">22</span></a>\n",
       "         <span style=\"color: #008000; text-decoration-color: #008000\">'SelectedMuon'</span>, with the following requirements:             <span style=\"color: #7f7f7f; text-decoration-color: #7f7f7f\">                       </span>\n",
       "</pre>\n"
      ],
      "text/plain": [
       "\u001b[32mDEBUG   \u001b[0m \u001b[1m[\u001b[0mselect_objects\u001b[1m]\u001b[0m : Tagger \u001b[32m'none'\u001b[0m, selecting objects          \u001b]8;id=545166;file:///eos/home-c/chuw/HiggsDNAenv/HiggsDNA/higgs_dna/selections/object_selections.py\u001b\\\u001b[2mobject_selections.py\u001b[0m\u001b]8;;\u001b\\\u001b[2m:\u001b[0m\u001b]8;id=634512;file:///eos/home-c/chuw/HiggsDNAenv/HiggsDNA/higgs_dna/selections/object_selections.py#22\u001b\\\u001b[2m22\u001b[0m\u001b]8;;\u001b\\\n",
       "         \u001b[32m'SelectedMuon'\u001b[0m, with the following requirements:             \u001b[2m                       \u001b[0m\n"
      ]
     },
     "metadata": {},
     "output_type": "display_data"
    },
    {
     "data": {
      "text/html": [
       "<pre style=\"white-space:pre;overflow-x:auto;line-height:normal;font-family:Menlo,'DejaVu Sans Mono',consolas,'Courier New',monospace\"><span style=\"color: #008000; text-decoration-color: #008000\">DEBUG   </span>          <span style=\"color: #008000; text-decoration-color: #008000\">'pt'</span> : <span style=\"color: #008080; text-decoration-color: #008080; font-weight: bold\">15.0</span>                                         <a href=\"file:///eos/home-c/chuw/HiggsDNAenv/HiggsDNA/higgs_dna/selections/object_selections.py\" target=\"_blank\"><span style=\"color: #7f7f7f; text-decoration-color: #7f7f7f\">object_selections.py</span></a><span style=\"color: #7f7f7f; text-decoration-color: #7f7f7f\">:</span><a href=\"file:///eos/home-c/chuw/HiggsDNAenv/HiggsDNA/higgs_dna/selections/object_selections.py#24\" target=\"_blank\"><span style=\"color: #7f7f7f; text-decoration-color: #7f7f7f\">24</span></a>\n",
       "</pre>\n"
      ],
      "text/plain": [
       "\u001b[32mDEBUG   \u001b[0m          \u001b[32m'pt'\u001b[0m : \u001b[1;36m15.0\u001b[0m                                         \u001b]8;id=656096;file:///eos/home-c/chuw/HiggsDNAenv/HiggsDNA/higgs_dna/selections/object_selections.py\u001b\\\u001b[2mobject_selections.py\u001b[0m\u001b]8;;\u001b\\\u001b[2m:\u001b[0m\u001b]8;id=387317;file:///eos/home-c/chuw/HiggsDNAenv/HiggsDNA/higgs_dna/selections/object_selections.py#24\u001b\\\u001b[2m24\u001b[0m\u001b]8;;\u001b\\\n"
      ]
     },
     "metadata": {},
     "output_type": "display_data"
    },
    {
     "data": {
      "text/html": [
       "<pre style=\"white-space:pre;overflow-x:auto;line-height:normal;font-family:Menlo,'DejaVu Sans Mono',consolas,'Courier New',monospace\"><span style=\"color: #008000; text-decoration-color: #008000\">DEBUG   </span>          <span style=\"color: #008000; text-decoration-color: #008000\">'eta'</span> : <span style=\"color: #008080; text-decoration-color: #008080; font-weight: bold\">2.4</span>                                         <a href=\"file:///eos/home-c/chuw/HiggsDNAenv/HiggsDNA/higgs_dna/selections/object_selections.py\" target=\"_blank\"><span style=\"color: #7f7f7f; text-decoration-color: #7f7f7f\">object_selections.py</span></a><span style=\"color: #7f7f7f; text-decoration-color: #7f7f7f\">:</span><a href=\"file:///eos/home-c/chuw/HiggsDNAenv/HiggsDNA/higgs_dna/selections/object_selections.py#24\" target=\"_blank\"><span style=\"color: #7f7f7f; text-decoration-color: #7f7f7f\">24</span></a>\n",
       "</pre>\n"
      ],
      "text/plain": [
       "\u001b[32mDEBUG   \u001b[0m          \u001b[32m'eta'\u001b[0m : \u001b[1;36m2.4\u001b[0m                                         \u001b]8;id=133594;file:///eos/home-c/chuw/HiggsDNAenv/HiggsDNA/higgs_dna/selections/object_selections.py\u001b\\\u001b[2mobject_selections.py\u001b[0m\u001b]8;;\u001b\\\u001b[2m:\u001b[0m\u001b]8;id=267922;file:///eos/home-c/chuw/HiggsDNAenv/HiggsDNA/higgs_dna/selections/object_selections.py#24\u001b\\\u001b[2m24\u001b[0m\u001b]8;;\u001b\\\n"
      ]
     },
     "metadata": {},
     "output_type": "display_data"
    },
    {
     "data": {
      "text/html": [
       "<pre style=\"white-space:pre;overflow-x:auto;line-height:normal;font-family:Menlo,'DejaVu Sans Mono',consolas,'Courier New',monospace\"><span style=\"color: #008000; text-decoration-color: #008000\">DEBUG   </span>          <span style=\"color: #008000; text-decoration-color: #008000\">'dxy'</span> : <span style=\"color: #008080; text-decoration-color: #008080; font-weight: bold\">0.045</span>                                       <a href=\"file:///eos/home-c/chuw/HiggsDNAenv/HiggsDNA/higgs_dna/selections/object_selections.py\" target=\"_blank\"><span style=\"color: #7f7f7f; text-decoration-color: #7f7f7f\">object_selections.py</span></a><span style=\"color: #7f7f7f; text-decoration-color: #7f7f7f\">:</span><a href=\"file:///eos/home-c/chuw/HiggsDNAenv/HiggsDNA/higgs_dna/selections/object_selections.py#24\" target=\"_blank\"><span style=\"color: #7f7f7f; text-decoration-color: #7f7f7f\">24</span></a>\n",
       "</pre>\n"
      ],
      "text/plain": [
       "\u001b[32mDEBUG   \u001b[0m          \u001b[32m'dxy'\u001b[0m : \u001b[1;36m0.045\u001b[0m                                       \u001b]8;id=299416;file:///eos/home-c/chuw/HiggsDNAenv/HiggsDNA/higgs_dna/selections/object_selections.py\u001b\\\u001b[2mobject_selections.py\u001b[0m\u001b]8;;\u001b\\\u001b[2m:\u001b[0m\u001b]8;id=872151;file:///eos/home-c/chuw/HiggsDNAenv/HiggsDNA/higgs_dna/selections/object_selections.py#24\u001b\\\u001b[2m24\u001b[0m\u001b]8;;\u001b\\\n"
      ]
     },
     "metadata": {},
     "output_type": "display_data"
    },
    {
     "data": {
      "text/html": [
       "<pre style=\"white-space:pre;overflow-x:auto;line-height:normal;font-family:Menlo,'DejaVu Sans Mono',consolas,'Courier New',monospace\"><span style=\"color: #008000; text-decoration-color: #008000\">DEBUG   </span>          <span style=\"color: #008000; text-decoration-color: #008000\">'dz'</span> : <span style=\"color: #008080; text-decoration-color: #008080; font-weight: bold\">0.2</span>                                          <a href=\"file:///eos/home-c/chuw/HiggsDNAenv/HiggsDNA/higgs_dna/selections/object_selections.py\" target=\"_blank\"><span style=\"color: #7f7f7f; text-decoration-color: #7f7f7f\">object_selections.py</span></a><span style=\"color: #7f7f7f; text-decoration-color: #7f7f7f\">:</span><a href=\"file:///eos/home-c/chuw/HiggsDNAenv/HiggsDNA/higgs_dna/selections/object_selections.py#24\" target=\"_blank\"><span style=\"color: #7f7f7f; text-decoration-color: #7f7f7f\">24</span></a>\n",
       "</pre>\n"
      ],
      "text/plain": [
       "\u001b[32mDEBUG   \u001b[0m          \u001b[32m'dz'\u001b[0m : \u001b[1;36m0.2\u001b[0m                                          \u001b]8;id=429757;file:///eos/home-c/chuw/HiggsDNAenv/HiggsDNA/higgs_dna/selections/object_selections.py\u001b\\\u001b[2mobject_selections.py\u001b[0m\u001b]8;;\u001b\\\u001b[2m:\u001b[0m\u001b]8;id=83264;file:///eos/home-c/chuw/HiggsDNAenv/HiggsDNA/higgs_dna/selections/object_selections.py#24\u001b\\\u001b[2m24\u001b[0m\u001b]8;;\u001b\\\n"
      ]
     },
     "metadata": {},
     "output_type": "display_data"
    },
    {
     "data": {
      "text/html": [
       "<pre style=\"white-space:pre;overflow-x:auto;line-height:normal;font-family:Menlo,'DejaVu Sans Mono',consolas,'Courier New',monospace\"><span style=\"color: #008000; text-decoration-color: #008000\">DEBUG   </span>          <span style=\"color: #008000; text-decoration-color: #008000\">'id'</span> : <span style=\"color: #800080; text-decoration-color: #800080; font-style: italic\">None</span>                                         <a href=\"file:///eos/home-c/chuw/HiggsDNAenv/HiggsDNA/higgs_dna/selections/object_selections.py\" target=\"_blank\"><span style=\"color: #7f7f7f; text-decoration-color: #7f7f7f\">object_selections.py</span></a><span style=\"color: #7f7f7f; text-decoration-color: #7f7f7f\">:</span><a href=\"file:///eos/home-c/chuw/HiggsDNAenv/HiggsDNA/higgs_dna/selections/object_selections.py#24\" target=\"_blank\"><span style=\"color: #7f7f7f; text-decoration-color: #7f7f7f\">24</span></a>\n",
       "</pre>\n"
      ],
      "text/plain": [
       "\u001b[32mDEBUG   \u001b[0m          \u001b[32m'id'\u001b[0m : \u001b[3;35mNone\u001b[0m                                         \u001b]8;id=931019;file:///eos/home-c/chuw/HiggsDNAenv/HiggsDNA/higgs_dna/selections/object_selections.py\u001b\\\u001b[2mobject_selections.py\u001b[0m\u001b]8;;\u001b\\\u001b[2m:\u001b[0m\u001b]8;id=839094;file:///eos/home-c/chuw/HiggsDNAenv/HiggsDNA/higgs_dna/selections/object_selections.py#24\u001b\\\u001b[2m24\u001b[0m\u001b]8;;\u001b\\\n"
      ]
     },
     "metadata": {},
     "output_type": "display_data"
    },
    {
     "data": {
      "text/html": [
       "<pre style=\"white-space:pre;overflow-x:auto;line-height:normal;font-family:Menlo,'DejaVu Sans Mono',consolas,'Courier New',monospace\"><span style=\"color: #008000; text-decoration-color: #008000\">DEBUG   </span>          <span style=\"color: #008000; text-decoration-color: #008000\">'pfRelIso03_all'</span> : <span style=\"color: #008080; text-decoration-color: #008080; font-weight: bold\">0.3</span>                              <a href=\"file:///eos/home-c/chuw/HiggsDNAenv/HiggsDNA/higgs_dna/selections/object_selections.py\" target=\"_blank\"><span style=\"color: #7f7f7f; text-decoration-color: #7f7f7f\">object_selections.py</span></a><span style=\"color: #7f7f7f; text-decoration-color: #7f7f7f\">:</span><a href=\"file:///eos/home-c/chuw/HiggsDNAenv/HiggsDNA/higgs_dna/selections/object_selections.py#24\" target=\"_blank\"><span style=\"color: #7f7f7f; text-decoration-color: #7f7f7f\">24</span></a>\n",
       "</pre>\n"
      ],
      "text/plain": [
       "\u001b[32mDEBUG   \u001b[0m          \u001b[32m'pfRelIso03_all'\u001b[0m : \u001b[1;36m0.3\u001b[0m                              \u001b]8;id=878309;file:///eos/home-c/chuw/HiggsDNAenv/HiggsDNA/higgs_dna/selections/object_selections.py\u001b\\\u001b[2mobject_selections.py\u001b[0m\u001b]8;;\u001b\\\u001b[2m:\u001b[0m\u001b]8;id=724760;file:///eos/home-c/chuw/HiggsDNAenv/HiggsDNA/higgs_dna/selections/object_selections.py#24\u001b\\\u001b[2m24\u001b[0m\u001b]8;;\u001b\\\n"
      ]
     },
     "metadata": {},
     "output_type": "display_data"
    },
    {
     "data": {
      "text/html": [
       "<pre style=\"white-space:pre;overflow-x:auto;line-height:normal;font-family:Menlo,'DejaVu Sans Mono',consolas,'Courier New',monospace\"><span style=\"color: #008000; text-decoration-color: #008000\">DEBUG   </span>          <span style=\"color: #008000; text-decoration-color: #008000\">'dr_photons'</span> : <span style=\"color: #008080; text-decoration-color: #008080; font-weight: bold\">0.2</span>                                  <a href=\"file:///eos/home-c/chuw/HiggsDNAenv/HiggsDNA/higgs_dna/selections/object_selections.py\" target=\"_blank\"><span style=\"color: #7f7f7f; text-decoration-color: #7f7f7f\">object_selections.py</span></a><span style=\"color: #7f7f7f; text-decoration-color: #7f7f7f\">:</span><a href=\"file:///eos/home-c/chuw/HiggsDNAenv/HiggsDNA/higgs_dna/selections/object_selections.py#24\" target=\"_blank\"><span style=\"color: #7f7f7f; text-decoration-color: #7f7f7f\">24</span></a>\n",
       "</pre>\n"
      ],
      "text/plain": [
       "\u001b[32mDEBUG   \u001b[0m          \u001b[32m'dr_photons'\u001b[0m : \u001b[1;36m0.2\u001b[0m                                  \u001b]8;id=740757;file:///eos/home-c/chuw/HiggsDNAenv/HiggsDNA/higgs_dna/selections/object_selections.py\u001b\\\u001b[2mobject_selections.py\u001b[0m\u001b]8;;\u001b\\\u001b[2m:\u001b[0m\u001b]8;id=221570;file:///eos/home-c/chuw/HiggsDNAenv/HiggsDNA/higgs_dna/selections/object_selections.py#24\u001b\\\u001b[2m24\u001b[0m\u001b]8;;\u001b\\\n"
      ]
     },
     "metadata": {},
     "output_type": "display_data"
    },
    {
     "data": {
      "text/html": [
       "<pre style=\"white-space:pre;overflow-x:auto;line-height:normal;font-family:Menlo,'DejaVu Sans Mono',consolas,'Courier New',monospace\"><span style=\"color: #008000; text-decoration-color: #008000\">DEBUG   </span>          <span style=\"color: #008000; text-decoration-color: #008000\">'global'</span> : <span style=\"color: #00ff00; text-decoration-color: #00ff00; font-style: italic\">True</span>                                     <a href=\"file:///eos/home-c/chuw/HiggsDNAenv/HiggsDNA/higgs_dna/selections/object_selections.py\" target=\"_blank\"><span style=\"color: #7f7f7f; text-decoration-color: #7f7f7f\">object_selections.py</span></a><span style=\"color: #7f7f7f; text-decoration-color: #7f7f7f\">:</span><a href=\"file:///eos/home-c/chuw/HiggsDNAenv/HiggsDNA/higgs_dna/selections/object_selections.py#24\" target=\"_blank\"><span style=\"color: #7f7f7f; text-decoration-color: #7f7f7f\">24</span></a>\n",
       "</pre>\n"
      ],
      "text/plain": [
       "\u001b[32mDEBUG   \u001b[0m          \u001b[32m'global'\u001b[0m : \u001b[3;92mTrue\u001b[0m                                     \u001b]8;id=105741;file:///eos/home-c/chuw/HiggsDNAenv/HiggsDNA/higgs_dna/selections/object_selections.py\u001b\\\u001b[2mobject_selections.py\u001b[0m\u001b]8;;\u001b\\\u001b[2m:\u001b[0m\u001b]8;id=285713;file:///eos/home-c/chuw/HiggsDNAenv/HiggsDNA/higgs_dna/selections/object_selections.py#24\u001b\\\u001b[2m24\u001b[0m\u001b]8;;\u001b\\\n"
      ]
     },
     "metadata": {},
     "output_type": "display_data"
    },
    {
     "data": {
      "text/html": [
       "<pre style=\"white-space:pre;overflow-x:auto;line-height:normal;font-family:Menlo,'DejaVu Sans Mono',consolas,'Courier New',monospace\"><span style=\"color: #008000; text-decoration-color: #008000\">DEBUG   </span> <span style=\"font-weight: bold\">[</span>select_objects<span style=\"font-weight: bold\">]</span> : Tagger <span style=\"color: #008000; text-decoration-color: #008000\">'none'</span>, cross-cleaning objects     <a href=\"file:///eos/home-c/chuw/HiggsDNAenv/HiggsDNA/higgs_dna/selections/object_selections.py\" target=\"_blank\"><span style=\"color: #7f7f7f; text-decoration-color: #7f7f7f\">object_selections.py</span></a><span style=\"color: #7f7f7f; text-decoration-color: #7f7f7f\">:</span><a href=\"file:///eos/home-c/chuw/HiggsDNAenv/HiggsDNA/higgs_dna/selections/object_selections.py#27\" target=\"_blank\"><span style=\"color: #7f7f7f; text-decoration-color: #7f7f7f\">27</span></a>\n",
       "         <span style=\"color: #008000; text-decoration-color: #008000\">'SelectedMuon'</span> with respect to the following sets of         <span style=\"color: #7f7f7f; text-decoration-color: #7f7f7f\">                       </span>\n",
       "         objects:                                                     <span style=\"color: #7f7f7f; text-decoration-color: #7f7f7f\">                       </span>\n",
       "</pre>\n"
      ],
      "text/plain": [
       "\u001b[32mDEBUG   \u001b[0m \u001b[1m[\u001b[0mselect_objects\u001b[1m]\u001b[0m : Tagger \u001b[32m'none'\u001b[0m, cross-cleaning objects     \u001b]8;id=160551;file:///eos/home-c/chuw/HiggsDNAenv/HiggsDNA/higgs_dna/selections/object_selections.py\u001b\\\u001b[2mobject_selections.py\u001b[0m\u001b]8;;\u001b\\\u001b[2m:\u001b[0m\u001b]8;id=651767;file:///eos/home-c/chuw/HiggsDNAenv/HiggsDNA/higgs_dna/selections/object_selections.py#27\u001b\\\u001b[2m27\u001b[0m\u001b]8;;\u001b\\\n",
       "         \u001b[32m'SelectedMuon'\u001b[0m with respect to the following sets of         \u001b[2m                       \u001b[0m\n",
       "         objects:                                                     \u001b[2m                       \u001b[0m\n"
      ]
     },
     "metadata": {},
     "output_type": "display_data"
    },
    {
     "data": {
      "text/html": [
       "<pre style=\"white-space:pre;overflow-x:auto;line-height:normal;font-family:Menlo,'DejaVu Sans Mono',consolas,'Courier New',monospace\"><span style=\"color: #008000; text-decoration-color: #008000\">DEBUG   </span>          <span style=\"color: #008000; text-decoration-color: #008000\">'photons'</span>, dR &gt; <span style=\"color: #008080; text-decoration-color: #008080; font-weight: bold\">0.20</span>                                <a href=\"file:///eos/home-c/chuw/HiggsDNAenv/HiggsDNA/higgs_dna/selections/object_selections.py\" target=\"_blank\"><span style=\"color: #7f7f7f; text-decoration-color: #7f7f7f\">object_selections.py</span></a><span style=\"color: #7f7f7f; text-decoration-color: #7f7f7f\">:</span><a href=\"file:///eos/home-c/chuw/HiggsDNAenv/HiggsDNA/higgs_dna/selections/object_selections.py#29\" target=\"_blank\"><span style=\"color: #7f7f7f; text-decoration-color: #7f7f7f\">29</span></a>\n",
       "</pre>\n"
      ],
      "text/plain": [
       "\u001b[32mDEBUG   \u001b[0m          \u001b[32m'photons'\u001b[0m, dR > \u001b[1;36m0.20\u001b[0m                                \u001b]8;id=779796;file:///eos/home-c/chuw/HiggsDNAenv/HiggsDNA/higgs_dna/selections/object_selections.py\u001b\\\u001b[2mobject_selections.py\u001b[0m\u001b]8;;\u001b\\\u001b[2m:\u001b[0m\u001b]8;id=631869;file:///eos/home-c/chuw/HiggsDNAenv/HiggsDNA/higgs_dna/selections/object_selections.py#29\u001b\\\u001b[2m29\u001b[0m\u001b]8;;\u001b\\\n"
      ]
     },
     "metadata": {},
     "output_type": "display_data"
    }
   ],
   "source": [
    "muon_cut = lepton_selections.select_muons(\n",
    "                muons = diphoton_events.Muon,\n",
    "                options = options[\"muons\"],\n",
    "                clean = {\n",
    "                    \"photons\" : {\n",
    "                        \"objects\" : diphoton_events.Diphoton.Photon,\n",
    "                        \"min_dr\" : options[\"muons\"][\"dr_photons\"]\n",
    "                    }\n",
    "                },\n",
    "                name = \"SelectedMuon\",\n",
    "#                 tagger = self\n",
    "        )\n"
   ]
  },
  {
   "cell_type": "code",
   "execution_count": 13,
   "id": "43e08b2e",
   "metadata": {},
   "outputs": [],
   "source": [
    " muons = awkward_utils.add_field(\n",
    "                events = diphoton_events,\n",
    "                name = \"SelectedMuon\",\n",
    "                data = diphoton_events.Muon[muon_cut]\n",
    "        )"
   ]
  },
  {
   "cell_type": "code",
   "execution_count": 14,
   "id": "816e61f6",
   "metadata": {},
   "outputs": [
    {
     "data": {
      "text/html": [
       "<pre style=\"white-space:pre;overflow-x:auto;line-height:normal;font-family:Menlo,'DejaVu Sans Mono',consolas,'Courier New',monospace\"><span style=\"color: #008000; text-decoration-color: #008000\">DEBUG   </span> <span style=\"font-weight: bold\">[</span>select_objects<span style=\"font-weight: bold\">]</span> : Tagger <span style=\"color: #008000; text-decoration-color: #008000\">'none'</span>, selecting objects          <a href=\"file:///eos/home-c/chuw/HiggsDNAenv/HiggsDNA/higgs_dna/selections/object_selections.py\" target=\"_blank\"><span style=\"color: #7f7f7f; text-decoration-color: #7f7f7f\">object_selections.py</span></a><span style=\"color: #7f7f7f; text-decoration-color: #7f7f7f\">:</span><a href=\"file:///eos/home-c/chuw/HiggsDNAenv/HiggsDNA/higgs_dna/selections/object_selections.py#22\" target=\"_blank\"><span style=\"color: #7f7f7f; text-decoration-color: #7f7f7f\">22</span></a>\n",
       "         <span style=\"color: #008000; text-decoration-color: #008000\">'SelectedFatJet'</span>, with the following requirements:           <span style=\"color: #7f7f7f; text-decoration-color: #7f7f7f\">                       </span>\n",
       "</pre>\n"
      ],
      "text/plain": [
       "\u001b[32mDEBUG   \u001b[0m \u001b[1m[\u001b[0mselect_objects\u001b[1m]\u001b[0m : Tagger \u001b[32m'none'\u001b[0m, selecting objects          \u001b]8;id=584221;file:///eos/home-c/chuw/HiggsDNAenv/HiggsDNA/higgs_dna/selections/object_selections.py\u001b\\\u001b[2mobject_selections.py\u001b[0m\u001b]8;;\u001b\\\u001b[2m:\u001b[0m\u001b]8;id=492604;file:///eos/home-c/chuw/HiggsDNAenv/HiggsDNA/higgs_dna/selections/object_selections.py#22\u001b\\\u001b[2m22\u001b[0m\u001b]8;;\u001b\\\n",
       "         \u001b[32m'SelectedFatJet'\u001b[0m, with the following requirements:           \u001b[2m                       \u001b[0m\n"
      ]
     },
     "metadata": {},
     "output_type": "display_data"
    },
    {
     "data": {
      "text/html": [
       "<pre style=\"white-space:pre;overflow-x:auto;line-height:normal;font-family:Menlo,'DejaVu Sans Mono',consolas,'Courier New',monospace\"><span style=\"color: #008000; text-decoration-color: #008000\">DEBUG   </span>          <span style=\"color: #008000; text-decoration-color: #008000\">'pt'</span> : <span style=\"color: #008080; text-decoration-color: #008080; font-weight: bold\">250.0</span>                                        <a href=\"file:///eos/home-c/chuw/HiggsDNAenv/HiggsDNA/higgs_dna/selections/object_selections.py\" target=\"_blank\"><span style=\"color: #7f7f7f; text-decoration-color: #7f7f7f\">object_selections.py</span></a><span style=\"color: #7f7f7f; text-decoration-color: #7f7f7f\">:</span><a href=\"file:///eos/home-c/chuw/HiggsDNAenv/HiggsDNA/higgs_dna/selections/object_selections.py#24\" target=\"_blank\"><span style=\"color: #7f7f7f; text-decoration-color: #7f7f7f\">24</span></a>\n",
       "</pre>\n"
      ],
      "text/plain": [
       "\u001b[32mDEBUG   \u001b[0m          \u001b[32m'pt'\u001b[0m : \u001b[1;36m250.0\u001b[0m                                        \u001b]8;id=958777;file:///eos/home-c/chuw/HiggsDNAenv/HiggsDNA/higgs_dna/selections/object_selections.py\u001b\\\u001b[2mobject_selections.py\u001b[0m\u001b]8;;\u001b\\\u001b[2m:\u001b[0m\u001b]8;id=279845;file:///eos/home-c/chuw/HiggsDNAenv/HiggsDNA/higgs_dna/selections/object_selections.py#24\u001b\\\u001b[2m24\u001b[0m\u001b]8;;\u001b\\\n"
      ]
     },
     "metadata": {},
     "output_type": "display_data"
    },
    {
     "data": {
      "text/html": [
       "<pre style=\"white-space:pre;overflow-x:auto;line-height:normal;font-family:Menlo,'DejaVu Sans Mono',consolas,'Courier New',monospace\"><span style=\"color: #008000; text-decoration-color: #008000\">DEBUG   </span>          <span style=\"color: #008000; text-decoration-color: #008000\">'eta'</span> : <span style=\"color: #008080; text-decoration-color: #008080; font-weight: bold\">2.4</span>                                         <a href=\"file:///eos/home-c/chuw/HiggsDNAenv/HiggsDNA/higgs_dna/selections/object_selections.py\" target=\"_blank\"><span style=\"color: #7f7f7f; text-decoration-color: #7f7f7f\">object_selections.py</span></a><span style=\"color: #7f7f7f; text-decoration-color: #7f7f7f\">:</span><a href=\"file:///eos/home-c/chuw/HiggsDNAenv/HiggsDNA/higgs_dna/selections/object_selections.py#24\" target=\"_blank\"><span style=\"color: #7f7f7f; text-decoration-color: #7f7f7f\">24</span></a>\n",
       "</pre>\n"
      ],
      "text/plain": [
       "\u001b[32mDEBUG   \u001b[0m          \u001b[32m'eta'\u001b[0m : \u001b[1;36m2.4\u001b[0m                                         \u001b]8;id=975355;file:///eos/home-c/chuw/HiggsDNAenv/HiggsDNA/higgs_dna/selections/object_selections.py\u001b\\\u001b[2mobject_selections.py\u001b[0m\u001b]8;;\u001b\\\u001b[2m:\u001b[0m\u001b]8;id=37051;file:///eos/home-c/chuw/HiggsDNAenv/HiggsDNA/higgs_dna/selections/object_selections.py#24\u001b\\\u001b[2m24\u001b[0m\u001b]8;;\u001b\\\n"
      ]
     },
     "metadata": {},
     "output_type": "display_data"
    },
    {
     "data": {
      "text/html": [
       "<pre style=\"white-space:pre;overflow-x:auto;line-height:normal;font-family:Menlo,'DejaVu Sans Mono',consolas,'Courier New',monospace\"><span style=\"color: #008000; text-decoration-color: #008000\">DEBUG   </span> <span style=\"font-weight: bold\">[</span>select_objects<span style=\"font-weight: bold\">]</span> : Tagger <span style=\"color: #008000; text-decoration-color: #008000\">'none'</span>, cross-cleaning objects     <a href=\"file:///eos/home-c/chuw/HiggsDNAenv/HiggsDNA/higgs_dna/selections/object_selections.py\" target=\"_blank\"><span style=\"color: #7f7f7f; text-decoration-color: #7f7f7f\">object_selections.py</span></a><span style=\"color: #7f7f7f; text-decoration-color: #7f7f7f\">:</span><a href=\"file:///eos/home-c/chuw/HiggsDNAenv/HiggsDNA/higgs_dna/selections/object_selections.py#27\" target=\"_blank\"><span style=\"color: #7f7f7f; text-decoration-color: #7f7f7f\">27</span></a>\n",
       "         <span style=\"color: #008000; text-decoration-color: #008000\">'SelectedFatJet'</span> with respect to the following sets of       <span style=\"color: #7f7f7f; text-decoration-color: #7f7f7f\">                       </span>\n",
       "         objects:                                                     <span style=\"color: #7f7f7f; text-decoration-color: #7f7f7f\">                       </span>\n",
       "</pre>\n"
      ],
      "text/plain": [
       "\u001b[32mDEBUG   \u001b[0m \u001b[1m[\u001b[0mselect_objects\u001b[1m]\u001b[0m : Tagger \u001b[32m'none'\u001b[0m, cross-cleaning objects     \u001b]8;id=61393;file:///eos/home-c/chuw/HiggsDNAenv/HiggsDNA/higgs_dna/selections/object_selections.py\u001b\\\u001b[2mobject_selections.py\u001b[0m\u001b]8;;\u001b\\\u001b[2m:\u001b[0m\u001b]8;id=615824;file:///eos/home-c/chuw/HiggsDNAenv/HiggsDNA/higgs_dna/selections/object_selections.py#27\u001b\\\u001b[2m27\u001b[0m\u001b]8;;\u001b\\\n",
       "         \u001b[32m'SelectedFatJet'\u001b[0m with respect to the following sets of       \u001b[2m                       \u001b[0m\n",
       "         objects:                                                     \u001b[2m                       \u001b[0m\n"
      ]
     },
     "metadata": {},
     "output_type": "display_data"
    },
    {
     "data": {
      "text/html": [
       "<pre style=\"white-space:pre;overflow-x:auto;line-height:normal;font-family:Menlo,'DejaVu Sans Mono',consolas,'Courier New',monospace\"><span style=\"color: #008000; text-decoration-color: #008000\">DEBUG   </span>          <span style=\"color: #008000; text-decoration-color: #008000\">'photons'</span>, dR &gt; <span style=\"color: #008080; text-decoration-color: #008080; font-weight: bold\">0.40</span>                                <a href=\"file:///eos/home-c/chuw/HiggsDNAenv/HiggsDNA/higgs_dna/selections/object_selections.py\" target=\"_blank\"><span style=\"color: #7f7f7f; text-decoration-color: #7f7f7f\">object_selections.py</span></a><span style=\"color: #7f7f7f; text-decoration-color: #7f7f7f\">:</span><a href=\"file:///eos/home-c/chuw/HiggsDNAenv/HiggsDNA/higgs_dna/selections/object_selections.py#29\" target=\"_blank\"><span style=\"color: #7f7f7f; text-decoration-color: #7f7f7f\">29</span></a>\n",
       "</pre>\n"
      ],
      "text/plain": [
       "\u001b[32mDEBUG   \u001b[0m          \u001b[32m'photons'\u001b[0m, dR > \u001b[1;36m0.40\u001b[0m                                \u001b]8;id=310834;file:///eos/home-c/chuw/HiggsDNAenv/HiggsDNA/higgs_dna/selections/object_selections.py\u001b\\\u001b[2mobject_selections.py\u001b[0m\u001b]8;;\u001b\\\u001b[2m:\u001b[0m\u001b]8;id=517283;file:///eos/home-c/chuw/HiggsDNAenv/HiggsDNA/higgs_dna/selections/object_selections.py#29\u001b\\\u001b[2m29\u001b[0m\u001b]8;;\u001b\\\n"
      ]
     },
     "metadata": {},
     "output_type": "display_data"
    },
    {
     "data": {
      "text/html": [
       "<pre style=\"white-space:pre;overflow-x:auto;line-height:normal;font-family:Menlo,'DejaVu Sans Mono',consolas,'Courier New',monospace\"><span style=\"color: #008000; text-decoration-color: #008000\">DEBUG   </span>          <span style=\"color: #008000; text-decoration-color: #008000\">'electrons'</span>, dR &gt; <span style=\"color: #008080; text-decoration-color: #008080; font-weight: bold\">0.40</span>                              <a href=\"file:///eos/home-c/chuw/HiggsDNAenv/HiggsDNA/higgs_dna/selections/object_selections.py\" target=\"_blank\"><span style=\"color: #7f7f7f; text-decoration-color: #7f7f7f\">object_selections.py</span></a><span style=\"color: #7f7f7f; text-decoration-color: #7f7f7f\">:</span><a href=\"file:///eos/home-c/chuw/HiggsDNAenv/HiggsDNA/higgs_dna/selections/object_selections.py#29\" target=\"_blank\"><span style=\"color: #7f7f7f; text-decoration-color: #7f7f7f\">29</span></a>\n",
       "</pre>\n"
      ],
      "text/plain": [
       "\u001b[32mDEBUG   \u001b[0m          \u001b[32m'electrons'\u001b[0m, dR > \u001b[1;36m0.40\u001b[0m                              \u001b]8;id=994909;file:///eos/home-c/chuw/HiggsDNAenv/HiggsDNA/higgs_dna/selections/object_selections.py\u001b\\\u001b[2mobject_selections.py\u001b[0m\u001b]8;;\u001b\\\u001b[2m:\u001b[0m\u001b]8;id=820628;file:///eos/home-c/chuw/HiggsDNAenv/HiggsDNA/higgs_dna/selections/object_selections.py#29\u001b\\\u001b[2m29\u001b[0m\u001b]8;;\u001b\\\n"
      ]
     },
     "metadata": {},
     "output_type": "display_data"
    },
    {
     "data": {
      "text/html": [
       "<pre style=\"white-space:pre;overflow-x:auto;line-height:normal;font-family:Menlo,'DejaVu Sans Mono',consolas,'Courier New',monospace\"><span style=\"color: #008000; text-decoration-color: #008000\">DEBUG   </span>          <span style=\"color: #008000; text-decoration-color: #008000\">'muons'</span>, dR &gt; <span style=\"color: #008080; text-decoration-color: #008080; font-weight: bold\">0.40</span>                                  <a href=\"file:///eos/home-c/chuw/HiggsDNAenv/HiggsDNA/higgs_dna/selections/object_selections.py\" target=\"_blank\"><span style=\"color: #7f7f7f; text-decoration-color: #7f7f7f\">object_selections.py</span></a><span style=\"color: #7f7f7f; text-decoration-color: #7f7f7f\">:</span><a href=\"file:///eos/home-c/chuw/HiggsDNAenv/HiggsDNA/higgs_dna/selections/object_selections.py#29\" target=\"_blank\"><span style=\"color: #7f7f7f; text-decoration-color: #7f7f7f\">29</span></a>\n",
       "</pre>\n"
      ],
      "text/plain": [
       "\u001b[32mDEBUG   \u001b[0m          \u001b[32m'muons'\u001b[0m, dR > \u001b[1;36m0.40\u001b[0m                                  \u001b]8;id=696187;file:///eos/home-c/chuw/HiggsDNAenv/HiggsDNA/higgs_dna/selections/object_selections.py\u001b\\\u001b[2mobject_selections.py\u001b[0m\u001b]8;;\u001b\\\u001b[2m:\u001b[0m\u001b]8;id=551566;file:///eos/home-c/chuw/HiggsDNAenv/HiggsDNA/higgs_dna/selections/object_selections.py#29\u001b\\\u001b[2m29\u001b[0m\u001b]8;;\u001b\\\n"
      ]
     },
     "metadata": {},
     "output_type": "display_data"
    }
   ],
   "source": [
    "fatjet_cut = fatjet_selections.select_fatjets(\n",
    "                fatjets = diphoton_events.FatJet,\n",
    "                options = options[\"fatjets\"],\n",
    "                clean = {\n",
    "                    \"photons\" : {\n",
    "                        \"objects\" : diphoton_events.Diphoton.Photon,\n",
    "                        \"min_dr\" : options[\"jets\"][\"dr_photons\"]\n",
    "                    },\n",
    "                    \"electrons\" : {\n",
    "                        \"objects\" : diphoton_events.SelectedElectron,\n",
    "                        \"min_dr\" : options[\"jets\"][\"dr_electrons\"]\n",
    "                    },\n",
    "                    \"muons\" : {\n",
    "                        \"objects\" : diphoton_events.SelectedMuon,\n",
    "                        \"min_dr\" : options[\"jets\"][\"dr_muons\"]\n",
    "                    }\n",
    "                },\n",
    "                name = \"SelectedFatJet\",\n",
    "#                 tagger = self\n",
    "        )"
   ]
  },
  {
   "cell_type": "code",
   "execution_count": 15,
   "id": "4bed7c48",
   "metadata": {},
   "outputs": [],
   "source": [
    "fatjets = awkward_utils.add_field(\n",
    "                events = diphoton_events,\n",
    "                name = \"SelectedFatJet\",\n",
    "                data = awkward.Array(diphoton_events.FatJet[fatjet_cut], with_name = \"Momentum4D\")\n",
    "        )   "
   ]
  },
  {
   "cell_type": "code",
   "execution_count": 16,
   "id": "b548faf8",
   "metadata": {},
   "outputs": [],
   "source": [
    "fathbbjets = awkward_utils.add_field(\n",
    "                events = diphoton_events,\n",
    "                name = \"SelectedFatHbbJet\",\n",
    "                data = awkward.pad_none(\n",
    "                    diphoton_events.SelectedFatJet[awkward.argsort(fatjets.deepTagMD_HbbvsQCD, axis = 1, ascending = False)],\n",
    "                    1, clip=True)\n",
    "        )   "
   ]
  },
  {
   "cell_type": "code",
   "execution_count": 17,
   "id": "56baab20",
   "metadata": {},
   "outputs": [],
   "source": [
    "fath4qjets = awkward_utils.add_field(\n",
    "                events = diphoton_events,\n",
    "                name = \"SelectedFatH4qJet\",\n",
    "                data = awkward.pad_none(\n",
    "                    diphoton_events.SelectedFatJet[awkward.argsort(fatjets.deepTagMD_H4qvsQCD, axis = 1, ascending = False)],\n",
    "                    1, clip=True)\n",
    "        )   "
   ]
  },
  {
   "cell_type": "code",
   "execution_count": 18,
   "id": "ccd5eb36",
   "metadata": {},
   "outputs": [],
   "source": [
    "events=diphoton_events"
   ]
  },
  {
   "cell_type": "code",
   "execution_count": 19,
   "id": "ca3fbb4a",
   "metadata": {},
   "outputs": [
    {
     "data": {
      "text/html": [
       "<pre style=\"white-space:pre;overflow-x:auto;line-height:normal;font-family:Menlo,'DejaVu Sans Mono',consolas,'Courier New',monospace\"><span style=\"color: #008000; text-decoration-color: #008000\">DEBUG   </span> <span style=\"font-weight: bold\">[</span>select_objects<span style=\"font-weight: bold\">]</span> : Tagger <span style=\"color: #008000; text-decoration-color: #008000\">'none'</span>, selecting objects          <a href=\"file:///eos/home-c/chuw/HiggsDNAenv/HiggsDNA/higgs_dna/selections/object_selections.py\" target=\"_blank\"><span style=\"color: #7f7f7f; text-decoration-color: #7f7f7f\">object_selections.py</span></a><span style=\"color: #7f7f7f; text-decoration-color: #7f7f7f\">:</span><a href=\"file:///eos/home-c/chuw/HiggsDNAenv/HiggsDNA/higgs_dna/selections/object_selections.py#22\" target=\"_blank\"><span style=\"color: #7f7f7f; text-decoration-color: #7f7f7f\">22</span></a>\n",
       "         <span style=\"color: #008000; text-decoration-color: #008000\">'SelectedJet'</span>, with the following requirements:              <span style=\"color: #7f7f7f; text-decoration-color: #7f7f7f\">                       </span>\n",
       "</pre>\n"
      ],
      "text/plain": [
       "\u001b[32mDEBUG   \u001b[0m \u001b[1m[\u001b[0mselect_objects\u001b[1m]\u001b[0m : Tagger \u001b[32m'none'\u001b[0m, selecting objects          \u001b]8;id=342663;file:///eos/home-c/chuw/HiggsDNAenv/HiggsDNA/higgs_dna/selections/object_selections.py\u001b\\\u001b[2mobject_selections.py\u001b[0m\u001b]8;;\u001b\\\u001b[2m:\u001b[0m\u001b]8;id=683981;file:///eos/home-c/chuw/HiggsDNAenv/HiggsDNA/higgs_dna/selections/object_selections.py#22\u001b\\\u001b[2m22\u001b[0m\u001b]8;;\u001b\\\n",
       "         \u001b[32m'SelectedJet'\u001b[0m, with the following requirements:              \u001b[2m                       \u001b[0m\n"
      ]
     },
     "metadata": {},
     "output_type": "display_data"
    },
    {
     "data": {
      "text/html": [
       "<pre style=\"white-space:pre;overflow-x:auto;line-height:normal;font-family:Menlo,'DejaVu Sans Mono',consolas,'Courier New',monospace\"><span style=\"color: #008000; text-decoration-color: #008000\">DEBUG   </span>          <span style=\"color: #008000; text-decoration-color: #008000\">'pt'</span> : <span style=\"color: #008080; text-decoration-color: #008080; font-weight: bold\">25.0</span>                                         <a href=\"file:///eos/home-c/chuw/HiggsDNAenv/HiggsDNA/higgs_dna/selections/object_selections.py\" target=\"_blank\"><span style=\"color: #7f7f7f; text-decoration-color: #7f7f7f\">object_selections.py</span></a><span style=\"color: #7f7f7f; text-decoration-color: #7f7f7f\">:</span><a href=\"file:///eos/home-c/chuw/HiggsDNAenv/HiggsDNA/higgs_dna/selections/object_selections.py#24\" target=\"_blank\"><span style=\"color: #7f7f7f; text-decoration-color: #7f7f7f\">24</span></a>\n",
       "</pre>\n"
      ],
      "text/plain": [
       "\u001b[32mDEBUG   \u001b[0m          \u001b[32m'pt'\u001b[0m : \u001b[1;36m25.0\u001b[0m                                         \u001b]8;id=990193;file:///eos/home-c/chuw/HiggsDNAenv/HiggsDNA/higgs_dna/selections/object_selections.py\u001b\\\u001b[2mobject_selections.py\u001b[0m\u001b]8;;\u001b\\\u001b[2m:\u001b[0m\u001b]8;id=791832;file:///eos/home-c/chuw/HiggsDNAenv/HiggsDNA/higgs_dna/selections/object_selections.py#24\u001b\\\u001b[2m24\u001b[0m\u001b]8;;\u001b\\\n"
      ]
     },
     "metadata": {},
     "output_type": "display_data"
    },
    {
     "data": {
      "text/html": [
       "<pre style=\"white-space:pre;overflow-x:auto;line-height:normal;font-family:Menlo,'DejaVu Sans Mono',consolas,'Courier New',monospace\"><span style=\"color: #008000; text-decoration-color: #008000\">DEBUG   </span>          <span style=\"color: #008000; text-decoration-color: #008000\">'eta'</span> : <span style=\"color: #008080; text-decoration-color: #008080; font-weight: bold\">2.4</span>                                         <a href=\"file:///eos/home-c/chuw/HiggsDNAenv/HiggsDNA/higgs_dna/selections/object_selections.py\" target=\"_blank\"><span style=\"color: #7f7f7f; text-decoration-color: #7f7f7f\">object_selections.py</span></a><span style=\"color: #7f7f7f; text-decoration-color: #7f7f7f\">:</span><a href=\"file:///eos/home-c/chuw/HiggsDNAenv/HiggsDNA/higgs_dna/selections/object_selections.py#24\" target=\"_blank\"><span style=\"color: #7f7f7f; text-decoration-color: #7f7f7f\">24</span></a>\n",
       "</pre>\n"
      ],
      "text/plain": [
       "\u001b[32mDEBUG   \u001b[0m          \u001b[32m'eta'\u001b[0m : \u001b[1;36m2.4\u001b[0m                                         \u001b]8;id=365500;file:///eos/home-c/chuw/HiggsDNAenv/HiggsDNA/higgs_dna/selections/object_selections.py\u001b\\\u001b[2mobject_selections.py\u001b[0m\u001b]8;;\u001b\\\u001b[2m:\u001b[0m\u001b]8;id=597126;file:///eos/home-c/chuw/HiggsDNAenv/HiggsDNA/higgs_dna/selections/object_selections.py#24\u001b\\\u001b[2m24\u001b[0m\u001b]8;;\u001b\\\n"
      ]
     },
     "metadata": {},
     "output_type": "display_data"
    },
    {
     "data": {
      "text/html": [
       "<pre style=\"white-space:pre;overflow-x:auto;line-height:normal;font-family:Menlo,'DejaVu Sans Mono',consolas,'Courier New',monospace\"><span style=\"color: #008000; text-decoration-color: #008000\">DEBUG   </span> <span style=\"font-weight: bold\">[</span>select_objects<span style=\"font-weight: bold\">]</span> : Tagger <span style=\"color: #008000; text-decoration-color: #008000\">'none'</span>, cross-cleaning objects     <a href=\"file:///eos/home-c/chuw/HiggsDNAenv/HiggsDNA/higgs_dna/selections/object_selections.py\" target=\"_blank\"><span style=\"color: #7f7f7f; text-decoration-color: #7f7f7f\">object_selections.py</span></a><span style=\"color: #7f7f7f; text-decoration-color: #7f7f7f\">:</span><a href=\"file:///eos/home-c/chuw/HiggsDNAenv/HiggsDNA/higgs_dna/selections/object_selections.py#27\" target=\"_blank\"><span style=\"color: #7f7f7f; text-decoration-color: #7f7f7f\">27</span></a>\n",
       "         <span style=\"color: #008000; text-decoration-color: #008000\">'SelectedJet'</span> with respect to the following sets of objects: <span style=\"color: #7f7f7f; text-decoration-color: #7f7f7f\">                       </span>\n",
       "</pre>\n"
      ],
      "text/plain": [
       "\u001b[32mDEBUG   \u001b[0m \u001b[1m[\u001b[0mselect_objects\u001b[1m]\u001b[0m : Tagger \u001b[32m'none'\u001b[0m, cross-cleaning objects     \u001b]8;id=364791;file:///eos/home-c/chuw/HiggsDNAenv/HiggsDNA/higgs_dna/selections/object_selections.py\u001b\\\u001b[2mobject_selections.py\u001b[0m\u001b]8;;\u001b\\\u001b[2m:\u001b[0m\u001b]8;id=383476;file:///eos/home-c/chuw/HiggsDNAenv/HiggsDNA/higgs_dna/selections/object_selections.py#27\u001b\\\u001b[2m27\u001b[0m\u001b]8;;\u001b\\\n",
       "         \u001b[32m'SelectedJet'\u001b[0m with respect to the following sets of objects: \u001b[2m                       \u001b[0m\n"
      ]
     },
     "metadata": {},
     "output_type": "display_data"
    },
    {
     "data": {
      "text/html": [
       "<pre style=\"white-space:pre;overflow-x:auto;line-height:normal;font-family:Menlo,'DejaVu Sans Mono',consolas,'Courier New',monospace\"><span style=\"color: #008000; text-decoration-color: #008000\">DEBUG   </span>          <span style=\"color: #008000; text-decoration-color: #008000\">'photons'</span>, dR &gt; <span style=\"color: #008080; text-decoration-color: #008080; font-weight: bold\">0.40</span>                                <a href=\"file:///eos/home-c/chuw/HiggsDNAenv/HiggsDNA/higgs_dna/selections/object_selections.py\" target=\"_blank\"><span style=\"color: #7f7f7f; text-decoration-color: #7f7f7f\">object_selections.py</span></a><span style=\"color: #7f7f7f; text-decoration-color: #7f7f7f\">:</span><a href=\"file:///eos/home-c/chuw/HiggsDNAenv/HiggsDNA/higgs_dna/selections/object_selections.py#29\" target=\"_blank\"><span style=\"color: #7f7f7f; text-decoration-color: #7f7f7f\">29</span></a>\n",
       "</pre>\n"
      ],
      "text/plain": [
       "\u001b[32mDEBUG   \u001b[0m          \u001b[32m'photons'\u001b[0m, dR > \u001b[1;36m0.40\u001b[0m                                \u001b]8;id=703844;file:///eos/home-c/chuw/HiggsDNAenv/HiggsDNA/higgs_dna/selections/object_selections.py\u001b\\\u001b[2mobject_selections.py\u001b[0m\u001b]8;;\u001b\\\u001b[2m:\u001b[0m\u001b]8;id=648760;file:///eos/home-c/chuw/HiggsDNAenv/HiggsDNA/higgs_dna/selections/object_selections.py#29\u001b\\\u001b[2m29\u001b[0m\u001b]8;;\u001b\\\n"
      ]
     },
     "metadata": {},
     "output_type": "display_data"
    },
    {
     "data": {
      "text/html": [
       "<pre style=\"white-space:pre;overflow-x:auto;line-height:normal;font-family:Menlo,'DejaVu Sans Mono',consolas,'Courier New',monospace\"><span style=\"color: #008000; text-decoration-color: #008000\">DEBUG   </span>          <span style=\"color: #008000; text-decoration-color: #008000\">'electrons'</span>, dR &gt; <span style=\"color: #008080; text-decoration-color: #008080; font-weight: bold\">0.40</span>                              <a href=\"file:///eos/home-c/chuw/HiggsDNAenv/HiggsDNA/higgs_dna/selections/object_selections.py\" target=\"_blank\"><span style=\"color: #7f7f7f; text-decoration-color: #7f7f7f\">object_selections.py</span></a><span style=\"color: #7f7f7f; text-decoration-color: #7f7f7f\">:</span><a href=\"file:///eos/home-c/chuw/HiggsDNAenv/HiggsDNA/higgs_dna/selections/object_selections.py#29\" target=\"_blank\"><span style=\"color: #7f7f7f; text-decoration-color: #7f7f7f\">29</span></a>\n",
       "</pre>\n"
      ],
      "text/plain": [
       "\u001b[32mDEBUG   \u001b[0m          \u001b[32m'electrons'\u001b[0m, dR > \u001b[1;36m0.40\u001b[0m                              \u001b]8;id=129340;file:///eos/home-c/chuw/HiggsDNAenv/HiggsDNA/higgs_dna/selections/object_selections.py\u001b\\\u001b[2mobject_selections.py\u001b[0m\u001b]8;;\u001b\\\u001b[2m:\u001b[0m\u001b]8;id=659906;file:///eos/home-c/chuw/HiggsDNAenv/HiggsDNA/higgs_dna/selections/object_selections.py#29\u001b\\\u001b[2m29\u001b[0m\u001b]8;;\u001b\\\n"
      ]
     },
     "metadata": {},
     "output_type": "display_data"
    },
    {
     "data": {
      "text/html": [
       "<pre style=\"white-space:pre;overflow-x:auto;line-height:normal;font-family:Menlo,'DejaVu Sans Mono',consolas,'Courier New',monospace\"><span style=\"color: #008000; text-decoration-color: #008000\">DEBUG   </span>          <span style=\"color: #008000; text-decoration-color: #008000\">'muons'</span>, dR &gt; <span style=\"color: #008080; text-decoration-color: #008080; font-weight: bold\">0.40</span>                                  <a href=\"file:///eos/home-c/chuw/HiggsDNAenv/HiggsDNA/higgs_dna/selections/object_selections.py\" target=\"_blank\"><span style=\"color: #7f7f7f; text-decoration-color: #7f7f7f\">object_selections.py</span></a><span style=\"color: #7f7f7f; text-decoration-color: #7f7f7f\">:</span><a href=\"file:///eos/home-c/chuw/HiggsDNAenv/HiggsDNA/higgs_dna/selections/object_selections.py#29\" target=\"_blank\"><span style=\"color: #7f7f7f; text-decoration-color: #7f7f7f\">29</span></a>\n",
       "</pre>\n"
      ],
      "text/plain": [
       "\u001b[32mDEBUG   \u001b[0m          \u001b[32m'muons'\u001b[0m, dR > \u001b[1;36m0.40\u001b[0m                                  \u001b]8;id=339836;file:///eos/home-c/chuw/HiggsDNAenv/HiggsDNA/higgs_dna/selections/object_selections.py\u001b\\\u001b[2mobject_selections.py\u001b[0m\u001b]8;;\u001b\\\u001b[2m:\u001b[0m\u001b]8;id=910592;file:///eos/home-c/chuw/HiggsDNAenv/HiggsDNA/higgs_dna/selections/object_selections.py#29\u001b\\\u001b[2m29\u001b[0m\u001b]8;;\u001b\\\n"
      ]
     },
     "metadata": {},
     "output_type": "display_data"
    }
   ],
   "source": [
    "jet_cut = jet_selections.select_jets(\n",
    "                jets = events.Jet,\n",
    "                options = options[\"jets\"],\n",
    "                clean = {\n",
    "                    \"photons\" : {\n",
    "                        \"objects\" : events.Diphoton.Photon,\n",
    "                        \"min_dr\" : options[\"jets\"][\"dr_photons\"]\n",
    "                    },\n",
    "                    \"electrons\" : {\n",
    "                        \"objects\" : events.SelectedElectron,\n",
    "                        \"min_dr\" : options[\"jets\"][\"dr_electrons\"]\n",
    "                    },\n",
    "                    \"muons\" : {\n",
    "                        \"objects\" : events.SelectedMuon,\n",
    "                        \"min_dr\" : options[\"jets\"][\"dr_muons\"]\n",
    "                    },\n",
    "\n",
    "                },\n",
    "                name = \"SelectedJet\",\n",
    "#                 tagger = \n",
    "        )"
   ]
  },
  {
   "cell_type": "code",
   "execution_count": 20,
   "id": "6fa93892",
   "metadata": {},
   "outputs": [],
   "source": [
    "jets = awkward_utils.add_field(\n",
    "                events = events,\n",
    "                name = \"SelectedJet\",\n",
    "                data = events.Jet[jet_cut]\n",
    "        )"
   ]
  },
  {
   "cell_type": "code",
   "execution_count": 21,
   "id": "410f7219",
   "metadata": {},
   "outputs": [],
   "source": [
    "bjets = awkward_utils.add_field(\n",
    "                events = events,\n",
    "                name = \"SelectedbJet\",\n",
    "                data = awkward.pad_none(\n",
    "                    events.SelectedJet[awkward.argsort(jets.btagDeepFlavB, axis = 1, ascending = False)],\n",
    "                    2, clip=True)\n",
    "        )  "
   ]
  },
  {
   "cell_type": "code",
   "execution_count": 22,
   "id": "27e07fbd",
   "metadata": {},
   "outputs": [],
   "source": [
    "for objects, name in zip([electrons, muons, jets, fatjets], [\"electron\", \"muon\", \"jet\", \"fatjet\"]):\n",
    "            awkward_utils.add_object_fields(\n",
    "                    events = events,\n",
    "                    name = name,\n",
    "                    objects = objects,\n",
    "                    n_objects = 4,\n",
    "                    dummy_value = DUMMY_VALUE\n",
    "            )"
   ]
  },
  {
   "cell_type": "code",
   "execution_count": 23,
   "id": "d9799780",
   "metadata": {},
   "outputs": [],
   "source": [
    "awkward_utils.add_object_fields(\n",
    "            events = events,\n",
    "            name = \"bjet\",\n",
    "            objects = bjets,\n",
    "            n_objects = 2,\n",
    "            dummy_value = DUMMY_VALUE\n",
    "        )"
   ]
  },
  {
   "cell_type": "code",
   "execution_count": 24,
   "id": "9bb77f0c",
   "metadata": {},
   "outputs": [],
   "source": [
    "awkward_utils.add_object_fields(\n",
    "            events = events,\n",
    "            name = \"fathbbjet\",\n",
    "            objects = fathbbjets,\n",
    "            n_objects = 1,\n",
    "            dummy_value = DUMMY_VALUE\n",
    "        )"
   ]
  },
  {
   "cell_type": "code",
   "execution_count": 25,
   "id": "b03ddd96",
   "metadata": {},
   "outputs": [],
   "source": [
    "awkward_utils.add_object_fields(\n",
    "            events = events,\n",
    "            name = \"fath4qjet\",\n",
    "            objects = fath4qjets,\n",
    "            n_objects = 1,\n",
    "            dummy_value = DUMMY_VALUE\n",
    "        )"
   ]
  },
  {
   "cell_type": "code",
   "execution_count": 26,
   "id": "d91441a9",
   "metadata": {},
   "outputs": [
    {
     "data": {
      "text/plain": [
       "<Array [0, 0, 0, 0, 0, 0, ... 0, 0, 0, 0, 0, 0] type='6734 * int64'>"
      ]
     },
     "execution_count": 26,
     "metadata": {},
     "output_type": "execute_result"
    }
   ],
   "source": [
    "n_electrons = awkward.num(electrons)\n",
    "awkward_utils.add_field(events, \"n_electrons\", n_electrons)"
   ]
  },
  {
   "cell_type": "code",
   "execution_count": 27,
   "id": "17504416",
   "metadata": {},
   "outputs": [
    {
     "name": "stdout",
     "output_type": "stream",
     "text": [
      "6734\n"
     ]
    }
   ],
   "source": [
    "print(len(n_electrons))"
   ]
  },
  {
   "cell_type": "code",
   "execution_count": 28,
   "id": "a48e465e",
   "metadata": {},
   "outputs": [
    {
     "data": {
      "text/plain": [
       "<Array [2, 1, 1, 1, 0, 2, ... 1, 1, 1, 1, 1, 3] type='6734 * int64'>"
      ]
     },
     "execution_count": 28,
     "metadata": {},
     "output_type": "execute_result"
    }
   ],
   "source": [
    "n_muons = awkward.num(muons)\n",
    "awkward_utils.add_field(events, \"n_muons\", n_muons)\n",
    "        \n",
    "n_leptons = n_electrons + n_muons\n",
    "awkward_utils.add_field(events, \"n_leptons\", n_leptons)\n",
    "        \n",
    "n_jets = awkward.num(jets)\n",
    "awkward_utils.add_field(events, \"n_jets\", n_jets)\n",
    "\n",
    "n_bjets = awkward.num(bjets)\n",
    "awkward_utils.add_field(events, \"n_bjets\", n_bjets)\n",
    "\n",
    "n_fatjets = awkward.num(fatjets)\n",
    "awkward_utils.add_field(events, \"n_fatjets\", n_fatjets)"
   ]
  },
  {
   "cell_type": "code",
   "execution_count": 29,
   "id": "f249bed0",
   "metadata": {},
   "outputs": [],
   "source": [
    "is_data=False"
   ]
  },
  {
   "cell_type": "code",
   "execution_count": 30,
   "id": "966c6b51",
   "metadata": {},
   "outputs": [
    {
     "name": "stdout",
     "output_type": "stream",
     "text": [
      "[[], [], [], [], [], [], [], [], [], [], ... [], [], [], [], [], [], [], [], [], []]\n",
      "<class 'awkward.highlevel.Array'>\n",
      "[0, 0, 0, 0, 0, 0, 0, 0, 0, 0, 0, 0, 0, 0, ... 0, 0, 0, 0, 0, 0, 0, 0, 0, 0, 0, 0, 0]\n",
      "[[], [], [], [], [], [], [], [], [], [], ... [], [], [], [], [], [], [], [], [], []]\n",
      "<class 'awkward.highlevel.Array'>\n",
      "[0, 0, 0, 0, 0, 0, 0, 0, 0, 0, 0, 0, 0, 0, ... 0, 0, 0, 0, 0, 0, 0, 0, 0, 0, 0, 0, 0]\n",
      "[[], [], [], [], [], [], [], [], [], [], ... [], [], [], [], [], [], [], [], [], []]\n",
      "<class 'vector._backends.awkward_.MomentumArray4D'>\n",
      "[[{LeadGenChild: {eta: -0.771, mass: 80, phi: 0.462, ... Child_2_Id: 24}}]]\n",
      "<class 'awkward.highlevel.Array'>\n",
      "[1, 1, 1, 1, 1, 1, 1, 1, 1, 1, 1, 1, 1, 1, ... 1, 1, 1, 1, 1, 1, 1, 1, 1, 1, 1, 1, 1]\n",
      "6734\n"
     ]
    }
   ],
   "source": [
    "if not is_data:\n",
    "            gen_hbb = gen_selections.select_x_to_yz(events.GenPart, 25, 5, 5)\n",
    "            gen_hgg = gen_selections.select_x_to_yz(events.GenPart, 25, 22, 22)\n",
    "            gen_hzz = gen_selections.select_x_to_yz(events.GenPart, 25, 23, 23)\n",
    "            gen_hww = gen_selections.select_x_to_yz(events.GenPart, 25, 24, 24)\n",
    "            gen_htt = gen_selections.select_x_to_yz(events.GenPart, 25, 15, 15)\n",
    "\n",
    "            #two distincts decays per event\n",
    "            if awkward.any( (awkward.num(gen_hbb)>1) | (awkward.num(gen_htt)>1) | \\\n",
    "                            (awkward.num(gen_hgg)>1) | (awkward.num(gen_hzz)>1) | (awkward.num(gen_hww)>1) ):\n",
    "                raise RuntimeError(\"can handle only two distincts H decays per event\")\n",
    "                \n",
    "            #at most one decay to something else than gg\n",
    "            if awkward.any( (awkward.num(gen_hbb)>0) & (awkward.num(gen_hzz)>0) & \\\n",
    "                            (awkward.num(gen_hww)>0) & (awkward.num(gen_htt)>0) ):\n",
    "                raise RuntimeError(\"can handle at most one decay to something else than gg\")\n",
    "\n",
    "            #hbbevts = (awkward.num(gen_hbb)==1)\n",
    "            #hggevts = (awkward.num(gen_hgg)==1)\n",
    "            #hzzevts = (awkward.num(gen_hzz)==1)\n",
    "            #hwwevts = (awkward.num(gen_hww)==1)\n",
    "\n",
    "            #gen_otherh_parent = awkward.zeros_like(n_jets)\n",
    "            #gen_otherh_parent = awkward.fill_none(gen_otherh_parent, 0)\n",
    "            #gen_otherh_parent = awkward.where(hbbevts, gen_hbb, gen_otherh_parent)\n",
    "            #gen_otherh_parent = awkward.where(httevts, gen_htt, gen_otherh_parent)\n",
    "            #gen_otherh_parent = awkward.where(hwwevts, gen_hww, gen_otherh_parent)\n",
    "            #gen_otherh_parent = awkward.where(hzzevts, gen_hzz, gen_otherh_parent)\n",
    "\n",
    "            print(gen_hbb)\n",
    "            print(type(gen_hbb))\n",
    "            print(awkward.num(gen_hbb))\n",
    "            print(gen_htt)\n",
    "            print(type(gen_htt))\n",
    "            print(awkward.num(gen_htt))\n",
    "            print(gen_hbb.GenParent)\n",
    "            print(type(gen_hbb.GenParent))\n",
    "            gen_otherh = awkward.concatenate([gen_hbb,gen_htt,gen_hww,gen_hzz], axis=1)\n",
    "            print(gen_otherh)\n",
    "            print(type(gen_otherh))\n",
    "            print(awkward.num(gen_otherh))\n",
    "            print(len(gen_otherh))\n",
    "            hxxevts = (awkward.num(gen_otherh)==1)\n",
    "            hggevts = (awkward.num(gen_hgg)==1)"
   ]
  },
  {
   "cell_type": "code",
   "execution_count": null,
   "id": "29607470",
   "metadata": {},
   "outputs": [],
   "source": []
  },
  {
   "cell_type": "code",
   "execution_count": 54,
   "id": "8704a393",
   "metadata": {},
   "outputs": [
    {
     "data": {
      "text/html": [
       "<pre style=\"white-space:pre;overflow-x:auto;line-height:normal;font-family:Menlo,'DejaVu Sans Mono',consolas,'Courier New',monospace\"><span style=\"color: #800000; text-decoration-color: #800000\">WARNING </span> <span style=\"font-weight: bold\">[</span>awkward_utils.py : add_field<span style=\"font-weight: bold\">]</span> You tried to write the field      <a href=\"file:///eos/home-c/chuw/HiggsDNAenv/HiggsDNA/higgs_dna/utils/awkward_utils.py\" target=\"_blank\"><span style=\"color: #7f7f7f; text-decoration-color: #7f7f7f\">awkward_utils.py</span></a><span style=\"color: #7f7f7f; text-decoration-color: #7f7f7f\">:</span><a href=\"file:///eos/home-c/chuw/HiggsDNAenv/HiggsDNA/higgs_dna/utils/awkward_utils.py#87\" target=\"_blank\"><span style=\"color: #7f7f7f; text-decoration-color: #7f7f7f\">87</span></a>\n",
       "         GenOtherHiggs_eta, but it is already present and overwrite       <span style=\"color: #7f7f7f; text-decoration-color: #7f7f7f\">                   </span>\n",
       "         option was not selected. Not overwriting existing field.         <span style=\"color: #7f7f7f; text-decoration-color: #7f7f7f\">                   </span>\n",
       "</pre>\n"
      ],
      "text/plain": [
       "\u001b[31mWARNING \u001b[0m \u001b[1m[\u001b[0mawkward_utils.py : add_field\u001b[1m]\u001b[0m You tried to write the field      \u001b]8;id=727983;file:///eos/home-c/chuw/HiggsDNAenv/HiggsDNA/higgs_dna/utils/awkward_utils.py\u001b\\\u001b[2mawkward_utils.py\u001b[0m\u001b]8;;\u001b\\\u001b[2m:\u001b[0m\u001b]8;id=669800;file:///eos/home-c/chuw/HiggsDNAenv/HiggsDNA/higgs_dna/utils/awkward_utils.py#87\u001b\\\u001b[2m87\u001b[0m\u001b]8;;\u001b\\\n",
       "         GenOtherHiggs_eta, but it is already present and overwrite       \u001b[2m                   \u001b[0m\n",
       "         option was not selected. Not overwriting existing field.         \u001b[2m                   \u001b[0m\n"
      ]
     },
     "metadata": {},
     "output_type": "display_data"
    },
    {
     "data": {
      "text/html": [
       "<pre style=\"white-space:pre;overflow-x:auto;line-height:normal;font-family:Menlo,'DejaVu Sans Mono',consolas,'Courier New',monospace\"><span style=\"color: #800000; text-decoration-color: #800000\">WARNING </span> <span style=\"font-weight: bold\">[</span>awkward_utils.py : add_field<span style=\"font-weight: bold\">]</span> You tried to write the field      <a href=\"file:///eos/home-c/chuw/HiggsDNAenv/HiggsDNA/higgs_dna/utils/awkward_utils.py\" target=\"_blank\"><span style=\"color: #7f7f7f; text-decoration-color: #7f7f7f\">awkward_utils.py</span></a><span style=\"color: #7f7f7f; text-decoration-color: #7f7f7f\">:</span><a href=\"file:///eos/home-c/chuw/HiggsDNAenv/HiggsDNA/higgs_dna/utils/awkward_utils.py#87\" target=\"_blank\"><span style=\"color: #7f7f7f; text-decoration-color: #7f7f7f\">87</span></a>\n",
       "         GenOtherHiggs_mass, but it is already present and overwrite      <span style=\"color: #7f7f7f; text-decoration-color: #7f7f7f\">                   </span>\n",
       "         option was not selected. Not overwriting existing field.         <span style=\"color: #7f7f7f; text-decoration-color: #7f7f7f\">                   </span>\n",
       "</pre>\n"
      ],
      "text/plain": [
       "\u001b[31mWARNING \u001b[0m \u001b[1m[\u001b[0mawkward_utils.py : add_field\u001b[1m]\u001b[0m You tried to write the field      \u001b]8;id=603156;file:///eos/home-c/chuw/HiggsDNAenv/HiggsDNA/higgs_dna/utils/awkward_utils.py\u001b\\\u001b[2mawkward_utils.py\u001b[0m\u001b]8;;\u001b\\\u001b[2m:\u001b[0m\u001b]8;id=411891;file:///eos/home-c/chuw/HiggsDNAenv/HiggsDNA/higgs_dna/utils/awkward_utils.py#87\u001b\\\u001b[2m87\u001b[0m\u001b]8;;\u001b\\\n",
       "         GenOtherHiggs_mass, but it is already present and overwrite      \u001b[2m                   \u001b[0m\n",
       "         option was not selected. Not overwriting existing field.         \u001b[2m                   \u001b[0m\n"
      ]
     },
     "metadata": {},
     "output_type": "display_data"
    },
    {
     "data": {
      "text/html": [
       "<pre style=\"white-space:pre;overflow-x:auto;line-height:normal;font-family:Menlo,'DejaVu Sans Mono',consolas,'Courier New',monospace\"><span style=\"color: #800000; text-decoration-color: #800000\">WARNING </span> <span style=\"font-weight: bold\">[</span>awkward_utils.py : add_field<span style=\"font-weight: bold\">]</span> You tried to write the field      <a href=\"file:///eos/home-c/chuw/HiggsDNAenv/HiggsDNA/higgs_dna/utils/awkward_utils.py\" target=\"_blank\"><span style=\"color: #7f7f7f; text-decoration-color: #7f7f7f\">awkward_utils.py</span></a><span style=\"color: #7f7f7f; text-decoration-color: #7f7f7f\">:</span><a href=\"file:///eos/home-c/chuw/HiggsDNAenv/HiggsDNA/higgs_dna/utils/awkward_utils.py#87\" target=\"_blank\"><span style=\"color: #7f7f7f; text-decoration-color: #7f7f7f\">87</span></a>\n",
       "         GenOtherHiggs_phi, but it is already present and overwrite       <span style=\"color: #7f7f7f; text-decoration-color: #7f7f7f\">                   </span>\n",
       "         option was not selected. Not overwriting existing field.         <span style=\"color: #7f7f7f; text-decoration-color: #7f7f7f\">                   </span>\n",
       "</pre>\n"
      ],
      "text/plain": [
       "\u001b[31mWARNING \u001b[0m \u001b[1m[\u001b[0mawkward_utils.py : add_field\u001b[1m]\u001b[0m You tried to write the field      \u001b]8;id=298744;file:///eos/home-c/chuw/HiggsDNAenv/HiggsDNA/higgs_dna/utils/awkward_utils.py\u001b\\\u001b[2mawkward_utils.py\u001b[0m\u001b]8;;\u001b\\\u001b[2m:\u001b[0m\u001b]8;id=736741;file:///eos/home-c/chuw/HiggsDNAenv/HiggsDNA/higgs_dna/utils/awkward_utils.py#87\u001b\\\u001b[2m87\u001b[0m\u001b]8;;\u001b\\\n",
       "         GenOtherHiggs_phi, but it is already present and overwrite       \u001b[2m                   \u001b[0m\n",
       "         option was not selected. Not overwriting existing field.         \u001b[2m                   \u001b[0m\n"
      ]
     },
     "metadata": {},
     "output_type": "display_data"
    },
    {
     "data": {
      "text/html": [
       "<pre style=\"white-space:pre;overflow-x:auto;line-height:normal;font-family:Menlo,'DejaVu Sans Mono',consolas,'Courier New',monospace\"><span style=\"color: #800000; text-decoration-color: #800000\">WARNING </span> <span style=\"font-weight: bold\">[</span>awkward_utils.py : add_field<span style=\"font-weight: bold\">]</span> You tried to write the field      <a href=\"file:///eos/home-c/chuw/HiggsDNAenv/HiggsDNA/higgs_dna/utils/awkward_utils.py\" target=\"_blank\"><span style=\"color: #7f7f7f; text-decoration-color: #7f7f7f\">awkward_utils.py</span></a><span style=\"color: #7f7f7f; text-decoration-color: #7f7f7f\">:</span><a href=\"file:///eos/home-c/chuw/HiggsDNAenv/HiggsDNA/higgs_dna/utils/awkward_utils.py#87\" target=\"_blank\"><span style=\"color: #7f7f7f; text-decoration-color: #7f7f7f\">87</span></a>\n",
       "         GenOtherHiggs_pt, but it is already present and overwrite option <span style=\"color: #7f7f7f; text-decoration-color: #7f7f7f\">                   </span>\n",
       "         was not selected. Not overwriting existing field.                <span style=\"color: #7f7f7f; text-decoration-color: #7f7f7f\">                   </span>\n",
       "</pre>\n"
      ],
      "text/plain": [
       "\u001b[31mWARNING \u001b[0m \u001b[1m[\u001b[0mawkward_utils.py : add_field\u001b[1m]\u001b[0m You tried to write the field      \u001b]8;id=818959;file:///eos/home-c/chuw/HiggsDNAenv/HiggsDNA/higgs_dna/utils/awkward_utils.py\u001b\\\u001b[2mawkward_utils.py\u001b[0m\u001b]8;;\u001b\\\u001b[2m:\u001b[0m\u001b]8;id=430297;file:///eos/home-c/chuw/HiggsDNAenv/HiggsDNA/higgs_dna/utils/awkward_utils.py#87\u001b\\\u001b[2m87\u001b[0m\u001b]8;;\u001b\\\n",
       "         GenOtherHiggs_pt, but it is already present and overwrite option \u001b[2m                   \u001b[0m\n",
       "         was not selected. Not overwriting existing field.                \u001b[2m                   \u001b[0m\n"
      ]
     },
     "metadata": {},
     "output_type": "display_data"
    },
    {
     "data": {
      "text/html": [
       "<pre style=\"white-space:pre;overflow-x:auto;line-height:normal;font-family:Menlo,'DejaVu Sans Mono',consolas,'Courier New',monospace\"><span style=\"color: #800000; text-decoration-color: #800000\">WARNING </span> <span style=\"font-weight: bold\">[</span>awkward_utils.py : add_field<span style=\"font-weight: bold\">]</span> You tried to write the field      <a href=\"file:///eos/home-c/chuw/HiggsDNAenv/HiggsDNA/higgs_dna/utils/awkward_utils.py\" target=\"_blank\"><span style=\"color: #7f7f7f; text-decoration-color: #7f7f7f\">awkward_utils.py</span></a><span style=\"color: #7f7f7f; text-decoration-color: #7f7f7f\">:</span><a href=\"file:///eos/home-c/chuw/HiggsDNAenv/HiggsDNA/higgs_dna/utils/awkward_utils.py#87\" target=\"_blank\"><span style=\"color: #7f7f7f; text-decoration-color: #7f7f7f\">87</span></a>\n",
       "         GenOtherHiggs_genPartIdxMother, but it is already present and    <span style=\"color: #7f7f7f; text-decoration-color: #7f7f7f\">                   </span>\n",
       "         overwrite option was not selected. Not overwriting existing      <span style=\"color: #7f7f7f; text-decoration-color: #7f7f7f\">                   </span>\n",
       "         field.                                                           <span style=\"color: #7f7f7f; text-decoration-color: #7f7f7f\">                   </span>\n",
       "</pre>\n"
      ],
      "text/plain": [
       "\u001b[31mWARNING \u001b[0m \u001b[1m[\u001b[0mawkward_utils.py : add_field\u001b[1m]\u001b[0m You tried to write the field      \u001b]8;id=59217;file:///eos/home-c/chuw/HiggsDNAenv/HiggsDNA/higgs_dna/utils/awkward_utils.py\u001b\\\u001b[2mawkward_utils.py\u001b[0m\u001b]8;;\u001b\\\u001b[2m:\u001b[0m\u001b]8;id=803032;file:///eos/home-c/chuw/HiggsDNAenv/HiggsDNA/higgs_dna/utils/awkward_utils.py#87\u001b\\\u001b[2m87\u001b[0m\u001b]8;;\u001b\\\n",
       "         GenOtherHiggs_genPartIdxMother, but it is already present and    \u001b[2m                   \u001b[0m\n",
       "         overwrite option was not selected. Not overwriting existing      \u001b[2m                   \u001b[0m\n",
       "         field.                                                           \u001b[2m                   \u001b[0m\n"
      ]
     },
     "metadata": {},
     "output_type": "display_data"
    },
    {
     "data": {
      "text/html": [
       "<pre style=\"white-space:pre;overflow-x:auto;line-height:normal;font-family:Menlo,'DejaVu Sans Mono',consolas,'Courier New',monospace\"><span style=\"color: #800000; text-decoration-color: #800000\">WARNING </span> <span style=\"font-weight: bold\">[</span>awkward_utils.py : add_field<span style=\"font-weight: bold\">]</span> You tried to write the field      <a href=\"file:///eos/home-c/chuw/HiggsDNAenv/HiggsDNA/higgs_dna/utils/awkward_utils.py\" target=\"_blank\"><span style=\"color: #7f7f7f; text-decoration-color: #7f7f7f\">awkward_utils.py</span></a><span style=\"color: #7f7f7f; text-decoration-color: #7f7f7f\">:</span><a href=\"file:///eos/home-c/chuw/HiggsDNAenv/HiggsDNA/higgs_dna/utils/awkward_utils.py#87\" target=\"_blank\"><span style=\"color: #7f7f7f; text-decoration-color: #7f7f7f\">87</span></a>\n",
       "         GenOtherHiggs_pdgId, but it is already present and overwrite     <span style=\"color: #7f7f7f; text-decoration-color: #7f7f7f\">                   </span>\n",
       "         option was not selected. Not overwriting existing field.         <span style=\"color: #7f7f7f; text-decoration-color: #7f7f7f\">                   </span>\n",
       "</pre>\n"
      ],
      "text/plain": [
       "\u001b[31mWARNING \u001b[0m \u001b[1m[\u001b[0mawkward_utils.py : add_field\u001b[1m]\u001b[0m You tried to write the field      \u001b]8;id=299615;file:///eos/home-c/chuw/HiggsDNAenv/HiggsDNA/higgs_dna/utils/awkward_utils.py\u001b\\\u001b[2mawkward_utils.py\u001b[0m\u001b]8;;\u001b\\\u001b[2m:\u001b[0m\u001b]8;id=995916;file:///eos/home-c/chuw/HiggsDNAenv/HiggsDNA/higgs_dna/utils/awkward_utils.py#87\u001b\\\u001b[2m87\u001b[0m\u001b]8;;\u001b\\\n",
       "         GenOtherHiggs_pdgId, but it is already present and overwrite     \u001b[2m                   \u001b[0m\n",
       "         option was not selected. Not overwriting existing field.         \u001b[2m                   \u001b[0m\n"
      ]
     },
     "metadata": {},
     "output_type": "display_data"
    },
    {
     "data": {
      "text/html": [
       "<pre style=\"white-space:pre;overflow-x:auto;line-height:normal;font-family:Menlo,'DejaVu Sans Mono',consolas,'Courier New',monospace\"><span style=\"color: #800000; text-decoration-color: #800000\">WARNING </span> <span style=\"font-weight: bold\">[</span>awkward_utils.py : add_field<span style=\"font-weight: bold\">]</span> You tried to write the field      <a href=\"file:///eos/home-c/chuw/HiggsDNAenv/HiggsDNA/higgs_dna/utils/awkward_utils.py\" target=\"_blank\"><span style=\"color: #7f7f7f; text-decoration-color: #7f7f7f\">awkward_utils.py</span></a><span style=\"color: #7f7f7f; text-decoration-color: #7f7f7f\">:</span><a href=\"file:///eos/home-c/chuw/HiggsDNAenv/HiggsDNA/higgs_dna/utils/awkward_utils.py#87\" target=\"_blank\"><span style=\"color: #7f7f7f; text-decoration-color: #7f7f7f\">87</span></a>\n",
       "         GenOtherHiggs_status, but it is already present and overwrite    <span style=\"color: #7f7f7f; text-decoration-color: #7f7f7f\">                   </span>\n",
       "         option was not selected. Not overwriting existing field.         <span style=\"color: #7f7f7f; text-decoration-color: #7f7f7f\">                   </span>\n",
       "</pre>\n"
      ],
      "text/plain": [
       "\u001b[31mWARNING \u001b[0m \u001b[1m[\u001b[0mawkward_utils.py : add_field\u001b[1m]\u001b[0m You tried to write the field      \u001b]8;id=990705;file:///eos/home-c/chuw/HiggsDNAenv/HiggsDNA/higgs_dna/utils/awkward_utils.py\u001b\\\u001b[2mawkward_utils.py\u001b[0m\u001b]8;;\u001b\\\u001b[2m:\u001b[0m\u001b]8;id=414114;file:///eos/home-c/chuw/HiggsDNAenv/HiggsDNA/higgs_dna/utils/awkward_utils.py#87\u001b\\\u001b[2m87\u001b[0m\u001b]8;;\u001b\\\n",
       "         GenOtherHiggs_status, but it is already present and overwrite    \u001b[2m                   \u001b[0m\n",
       "         option was not selected. Not overwriting existing field.         \u001b[2m                   \u001b[0m\n"
      ]
     },
     "metadata": {},
     "output_type": "display_data"
    },
    {
     "data": {
      "text/html": [
       "<pre style=\"white-space:pre;overflow-x:auto;line-height:normal;font-family:Menlo,'DejaVu Sans Mono',consolas,'Courier New',monospace\"><span style=\"color: #800000; text-decoration-color: #800000\">WARNING </span> <span style=\"font-weight: bold\">[</span>awkward_utils.py : add_field<span style=\"font-weight: bold\">]</span> You tried to write the field      <a href=\"file:///eos/home-c/chuw/HiggsDNAenv/HiggsDNA/higgs_dna/utils/awkward_utils.py\" target=\"_blank\"><span style=\"color: #7f7f7f; text-decoration-color: #7f7f7f\">awkward_utils.py</span></a><span style=\"color: #7f7f7f; text-decoration-color: #7f7f7f\">:</span><a href=\"file:///eos/home-c/chuw/HiggsDNAenv/HiggsDNA/higgs_dna/utils/awkward_utils.py#87\" target=\"_blank\"><span style=\"color: #7f7f7f; text-decoration-color: #7f7f7f\">87</span></a>\n",
       "         GenOtherHiggs_statusFlags, but it is already present and         <span style=\"color: #7f7f7f; text-decoration-color: #7f7f7f\">                   </span>\n",
       "         overwrite option was not selected. Not overwriting existing      <span style=\"color: #7f7f7f; text-decoration-color: #7f7f7f\">                   </span>\n",
       "         field.                                                           <span style=\"color: #7f7f7f; text-decoration-color: #7f7f7f\">                   </span>\n",
       "</pre>\n"
      ],
      "text/plain": [
       "\u001b[31mWARNING \u001b[0m \u001b[1m[\u001b[0mawkward_utils.py : add_field\u001b[1m]\u001b[0m You tried to write the field      \u001b]8;id=81407;file:///eos/home-c/chuw/HiggsDNAenv/HiggsDNA/higgs_dna/utils/awkward_utils.py\u001b\\\u001b[2mawkward_utils.py\u001b[0m\u001b]8;;\u001b\\\u001b[2m:\u001b[0m\u001b]8;id=74411;file:///eos/home-c/chuw/HiggsDNAenv/HiggsDNA/higgs_dna/utils/awkward_utils.py#87\u001b\\\u001b[2m87\u001b[0m\u001b]8;;\u001b\\\n",
       "         GenOtherHiggs_statusFlags, but it is already present and         \u001b[2m                   \u001b[0m\n",
       "         overwrite option was not selected. Not overwriting existing      \u001b[2m                   \u001b[0m\n",
       "         field.                                                           \u001b[2m                   \u001b[0m\n"
      ]
     },
     "metadata": {},
     "output_type": "display_data"
    },
    {
     "data": {
      "text/html": [
       "<pre style=\"white-space:pre;overflow-x:auto;line-height:normal;font-family:Menlo,'DejaVu Sans Mono',consolas,'Courier New',monospace\"><span style=\"color: #800000; text-decoration-color: #800000\">WARNING </span> <span style=\"font-weight: bold\">[</span>awkward_utils.py : add_field<span style=\"font-weight: bold\">]</span> You tried to write the field      <a href=\"file:///eos/home-c/chuw/HiggsDNAenv/HiggsDNA/higgs_dna/utils/awkward_utils.py\" target=\"_blank\"><span style=\"color: #7f7f7f; text-decoration-color: #7f7f7f\">awkward_utils.py</span></a><span style=\"color: #7f7f7f; text-decoration-color: #7f7f7f\">:</span><a href=\"file:///eos/home-c/chuw/HiggsDNAenv/HiggsDNA/higgs_dna/utils/awkward_utils.py#87\" target=\"_blank\"><span style=\"color: #7f7f7f; text-decoration-color: #7f7f7f\">87</span></a>\n",
       "         GenOtherHiggs_dR, but it is already present and overwrite option <span style=\"color: #7f7f7f; text-decoration-color: #7f7f7f\">                   </span>\n",
       "         was not selected. Not overwriting existing field.                <span style=\"color: #7f7f7f; text-decoration-color: #7f7f7f\">                   </span>\n",
       "</pre>\n"
      ],
      "text/plain": [
       "\u001b[31mWARNING \u001b[0m \u001b[1m[\u001b[0mawkward_utils.py : add_field\u001b[1m]\u001b[0m You tried to write the field      \u001b]8;id=717648;file:///eos/home-c/chuw/HiggsDNAenv/HiggsDNA/higgs_dna/utils/awkward_utils.py\u001b\\\u001b[2mawkward_utils.py\u001b[0m\u001b]8;;\u001b\\\u001b[2m:\u001b[0m\u001b]8;id=385094;file:///eos/home-c/chuw/HiggsDNAenv/HiggsDNA/higgs_dna/utils/awkward_utils.py#87\u001b\\\u001b[2m87\u001b[0m\u001b]8;;\u001b\\\n",
       "         GenOtherHiggs_dR, but it is already present and overwrite option \u001b[2m                   \u001b[0m\n",
       "         was not selected. Not overwriting existing field.                \u001b[2m                   \u001b[0m\n"
      ]
     },
     "metadata": {},
     "output_type": "display_data"
    },
    {
     "data": {
      "text/html": [
       "<pre style=\"white-space:pre;overflow-x:auto;line-height:normal;font-family:Menlo,'DejaVu Sans Mono',consolas,'Courier New',monospace\"><span style=\"color: #800000; text-decoration-color: #800000\">WARNING </span> <span style=\"font-weight: bold\">[</span>awkward_utils.py : add_field<span style=\"font-weight: bold\">]</span> You tried to write the field      <a href=\"file:///eos/home-c/chuw/HiggsDNAenv/HiggsDNA/higgs_dna/utils/awkward_utils.py\" target=\"_blank\"><span style=\"color: #7f7f7f; text-decoration-color: #7f7f7f\">awkward_utils.py</span></a><span style=\"color: #7f7f7f; text-decoration-color: #7f7f7f\">:</span><a href=\"file:///eos/home-c/chuw/HiggsDNAenv/HiggsDNA/higgs_dna/utils/awkward_utils.py#87\" target=\"_blank\"><span style=\"color: #7f7f7f; text-decoration-color: #7f7f7f\">87</span></a>\n",
       "         GenOtherHiggs_Child_1_Id, but it is already present and          <span style=\"color: #7f7f7f; text-decoration-color: #7f7f7f\">                   </span>\n",
       "         overwrite option was not selected. Not overwriting existing      <span style=\"color: #7f7f7f; text-decoration-color: #7f7f7f\">                   </span>\n",
       "         field.                                                           <span style=\"color: #7f7f7f; text-decoration-color: #7f7f7f\">                   </span>\n",
       "</pre>\n"
      ],
      "text/plain": [
       "\u001b[31mWARNING \u001b[0m \u001b[1m[\u001b[0mawkward_utils.py : add_field\u001b[1m]\u001b[0m You tried to write the field      \u001b]8;id=542641;file:///eos/home-c/chuw/HiggsDNAenv/HiggsDNA/higgs_dna/utils/awkward_utils.py\u001b\\\u001b[2mawkward_utils.py\u001b[0m\u001b]8;;\u001b\\\u001b[2m:\u001b[0m\u001b]8;id=389064;file:///eos/home-c/chuw/HiggsDNAenv/HiggsDNA/higgs_dna/utils/awkward_utils.py#87\u001b\\\u001b[2m87\u001b[0m\u001b]8;;\u001b\\\n",
       "         GenOtherHiggs_Child_1_Id, but it is already present and          \u001b[2m                   \u001b[0m\n",
       "         overwrite option was not selected. Not overwriting existing      \u001b[2m                   \u001b[0m\n",
       "         field.                                                           \u001b[2m                   \u001b[0m\n"
      ]
     },
     "metadata": {},
     "output_type": "display_data"
    },
    {
     "data": {
      "text/html": [
       "<pre style=\"white-space:pre;overflow-x:auto;line-height:normal;font-family:Menlo,'DejaVu Sans Mono',consolas,'Courier New',monospace\"><span style=\"color: #800000; text-decoration-color: #800000\">WARNING </span> <span style=\"font-weight: bold\">[</span>awkward_utils.py : add_field<span style=\"font-weight: bold\">]</span> You tried to write the field      <a href=\"file:///eos/home-c/chuw/HiggsDNAenv/HiggsDNA/higgs_dna/utils/awkward_utils.py\" target=\"_blank\"><span style=\"color: #7f7f7f; text-decoration-color: #7f7f7f\">awkward_utils.py</span></a><span style=\"color: #7f7f7f; text-decoration-color: #7f7f7f\">:</span><a href=\"file:///eos/home-c/chuw/HiggsDNAenv/HiggsDNA/higgs_dna/utils/awkward_utils.py#87\" target=\"_blank\"><span style=\"color: #7f7f7f; text-decoration-color: #7f7f7f\">87</span></a>\n",
       "         GenOtherHiggs_Child_2_Id, but it is already present and          <span style=\"color: #7f7f7f; text-decoration-color: #7f7f7f\">                   </span>\n",
       "         overwrite option was not selected. Not overwriting existing      <span style=\"color: #7f7f7f; text-decoration-color: #7f7f7f\">                   </span>\n",
       "         field.                                                           <span style=\"color: #7f7f7f; text-decoration-color: #7f7f7f\">                   </span>\n",
       "</pre>\n"
      ],
      "text/plain": [
       "\u001b[31mWARNING \u001b[0m \u001b[1m[\u001b[0mawkward_utils.py : add_field\u001b[1m]\u001b[0m You tried to write the field      \u001b]8;id=723747;file:///eos/home-c/chuw/HiggsDNAenv/HiggsDNA/higgs_dna/utils/awkward_utils.py\u001b\\\u001b[2mawkward_utils.py\u001b[0m\u001b]8;;\u001b\\\u001b[2m:\u001b[0m\u001b]8;id=662885;file:///eos/home-c/chuw/HiggsDNAenv/HiggsDNA/higgs_dna/utils/awkward_utils.py#87\u001b\\\u001b[2m87\u001b[0m\u001b]8;;\u001b\\\n",
       "         GenOtherHiggs_Child_2_Id, but it is already present and          \u001b[2m                   \u001b[0m\n",
       "         overwrite option was not selected. Not overwriting existing      \u001b[2m                   \u001b[0m\n",
       "         field.                                                           \u001b[2m                   \u001b[0m\n"
      ]
     },
     "metadata": {},
     "output_type": "display_data"
    },
    {
     "data": {
      "text/html": [
       "<pre style=\"white-space:pre;overflow-x:auto;line-height:normal;font-family:Menlo,'DejaVu Sans Mono',consolas,'Courier New',monospace\"><span style=\"color: #800000; text-decoration-color: #800000\">WARNING </span> <span style=\"font-weight: bold\">[</span>awkward_utils.py : add_field<span style=\"font-weight: bold\">]</span> You tried to write the field      <a href=\"file:///eos/home-c/chuw/HiggsDNAenv/HiggsDNA/higgs_dna/utils/awkward_utils.py\" target=\"_blank\"><span style=\"color: #7f7f7f; text-decoration-color: #7f7f7f\">awkward_utils.py</span></a><span style=\"color: #7f7f7f; text-decoration-color: #7f7f7f\">:</span><a href=\"file:///eos/home-c/chuw/HiggsDNAenv/HiggsDNA/higgs_dna/utils/awkward_utils.py#87\" target=\"_blank\"><span style=\"color: #7f7f7f; text-decoration-color: #7f7f7f\">87</span></a>\n",
       "         GenOtherHiggsLeadprod_eta, but it is already present and         <span style=\"color: #7f7f7f; text-decoration-color: #7f7f7f\">                   </span>\n",
       "         overwrite option was not selected. Not overwriting existing      <span style=\"color: #7f7f7f; text-decoration-color: #7f7f7f\">                   </span>\n",
       "         field.                                                           <span style=\"color: #7f7f7f; text-decoration-color: #7f7f7f\">                   </span>\n",
       "</pre>\n"
      ],
      "text/plain": [
       "\u001b[31mWARNING \u001b[0m \u001b[1m[\u001b[0mawkward_utils.py : add_field\u001b[1m]\u001b[0m You tried to write the field      \u001b]8;id=358089;file:///eos/home-c/chuw/HiggsDNAenv/HiggsDNA/higgs_dna/utils/awkward_utils.py\u001b\\\u001b[2mawkward_utils.py\u001b[0m\u001b]8;;\u001b\\\u001b[2m:\u001b[0m\u001b]8;id=613222;file:///eos/home-c/chuw/HiggsDNAenv/HiggsDNA/higgs_dna/utils/awkward_utils.py#87\u001b\\\u001b[2m87\u001b[0m\u001b]8;;\u001b\\\n",
       "         GenOtherHiggsLeadprod_eta, but it is already present and         \u001b[2m                   \u001b[0m\n",
       "         overwrite option was not selected. Not overwriting existing      \u001b[2m                   \u001b[0m\n",
       "         field.                                                           \u001b[2m                   \u001b[0m\n"
      ]
     },
     "metadata": {},
     "output_type": "display_data"
    },
    {
     "data": {
      "text/html": [
       "<pre style=\"white-space:pre;overflow-x:auto;line-height:normal;font-family:Menlo,'DejaVu Sans Mono',consolas,'Courier New',monospace\"><span style=\"color: #800000; text-decoration-color: #800000\">WARNING </span> <span style=\"font-weight: bold\">[</span>awkward_utils.py : add_field<span style=\"font-weight: bold\">]</span> You tried to write the field      <a href=\"file:///eos/home-c/chuw/HiggsDNAenv/HiggsDNA/higgs_dna/utils/awkward_utils.py\" target=\"_blank\"><span style=\"color: #7f7f7f; text-decoration-color: #7f7f7f\">awkward_utils.py</span></a><span style=\"color: #7f7f7f; text-decoration-color: #7f7f7f\">:</span><a href=\"file:///eos/home-c/chuw/HiggsDNAenv/HiggsDNA/higgs_dna/utils/awkward_utils.py#87\" target=\"_blank\"><span style=\"color: #7f7f7f; text-decoration-color: #7f7f7f\">87</span></a>\n",
       "         GenOtherHiggsLeadprod_mass, but it is already present and        <span style=\"color: #7f7f7f; text-decoration-color: #7f7f7f\">                   </span>\n",
       "         overwrite option was not selected. Not overwriting existing      <span style=\"color: #7f7f7f; text-decoration-color: #7f7f7f\">                   </span>\n",
       "         field.                                                           <span style=\"color: #7f7f7f; text-decoration-color: #7f7f7f\">                   </span>\n",
       "</pre>\n"
      ],
      "text/plain": [
       "\u001b[31mWARNING \u001b[0m \u001b[1m[\u001b[0mawkward_utils.py : add_field\u001b[1m]\u001b[0m You tried to write the field      \u001b]8;id=152620;file:///eos/home-c/chuw/HiggsDNAenv/HiggsDNA/higgs_dna/utils/awkward_utils.py\u001b\\\u001b[2mawkward_utils.py\u001b[0m\u001b]8;;\u001b\\\u001b[2m:\u001b[0m\u001b]8;id=308415;file:///eos/home-c/chuw/HiggsDNAenv/HiggsDNA/higgs_dna/utils/awkward_utils.py#87\u001b\\\u001b[2m87\u001b[0m\u001b]8;;\u001b\\\n",
       "         GenOtherHiggsLeadprod_mass, but it is already present and        \u001b[2m                   \u001b[0m\n",
       "         overwrite option was not selected. Not overwriting existing      \u001b[2m                   \u001b[0m\n",
       "         field.                                                           \u001b[2m                   \u001b[0m\n"
      ]
     },
     "metadata": {},
     "output_type": "display_data"
    },
    {
     "data": {
      "text/html": [
       "<pre style=\"white-space:pre;overflow-x:auto;line-height:normal;font-family:Menlo,'DejaVu Sans Mono',consolas,'Courier New',monospace\"><span style=\"color: #800000; text-decoration-color: #800000\">WARNING </span> <span style=\"font-weight: bold\">[</span>awkward_utils.py : add_field<span style=\"font-weight: bold\">]</span> You tried to write the field      <a href=\"file:///eos/home-c/chuw/HiggsDNAenv/HiggsDNA/higgs_dna/utils/awkward_utils.py\" target=\"_blank\"><span style=\"color: #7f7f7f; text-decoration-color: #7f7f7f\">awkward_utils.py</span></a><span style=\"color: #7f7f7f; text-decoration-color: #7f7f7f\">:</span><a href=\"file:///eos/home-c/chuw/HiggsDNAenv/HiggsDNA/higgs_dna/utils/awkward_utils.py#87\" target=\"_blank\"><span style=\"color: #7f7f7f; text-decoration-color: #7f7f7f\">87</span></a>\n",
       "         GenOtherHiggsLeadprod_phi, but it is already present and         <span style=\"color: #7f7f7f; text-decoration-color: #7f7f7f\">                   </span>\n",
       "         overwrite option was not selected. Not overwriting existing      <span style=\"color: #7f7f7f; text-decoration-color: #7f7f7f\">                   </span>\n",
       "         field.                                                           <span style=\"color: #7f7f7f; text-decoration-color: #7f7f7f\">                   </span>\n",
       "</pre>\n"
      ],
      "text/plain": [
       "\u001b[31mWARNING \u001b[0m \u001b[1m[\u001b[0mawkward_utils.py : add_field\u001b[1m]\u001b[0m You tried to write the field      \u001b]8;id=820682;file:///eos/home-c/chuw/HiggsDNAenv/HiggsDNA/higgs_dna/utils/awkward_utils.py\u001b\\\u001b[2mawkward_utils.py\u001b[0m\u001b]8;;\u001b\\\u001b[2m:\u001b[0m\u001b]8;id=90890;file:///eos/home-c/chuw/HiggsDNAenv/HiggsDNA/higgs_dna/utils/awkward_utils.py#87\u001b\\\u001b[2m87\u001b[0m\u001b]8;;\u001b\\\n",
       "         GenOtherHiggsLeadprod_phi, but it is already present and         \u001b[2m                   \u001b[0m\n",
       "         overwrite option was not selected. Not overwriting existing      \u001b[2m                   \u001b[0m\n",
       "         field.                                                           \u001b[2m                   \u001b[0m\n"
      ]
     },
     "metadata": {},
     "output_type": "display_data"
    },
    {
     "data": {
      "text/html": [
       "<pre style=\"white-space:pre;overflow-x:auto;line-height:normal;font-family:Menlo,'DejaVu Sans Mono',consolas,'Courier New',monospace\"><span style=\"color: #800000; text-decoration-color: #800000\">WARNING </span> <span style=\"font-weight: bold\">[</span>awkward_utils.py : add_field<span style=\"font-weight: bold\">]</span> You tried to write the field      <a href=\"file:///eos/home-c/chuw/HiggsDNAenv/HiggsDNA/higgs_dna/utils/awkward_utils.py\" target=\"_blank\"><span style=\"color: #7f7f7f; text-decoration-color: #7f7f7f\">awkward_utils.py</span></a><span style=\"color: #7f7f7f; text-decoration-color: #7f7f7f\">:</span><a href=\"file:///eos/home-c/chuw/HiggsDNAenv/HiggsDNA/higgs_dna/utils/awkward_utils.py#87\" target=\"_blank\"><span style=\"color: #7f7f7f; text-decoration-color: #7f7f7f\">87</span></a>\n",
       "         GenOtherHiggsLeadprod_pt, but it is already present and          <span style=\"color: #7f7f7f; text-decoration-color: #7f7f7f\">                   </span>\n",
       "         overwrite option was not selected. Not overwriting existing      <span style=\"color: #7f7f7f; text-decoration-color: #7f7f7f\">                   </span>\n",
       "         field.                                                           <span style=\"color: #7f7f7f; text-decoration-color: #7f7f7f\">                   </span>\n",
       "</pre>\n"
      ],
      "text/plain": [
       "\u001b[31mWARNING \u001b[0m \u001b[1m[\u001b[0mawkward_utils.py : add_field\u001b[1m]\u001b[0m You tried to write the field      \u001b]8;id=687097;file:///eos/home-c/chuw/HiggsDNAenv/HiggsDNA/higgs_dna/utils/awkward_utils.py\u001b\\\u001b[2mawkward_utils.py\u001b[0m\u001b]8;;\u001b\\\u001b[2m:\u001b[0m\u001b]8;id=962203;file:///eos/home-c/chuw/HiggsDNAenv/HiggsDNA/higgs_dna/utils/awkward_utils.py#87\u001b\\\u001b[2m87\u001b[0m\u001b]8;;\u001b\\\n",
       "         GenOtherHiggsLeadprod_pt, but it is already present and          \u001b[2m                   \u001b[0m\n",
       "         overwrite option was not selected. Not overwriting existing      \u001b[2m                   \u001b[0m\n",
       "         field.                                                           \u001b[2m                   \u001b[0m\n"
      ]
     },
     "metadata": {},
     "output_type": "display_data"
    },
    {
     "data": {
      "text/html": [
       "<pre style=\"white-space:pre;overflow-x:auto;line-height:normal;font-family:Menlo,'DejaVu Sans Mono',consolas,'Courier New',monospace\"><span style=\"color: #800000; text-decoration-color: #800000\">WARNING </span> <span style=\"font-weight: bold\">[</span>awkward_utils.py : add_field<span style=\"font-weight: bold\">]</span> You tried to write the field      <a href=\"file:///eos/home-c/chuw/HiggsDNAenv/HiggsDNA/higgs_dna/utils/awkward_utils.py\" target=\"_blank\"><span style=\"color: #7f7f7f; text-decoration-color: #7f7f7f\">awkward_utils.py</span></a><span style=\"color: #7f7f7f; text-decoration-color: #7f7f7f\">:</span><a href=\"file:///eos/home-c/chuw/HiggsDNAenv/HiggsDNA/higgs_dna/utils/awkward_utils.py#87\" target=\"_blank\"><span style=\"color: #7f7f7f; text-decoration-color: #7f7f7f\">87</span></a>\n",
       "         GenOtherHiggsLeadprod_genPartIdxMother, but it is already        <span style=\"color: #7f7f7f; text-decoration-color: #7f7f7f\">                   </span>\n",
       "         present and overwrite option was not selected. Not overwriting   <span style=\"color: #7f7f7f; text-decoration-color: #7f7f7f\">                   </span>\n",
       "         existing field.                                                  <span style=\"color: #7f7f7f; text-decoration-color: #7f7f7f\">                   </span>\n",
       "</pre>\n"
      ],
      "text/plain": [
       "\u001b[31mWARNING \u001b[0m \u001b[1m[\u001b[0mawkward_utils.py : add_field\u001b[1m]\u001b[0m You tried to write the field      \u001b]8;id=164846;file:///eos/home-c/chuw/HiggsDNAenv/HiggsDNA/higgs_dna/utils/awkward_utils.py\u001b\\\u001b[2mawkward_utils.py\u001b[0m\u001b]8;;\u001b\\\u001b[2m:\u001b[0m\u001b]8;id=445374;file:///eos/home-c/chuw/HiggsDNAenv/HiggsDNA/higgs_dna/utils/awkward_utils.py#87\u001b\\\u001b[2m87\u001b[0m\u001b]8;;\u001b\\\n",
       "         GenOtherHiggsLeadprod_genPartIdxMother, but it is already        \u001b[2m                   \u001b[0m\n",
       "         present and overwrite option was not selected. Not overwriting   \u001b[2m                   \u001b[0m\n",
       "         existing field.                                                  \u001b[2m                   \u001b[0m\n"
      ]
     },
     "metadata": {},
     "output_type": "display_data"
    },
    {
     "data": {
      "text/html": [
       "<pre style=\"white-space:pre;overflow-x:auto;line-height:normal;font-family:Menlo,'DejaVu Sans Mono',consolas,'Courier New',monospace\"><span style=\"color: #800000; text-decoration-color: #800000\">WARNING </span> <span style=\"font-weight: bold\">[</span>awkward_utils.py : add_field<span style=\"font-weight: bold\">]</span> You tried to write the field      <a href=\"file:///eos/home-c/chuw/HiggsDNAenv/HiggsDNA/higgs_dna/utils/awkward_utils.py\" target=\"_blank\"><span style=\"color: #7f7f7f; text-decoration-color: #7f7f7f\">awkward_utils.py</span></a><span style=\"color: #7f7f7f; text-decoration-color: #7f7f7f\">:</span><a href=\"file:///eos/home-c/chuw/HiggsDNAenv/HiggsDNA/higgs_dna/utils/awkward_utils.py#87\" target=\"_blank\"><span style=\"color: #7f7f7f; text-decoration-color: #7f7f7f\">87</span></a>\n",
       "         GenOtherHiggsLeadprod_pdgId, but it is already present and       <span style=\"color: #7f7f7f; text-decoration-color: #7f7f7f\">                   </span>\n",
       "         overwrite option was not selected. Not overwriting existing      <span style=\"color: #7f7f7f; text-decoration-color: #7f7f7f\">                   </span>\n",
       "         field.                                                           <span style=\"color: #7f7f7f; text-decoration-color: #7f7f7f\">                   </span>\n",
       "</pre>\n"
      ],
      "text/plain": [
       "\u001b[31mWARNING \u001b[0m \u001b[1m[\u001b[0mawkward_utils.py : add_field\u001b[1m]\u001b[0m You tried to write the field      \u001b]8;id=705237;file:///eos/home-c/chuw/HiggsDNAenv/HiggsDNA/higgs_dna/utils/awkward_utils.py\u001b\\\u001b[2mawkward_utils.py\u001b[0m\u001b]8;;\u001b\\\u001b[2m:\u001b[0m\u001b]8;id=496728;file:///eos/home-c/chuw/HiggsDNAenv/HiggsDNA/higgs_dna/utils/awkward_utils.py#87\u001b\\\u001b[2m87\u001b[0m\u001b]8;;\u001b\\\n",
       "         GenOtherHiggsLeadprod_pdgId, but it is already present and       \u001b[2m                   \u001b[0m\n",
       "         overwrite option was not selected. Not overwriting existing      \u001b[2m                   \u001b[0m\n",
       "         field.                                                           \u001b[2m                   \u001b[0m\n"
      ]
     },
     "metadata": {},
     "output_type": "display_data"
    },
    {
     "data": {
      "text/html": [
       "<pre style=\"white-space:pre;overflow-x:auto;line-height:normal;font-family:Menlo,'DejaVu Sans Mono',consolas,'Courier New',monospace\"><span style=\"color: #800000; text-decoration-color: #800000\">WARNING </span> <span style=\"font-weight: bold\">[</span>awkward_utils.py : add_field<span style=\"font-weight: bold\">]</span> You tried to write the field      <a href=\"file:///eos/home-c/chuw/HiggsDNAenv/HiggsDNA/higgs_dna/utils/awkward_utils.py\" target=\"_blank\"><span style=\"color: #7f7f7f; text-decoration-color: #7f7f7f\">awkward_utils.py</span></a><span style=\"color: #7f7f7f; text-decoration-color: #7f7f7f\">:</span><a href=\"file:///eos/home-c/chuw/HiggsDNAenv/HiggsDNA/higgs_dna/utils/awkward_utils.py#87\" target=\"_blank\"><span style=\"color: #7f7f7f; text-decoration-color: #7f7f7f\">87</span></a>\n",
       "         GenOtherHiggsLeadprod_status, but it is already present and      <span style=\"color: #7f7f7f; text-decoration-color: #7f7f7f\">                   </span>\n",
       "         overwrite option was not selected. Not overwriting existing      <span style=\"color: #7f7f7f; text-decoration-color: #7f7f7f\">                   </span>\n",
       "         field.                                                           <span style=\"color: #7f7f7f; text-decoration-color: #7f7f7f\">                   </span>\n",
       "</pre>\n"
      ],
      "text/plain": [
       "\u001b[31mWARNING \u001b[0m \u001b[1m[\u001b[0mawkward_utils.py : add_field\u001b[1m]\u001b[0m You tried to write the field      \u001b]8;id=378076;file:///eos/home-c/chuw/HiggsDNAenv/HiggsDNA/higgs_dna/utils/awkward_utils.py\u001b\\\u001b[2mawkward_utils.py\u001b[0m\u001b]8;;\u001b\\\u001b[2m:\u001b[0m\u001b]8;id=757724;file:///eos/home-c/chuw/HiggsDNAenv/HiggsDNA/higgs_dna/utils/awkward_utils.py#87\u001b\\\u001b[2m87\u001b[0m\u001b]8;;\u001b\\\n",
       "         GenOtherHiggsLeadprod_status, but it is already present and      \u001b[2m                   \u001b[0m\n",
       "         overwrite option was not selected. Not overwriting existing      \u001b[2m                   \u001b[0m\n",
       "         field.                                                           \u001b[2m                   \u001b[0m\n"
      ]
     },
     "metadata": {},
     "output_type": "display_data"
    },
    {
     "data": {
      "text/html": [
       "<pre style=\"white-space:pre;overflow-x:auto;line-height:normal;font-family:Menlo,'DejaVu Sans Mono',consolas,'Courier New',monospace\"><span style=\"color: #800000; text-decoration-color: #800000\">WARNING </span> <span style=\"font-weight: bold\">[</span>awkward_utils.py : add_field<span style=\"font-weight: bold\">]</span> You tried to write the field      <a href=\"file:///eos/home-c/chuw/HiggsDNAenv/HiggsDNA/higgs_dna/utils/awkward_utils.py\" target=\"_blank\"><span style=\"color: #7f7f7f; text-decoration-color: #7f7f7f\">awkward_utils.py</span></a><span style=\"color: #7f7f7f; text-decoration-color: #7f7f7f\">:</span><a href=\"file:///eos/home-c/chuw/HiggsDNAenv/HiggsDNA/higgs_dna/utils/awkward_utils.py#87\" target=\"_blank\"><span style=\"color: #7f7f7f; text-decoration-color: #7f7f7f\">87</span></a>\n",
       "         GenOtherHiggsLeadprod_statusFlags, but it is already present and <span style=\"color: #7f7f7f; text-decoration-color: #7f7f7f\">                   </span>\n",
       "         overwrite option was not selected. Not overwriting existing      <span style=\"color: #7f7f7f; text-decoration-color: #7f7f7f\">                   </span>\n",
       "         field.                                                           <span style=\"color: #7f7f7f; text-decoration-color: #7f7f7f\">                   </span>\n",
       "</pre>\n"
      ],
      "text/plain": [
       "\u001b[31mWARNING \u001b[0m \u001b[1m[\u001b[0mawkward_utils.py : add_field\u001b[1m]\u001b[0m You tried to write the field      \u001b]8;id=958254;file:///eos/home-c/chuw/HiggsDNAenv/HiggsDNA/higgs_dna/utils/awkward_utils.py\u001b\\\u001b[2mawkward_utils.py\u001b[0m\u001b]8;;\u001b\\\u001b[2m:\u001b[0m\u001b]8;id=766837;file:///eos/home-c/chuw/HiggsDNAenv/HiggsDNA/higgs_dna/utils/awkward_utils.py#87\u001b\\\u001b[2m87\u001b[0m\u001b]8;;\u001b\\\n",
       "         GenOtherHiggsLeadprod_statusFlags, but it is already present and \u001b[2m                   \u001b[0m\n",
       "         overwrite option was not selected. Not overwriting existing      \u001b[2m                   \u001b[0m\n",
       "         field.                                                           \u001b[2m                   \u001b[0m\n"
      ]
     },
     "metadata": {},
     "output_type": "display_data"
    },
    {
     "data": {
      "text/html": [
       "<pre style=\"white-space:pre;overflow-x:auto;line-height:normal;font-family:Menlo,'DejaVu Sans Mono',consolas,'Courier New',monospace\"><span style=\"color: #800000; text-decoration-color: #800000\">WARNING </span> <span style=\"font-weight: bold\">[</span>awkward_utils.py : add_field<span style=\"font-weight: bold\">]</span> You tried to write the field      <a href=\"file:///eos/home-c/chuw/HiggsDNAenv/HiggsDNA/higgs_dna/utils/awkward_utils.py\" target=\"_blank\"><span style=\"color: #7f7f7f; text-decoration-color: #7f7f7f\">awkward_utils.py</span></a><span style=\"color: #7f7f7f; text-decoration-color: #7f7f7f\">:</span><a href=\"file:///eos/home-c/chuw/HiggsDNAenv/HiggsDNA/higgs_dna/utils/awkward_utils.py#87\" target=\"_blank\"><span style=\"color: #7f7f7f; text-decoration-color: #7f7f7f\">87</span></a>\n",
       "         GenOtherHiggsSubleadprod_eta, but it is already present and      <span style=\"color: #7f7f7f; text-decoration-color: #7f7f7f\">                   </span>\n",
       "         overwrite option was not selected. Not overwriting existing      <span style=\"color: #7f7f7f; text-decoration-color: #7f7f7f\">                   </span>\n",
       "         field.                                                           <span style=\"color: #7f7f7f; text-decoration-color: #7f7f7f\">                   </span>\n",
       "</pre>\n"
      ],
      "text/plain": [
       "\u001b[31mWARNING \u001b[0m \u001b[1m[\u001b[0mawkward_utils.py : add_field\u001b[1m]\u001b[0m You tried to write the field      \u001b]8;id=22016;file:///eos/home-c/chuw/HiggsDNAenv/HiggsDNA/higgs_dna/utils/awkward_utils.py\u001b\\\u001b[2mawkward_utils.py\u001b[0m\u001b]8;;\u001b\\\u001b[2m:\u001b[0m\u001b]8;id=458942;file:///eos/home-c/chuw/HiggsDNAenv/HiggsDNA/higgs_dna/utils/awkward_utils.py#87\u001b\\\u001b[2m87\u001b[0m\u001b]8;;\u001b\\\n",
       "         GenOtherHiggsSubleadprod_eta, but it is already present and      \u001b[2m                   \u001b[0m\n",
       "         overwrite option was not selected. Not overwriting existing      \u001b[2m                   \u001b[0m\n",
       "         field.                                                           \u001b[2m                   \u001b[0m\n"
      ]
     },
     "metadata": {},
     "output_type": "display_data"
    },
    {
     "data": {
      "text/html": [
       "<pre style=\"white-space:pre;overflow-x:auto;line-height:normal;font-family:Menlo,'DejaVu Sans Mono',consolas,'Courier New',monospace\"><span style=\"color: #800000; text-decoration-color: #800000\">WARNING </span> <span style=\"font-weight: bold\">[</span>awkward_utils.py : add_field<span style=\"font-weight: bold\">]</span> You tried to write the field      <a href=\"file:///eos/home-c/chuw/HiggsDNAenv/HiggsDNA/higgs_dna/utils/awkward_utils.py\" target=\"_blank\"><span style=\"color: #7f7f7f; text-decoration-color: #7f7f7f\">awkward_utils.py</span></a><span style=\"color: #7f7f7f; text-decoration-color: #7f7f7f\">:</span><a href=\"file:///eos/home-c/chuw/HiggsDNAenv/HiggsDNA/higgs_dna/utils/awkward_utils.py#87\" target=\"_blank\"><span style=\"color: #7f7f7f; text-decoration-color: #7f7f7f\">87</span></a>\n",
       "         GenOtherHiggsSubleadprod_mass, but it is already present and     <span style=\"color: #7f7f7f; text-decoration-color: #7f7f7f\">                   </span>\n",
       "         overwrite option was not selected. Not overwriting existing      <span style=\"color: #7f7f7f; text-decoration-color: #7f7f7f\">                   </span>\n",
       "         field.                                                           <span style=\"color: #7f7f7f; text-decoration-color: #7f7f7f\">                   </span>\n",
       "</pre>\n"
      ],
      "text/plain": [
       "\u001b[31mWARNING \u001b[0m \u001b[1m[\u001b[0mawkward_utils.py : add_field\u001b[1m]\u001b[0m You tried to write the field      \u001b]8;id=164168;file:///eos/home-c/chuw/HiggsDNAenv/HiggsDNA/higgs_dna/utils/awkward_utils.py\u001b\\\u001b[2mawkward_utils.py\u001b[0m\u001b]8;;\u001b\\\u001b[2m:\u001b[0m\u001b]8;id=302892;file:///eos/home-c/chuw/HiggsDNAenv/HiggsDNA/higgs_dna/utils/awkward_utils.py#87\u001b\\\u001b[2m87\u001b[0m\u001b]8;;\u001b\\\n",
       "         GenOtherHiggsSubleadprod_mass, but it is already present and     \u001b[2m                   \u001b[0m\n",
       "         overwrite option was not selected. Not overwriting existing      \u001b[2m                   \u001b[0m\n",
       "         field.                                                           \u001b[2m                   \u001b[0m\n"
      ]
     },
     "metadata": {},
     "output_type": "display_data"
    },
    {
     "data": {
      "text/html": [
       "<pre style=\"white-space:pre;overflow-x:auto;line-height:normal;font-family:Menlo,'DejaVu Sans Mono',consolas,'Courier New',monospace\"><span style=\"color: #800000; text-decoration-color: #800000\">WARNING </span> <span style=\"font-weight: bold\">[</span>awkward_utils.py : add_field<span style=\"font-weight: bold\">]</span> You tried to write the field      <a href=\"file:///eos/home-c/chuw/HiggsDNAenv/HiggsDNA/higgs_dna/utils/awkward_utils.py\" target=\"_blank\"><span style=\"color: #7f7f7f; text-decoration-color: #7f7f7f\">awkward_utils.py</span></a><span style=\"color: #7f7f7f; text-decoration-color: #7f7f7f\">:</span><a href=\"file:///eos/home-c/chuw/HiggsDNAenv/HiggsDNA/higgs_dna/utils/awkward_utils.py#87\" target=\"_blank\"><span style=\"color: #7f7f7f; text-decoration-color: #7f7f7f\">87</span></a>\n",
       "         GenOtherHiggsSubleadprod_phi, but it is already present and      <span style=\"color: #7f7f7f; text-decoration-color: #7f7f7f\">                   </span>\n",
       "         overwrite option was not selected. Not overwriting existing      <span style=\"color: #7f7f7f; text-decoration-color: #7f7f7f\">                   </span>\n",
       "         field.                                                           <span style=\"color: #7f7f7f; text-decoration-color: #7f7f7f\">                   </span>\n",
       "</pre>\n"
      ],
      "text/plain": [
       "\u001b[31mWARNING \u001b[0m \u001b[1m[\u001b[0mawkward_utils.py : add_field\u001b[1m]\u001b[0m You tried to write the field      \u001b]8;id=417686;file:///eos/home-c/chuw/HiggsDNAenv/HiggsDNA/higgs_dna/utils/awkward_utils.py\u001b\\\u001b[2mawkward_utils.py\u001b[0m\u001b]8;;\u001b\\\u001b[2m:\u001b[0m\u001b]8;id=632933;file:///eos/home-c/chuw/HiggsDNAenv/HiggsDNA/higgs_dna/utils/awkward_utils.py#87\u001b\\\u001b[2m87\u001b[0m\u001b]8;;\u001b\\\n",
       "         GenOtherHiggsSubleadprod_phi, but it is already present and      \u001b[2m                   \u001b[0m\n",
       "         overwrite option was not selected. Not overwriting existing      \u001b[2m                   \u001b[0m\n",
       "         field.                                                           \u001b[2m                   \u001b[0m\n"
      ]
     },
     "metadata": {},
     "output_type": "display_data"
    },
    {
     "data": {
      "text/html": [
       "<pre style=\"white-space:pre;overflow-x:auto;line-height:normal;font-family:Menlo,'DejaVu Sans Mono',consolas,'Courier New',monospace\"><span style=\"color: #800000; text-decoration-color: #800000\">WARNING </span> <span style=\"font-weight: bold\">[</span>awkward_utils.py : add_field<span style=\"font-weight: bold\">]</span> You tried to write the field      <a href=\"file:///eos/home-c/chuw/HiggsDNAenv/HiggsDNA/higgs_dna/utils/awkward_utils.py\" target=\"_blank\"><span style=\"color: #7f7f7f; text-decoration-color: #7f7f7f\">awkward_utils.py</span></a><span style=\"color: #7f7f7f; text-decoration-color: #7f7f7f\">:</span><a href=\"file:///eos/home-c/chuw/HiggsDNAenv/HiggsDNA/higgs_dna/utils/awkward_utils.py#87\" target=\"_blank\"><span style=\"color: #7f7f7f; text-decoration-color: #7f7f7f\">87</span></a>\n",
       "         GenOtherHiggsSubleadprod_pt, but it is already present and       <span style=\"color: #7f7f7f; text-decoration-color: #7f7f7f\">                   </span>\n",
       "         overwrite option was not selected. Not overwriting existing      <span style=\"color: #7f7f7f; text-decoration-color: #7f7f7f\">                   </span>\n",
       "         field.                                                           <span style=\"color: #7f7f7f; text-decoration-color: #7f7f7f\">                   </span>\n",
       "</pre>\n"
      ],
      "text/plain": [
       "\u001b[31mWARNING \u001b[0m \u001b[1m[\u001b[0mawkward_utils.py : add_field\u001b[1m]\u001b[0m You tried to write the field      \u001b]8;id=851186;file:///eos/home-c/chuw/HiggsDNAenv/HiggsDNA/higgs_dna/utils/awkward_utils.py\u001b\\\u001b[2mawkward_utils.py\u001b[0m\u001b]8;;\u001b\\\u001b[2m:\u001b[0m\u001b]8;id=639287;file:///eos/home-c/chuw/HiggsDNAenv/HiggsDNA/higgs_dna/utils/awkward_utils.py#87\u001b\\\u001b[2m87\u001b[0m\u001b]8;;\u001b\\\n",
       "         GenOtherHiggsSubleadprod_pt, but it is already present and       \u001b[2m                   \u001b[0m\n",
       "         overwrite option was not selected. Not overwriting existing      \u001b[2m                   \u001b[0m\n",
       "         field.                                                           \u001b[2m                   \u001b[0m\n"
      ]
     },
     "metadata": {},
     "output_type": "display_data"
    },
    {
     "data": {
      "text/html": [
       "<pre style=\"white-space:pre;overflow-x:auto;line-height:normal;font-family:Menlo,'DejaVu Sans Mono',consolas,'Courier New',monospace\"><span style=\"color: #800000; text-decoration-color: #800000\">WARNING </span> <span style=\"font-weight: bold\">[</span>awkward_utils.py : add_field<span style=\"font-weight: bold\">]</span> You tried to write the field      <a href=\"file:///eos/home-c/chuw/HiggsDNAenv/HiggsDNA/higgs_dna/utils/awkward_utils.py\" target=\"_blank\"><span style=\"color: #7f7f7f; text-decoration-color: #7f7f7f\">awkward_utils.py</span></a><span style=\"color: #7f7f7f; text-decoration-color: #7f7f7f\">:</span><a href=\"file:///eos/home-c/chuw/HiggsDNAenv/HiggsDNA/higgs_dna/utils/awkward_utils.py#87\" target=\"_blank\"><span style=\"color: #7f7f7f; text-decoration-color: #7f7f7f\">87</span></a>\n",
       "         GenOtherHiggsSubleadprod_genPartIdxMother, but it is already     <span style=\"color: #7f7f7f; text-decoration-color: #7f7f7f\">                   </span>\n",
       "         present and overwrite option was not selected. Not overwriting   <span style=\"color: #7f7f7f; text-decoration-color: #7f7f7f\">                   </span>\n",
       "         existing field.                                                  <span style=\"color: #7f7f7f; text-decoration-color: #7f7f7f\">                   </span>\n",
       "</pre>\n"
      ],
      "text/plain": [
       "\u001b[31mWARNING \u001b[0m \u001b[1m[\u001b[0mawkward_utils.py : add_field\u001b[1m]\u001b[0m You tried to write the field      \u001b]8;id=807721;file:///eos/home-c/chuw/HiggsDNAenv/HiggsDNA/higgs_dna/utils/awkward_utils.py\u001b\\\u001b[2mawkward_utils.py\u001b[0m\u001b]8;;\u001b\\\u001b[2m:\u001b[0m\u001b]8;id=164015;file:///eos/home-c/chuw/HiggsDNAenv/HiggsDNA/higgs_dna/utils/awkward_utils.py#87\u001b\\\u001b[2m87\u001b[0m\u001b]8;;\u001b\\\n",
       "         GenOtherHiggsSubleadprod_genPartIdxMother, but it is already     \u001b[2m                   \u001b[0m\n",
       "         present and overwrite option was not selected. Not overwriting   \u001b[2m                   \u001b[0m\n",
       "         existing field.                                                  \u001b[2m                   \u001b[0m\n"
      ]
     },
     "metadata": {},
     "output_type": "display_data"
    },
    {
     "data": {
      "text/html": [
       "<pre style=\"white-space:pre;overflow-x:auto;line-height:normal;font-family:Menlo,'DejaVu Sans Mono',consolas,'Courier New',monospace\"><span style=\"color: #800000; text-decoration-color: #800000\">WARNING </span> <span style=\"font-weight: bold\">[</span>awkward_utils.py : add_field<span style=\"font-weight: bold\">]</span> You tried to write the field      <a href=\"file:///eos/home-c/chuw/HiggsDNAenv/HiggsDNA/higgs_dna/utils/awkward_utils.py\" target=\"_blank\"><span style=\"color: #7f7f7f; text-decoration-color: #7f7f7f\">awkward_utils.py</span></a><span style=\"color: #7f7f7f; text-decoration-color: #7f7f7f\">:</span><a href=\"file:///eos/home-c/chuw/HiggsDNAenv/HiggsDNA/higgs_dna/utils/awkward_utils.py#87\" target=\"_blank\"><span style=\"color: #7f7f7f; text-decoration-color: #7f7f7f\">87</span></a>\n",
       "         GenOtherHiggsSubleadprod_pdgId, but it is already present and    <span style=\"color: #7f7f7f; text-decoration-color: #7f7f7f\">                   </span>\n",
       "         overwrite option was not selected. Not overwriting existing      <span style=\"color: #7f7f7f; text-decoration-color: #7f7f7f\">                   </span>\n",
       "         field.                                                           <span style=\"color: #7f7f7f; text-decoration-color: #7f7f7f\">                   </span>\n",
       "</pre>\n"
      ],
      "text/plain": [
       "\u001b[31mWARNING \u001b[0m \u001b[1m[\u001b[0mawkward_utils.py : add_field\u001b[1m]\u001b[0m You tried to write the field      \u001b]8;id=213756;file:///eos/home-c/chuw/HiggsDNAenv/HiggsDNA/higgs_dna/utils/awkward_utils.py\u001b\\\u001b[2mawkward_utils.py\u001b[0m\u001b]8;;\u001b\\\u001b[2m:\u001b[0m\u001b]8;id=748484;file:///eos/home-c/chuw/HiggsDNAenv/HiggsDNA/higgs_dna/utils/awkward_utils.py#87\u001b\\\u001b[2m87\u001b[0m\u001b]8;;\u001b\\\n",
       "         GenOtherHiggsSubleadprod_pdgId, but it is already present and    \u001b[2m                   \u001b[0m\n",
       "         overwrite option was not selected. Not overwriting existing      \u001b[2m                   \u001b[0m\n",
       "         field.                                                           \u001b[2m                   \u001b[0m\n"
      ]
     },
     "metadata": {},
     "output_type": "display_data"
    },
    {
     "data": {
      "text/html": [
       "<pre style=\"white-space:pre;overflow-x:auto;line-height:normal;font-family:Menlo,'DejaVu Sans Mono',consolas,'Courier New',monospace\"><span style=\"color: #800000; text-decoration-color: #800000\">WARNING </span> <span style=\"font-weight: bold\">[</span>awkward_utils.py : add_field<span style=\"font-weight: bold\">]</span> You tried to write the field      <a href=\"file:///eos/home-c/chuw/HiggsDNAenv/HiggsDNA/higgs_dna/utils/awkward_utils.py\" target=\"_blank\"><span style=\"color: #7f7f7f; text-decoration-color: #7f7f7f\">awkward_utils.py</span></a><span style=\"color: #7f7f7f; text-decoration-color: #7f7f7f\">:</span><a href=\"file:///eos/home-c/chuw/HiggsDNAenv/HiggsDNA/higgs_dna/utils/awkward_utils.py#87\" target=\"_blank\"><span style=\"color: #7f7f7f; text-decoration-color: #7f7f7f\">87</span></a>\n",
       "         GenOtherHiggsSubleadprod_status, but it is already present and   <span style=\"color: #7f7f7f; text-decoration-color: #7f7f7f\">                   </span>\n",
       "         overwrite option was not selected. Not overwriting existing      <span style=\"color: #7f7f7f; text-decoration-color: #7f7f7f\">                   </span>\n",
       "         field.                                                           <span style=\"color: #7f7f7f; text-decoration-color: #7f7f7f\">                   </span>\n",
       "</pre>\n"
      ],
      "text/plain": [
       "\u001b[31mWARNING \u001b[0m \u001b[1m[\u001b[0mawkward_utils.py : add_field\u001b[1m]\u001b[0m You tried to write the field      \u001b]8;id=372281;file:///eos/home-c/chuw/HiggsDNAenv/HiggsDNA/higgs_dna/utils/awkward_utils.py\u001b\\\u001b[2mawkward_utils.py\u001b[0m\u001b]8;;\u001b\\\u001b[2m:\u001b[0m\u001b]8;id=911465;file:///eos/home-c/chuw/HiggsDNAenv/HiggsDNA/higgs_dna/utils/awkward_utils.py#87\u001b\\\u001b[2m87\u001b[0m\u001b]8;;\u001b\\\n",
       "         GenOtherHiggsSubleadprod_status, but it is already present and   \u001b[2m                   \u001b[0m\n",
       "         overwrite option was not selected. Not overwriting existing      \u001b[2m                   \u001b[0m\n",
       "         field.                                                           \u001b[2m                   \u001b[0m\n"
      ]
     },
     "metadata": {},
     "output_type": "display_data"
    },
    {
     "data": {
      "text/html": [
       "<pre style=\"white-space:pre;overflow-x:auto;line-height:normal;font-family:Menlo,'DejaVu Sans Mono',consolas,'Courier New',monospace\"><span style=\"color: #800000; text-decoration-color: #800000\">WARNING </span> <span style=\"font-weight: bold\">[</span>awkward_utils.py : add_field<span style=\"font-weight: bold\">]</span> You tried to write the field      <a href=\"file:///eos/home-c/chuw/HiggsDNAenv/HiggsDNA/higgs_dna/utils/awkward_utils.py\" target=\"_blank\"><span style=\"color: #7f7f7f; text-decoration-color: #7f7f7f\">awkward_utils.py</span></a><span style=\"color: #7f7f7f; text-decoration-color: #7f7f7f\">:</span><a href=\"file:///eos/home-c/chuw/HiggsDNAenv/HiggsDNA/higgs_dna/utils/awkward_utils.py#87\" target=\"_blank\"><span style=\"color: #7f7f7f; text-decoration-color: #7f7f7f\">87</span></a>\n",
       "         GenOtherHiggsSubleadprod_statusFlags, but it is already present  <span style=\"color: #7f7f7f; text-decoration-color: #7f7f7f\">                   </span>\n",
       "         and overwrite option was not selected. Not overwriting existing  <span style=\"color: #7f7f7f; text-decoration-color: #7f7f7f\">                   </span>\n",
       "         field.                                                           <span style=\"color: #7f7f7f; text-decoration-color: #7f7f7f\">                   </span>\n",
       "</pre>\n"
      ],
      "text/plain": [
       "\u001b[31mWARNING \u001b[0m \u001b[1m[\u001b[0mawkward_utils.py : add_field\u001b[1m]\u001b[0m You tried to write the field      \u001b]8;id=989851;file:///eos/home-c/chuw/HiggsDNAenv/HiggsDNA/higgs_dna/utils/awkward_utils.py\u001b\\\u001b[2mawkward_utils.py\u001b[0m\u001b]8;;\u001b\\\u001b[2m:\u001b[0m\u001b]8;id=376897;file:///eos/home-c/chuw/HiggsDNAenv/HiggsDNA/higgs_dna/utils/awkward_utils.py#87\u001b\\\u001b[2m87\u001b[0m\u001b]8;;\u001b\\\n",
       "         GenOtherHiggsSubleadprod_statusFlags, but it is already present  \u001b[2m                   \u001b[0m\n",
       "         and overwrite option was not selected. Not overwriting existing  \u001b[2m                   \u001b[0m\n",
       "         field.                                                           \u001b[2m                   \u001b[0m\n"
      ]
     },
     "metadata": {},
     "output_type": "display_data"
    }
   ],
   "source": [
    "awkward_utils.add_object_fields(events, \n",
    "                                            \"GenOtherHiggs\", \n",
    "                                            gen_otherh.GenParent, \n",
    "                                            n_objects = 1, \n",
    "                                            dummy_value = DUMMY_VALUE)\n",
    "awkward_utils.add_object_fields(events, \n",
    "                                            \"GenOtherHiggsLeadprod\", \n",
    "                                            gen_otherh.LeadGenChild, \n",
    "                                            n_objects = 1,\n",
    "                                            dummy_value = DUMMY_VALUE)\n",
    "awkward_utils.add_object_fields(events, \n",
    "                                            \"GenOtherHiggsSubleadprod\", \n",
    "                                            gen_otherh.SubleadGenChild, \n",
    "                                            n_objects = 1,\n",
    "                                            dummy_value = DUMMY_VALUE)"
   ]
  },
  {
   "cell_type": "code",
   "execution_count": 32,
   "id": "b6ba94b7",
   "metadata": {},
   "outputs": [],
   "source": [
    "# print(ak.to_pandas(events.GenOtherHiggs()))"
   ]
  },
  {
   "cell_type": "code",
   "execution_count": 55,
   "id": "ae37989a",
   "metadata": {},
   "outputs": [],
   "source": [
    "combination1 = (events.LeadPhoton.deltaR(gen_hgg.LeadGenChild)+\n",
    "                            events.SubleadPhoton.deltaR(gen_hgg.SubleadGenChild)) < (\n",
    "                                events.LeadPhoton.deltaR(gen_hgg.SubleadGenChild)+\n",
    "                                events.SubleadPhoton.deltaR(gen_hgg.LeadGenChild))"
   ]
  },
  {
   "cell_type": "code",
   "execution_count": 56,
   "id": "05d80285",
   "metadata": {},
   "outputs": [
    {
     "name": "stdout",
     "output_type": "stream",
     "text": [
      "combination1 [[True], [True], [True], [True], [True], ... [True], [True], [True], [True], [True]]\n",
      "events.LeadPhoton.deltaR(gen_hgg.LeadGenChild) [[0.00285], [0.00391], [0.00293], [0.00293, ... [0.00228], [0.00124], [0.00138]]\n"
     ]
    }
   ],
   "source": [
    "print(\"combination1\",combination1)\n",
    "print(\"events.LeadPhoton.deltaR(gen_hgg.LeadGenChild)\",events.LeadPhoton.deltaR(gen_hgg.LeadGenChild))"
   ]
  },
  {
   "cell_type": "code",
   "execution_count": 57,
   "id": "2ebfcd81",
   "metadata": {},
   "outputs": [],
   "source": [
    "deltaRLeadPhotonfromGen = awkward.where(combination1,\n",
    "                                                    events.LeadPhoton.deltaR(gen_hgg.LeadGenChild),\n",
    "                                                    events.LeadPhoton.deltaR(gen_hgg.SubleadGenChild))"
   ]
  },
  {
   "cell_type": "code",
   "execution_count": 58,
   "id": "d4f5856b",
   "metadata": {},
   "outputs": [],
   "source": [
    "deltaRLeadPhotonfromGen = awkward.where(hggevts, \n",
    "                                                    deltaRLeadPhotonfromGen, \n",
    "                                                    awkward.ones_like(deltaRLeadPhotonfromGen)*DUMMY_VALUE)"
   ]
  },
  {
   "cell_type": "code",
   "execution_count": 59,
   "id": "e4507225",
   "metadata": {},
   "outputs": [],
   "source": [
    "deltaRSubleadPhotonfromGen = awkward.where(combination1,\n",
    "                                                    events.SubleadPhoton.deltaR(gen_hgg.SubleadGenChild),\n",
    "                                                    events.SubleadPhoton.deltaR(gen_hgg.LeadGenChild))"
   ]
  },
  {
   "cell_type": "code",
   "execution_count": 60,
   "id": "0503fe8b",
   "metadata": {},
   "outputs": [],
   "source": [
    "deltaRSubleadPhotonfromGen = awkward.where(hggevts, \n",
    "                                                       deltaRSubleadPhotonfromGen, \n",
    "                                                       awkward.ones_like(deltaRSubleadPhotonfromGen)*DUMMY_VALUE)"
   ]
  },
  {
   "cell_type": "code",
   "execution_count": 61,
   "id": "388ce6e2",
   "metadata": {},
   "outputs": [],
   "source": [
    "deltaRLeadPhotonfromGen = awkward.flatten(deltaRLeadPhotonfromGen,axis=1)"
   ]
  },
  {
   "cell_type": "code",
   "execution_count": 62,
   "id": "2254b223",
   "metadata": {},
   "outputs": [],
   "source": [
    "deltaRSubleadPhotonfromGen = awkward.flatten(deltaRSubleadPhotonfromGen,axis=1)"
   ]
  },
  {
   "cell_type": "code",
   "execution_count": 63,
   "id": "65d0ec52",
   "metadata": {},
   "outputs": [],
   "source": [
    "#print(\"type(deltaRLeadPhotonfromGen)\",type(deltaRLeadPhotonfromGen))\n",
    "#print(\"deltaRLeadPhotonfromGen\",deltaRLeadPhotonfromGen)\n",
    "#print(\"awkward.num(deltaRLeadPhotonfromGen, axis=1)\",awkward.num(deltaRLeadPhotonfromGen, axis=1))\n",
    "#print(\"awkward.sum(awkward.num(deltaRLeadPhotonfromGen))\",awkward.sum(awkward.num(deltaRLeadPhotonfromGen)))"
   ]
  },
  {
   "cell_type": "code",
   "execution_count": 64,
   "id": "e8f5b74f",
   "metadata": {},
   "outputs": [
    {
     "data": {
      "text/html": [
       "<pre style=\"white-space:pre;overflow-x:auto;line-height:normal;font-family:Menlo,'DejaVu Sans Mono',consolas,'Courier New',monospace\"><span style=\"color: #800000; text-decoration-color: #800000\">WARNING </span> <span style=\"font-weight: bold\">[</span>awkward_utils.py : add_field<span style=\"font-weight: bold\">]</span> You tried to write the field      <a href=\"file:///eos/home-c/chuw/HiggsDNAenv/HiggsDNA/higgs_dna/utils/awkward_utils.py\" target=\"_blank\"><span style=\"color: #7f7f7f; text-decoration-color: #7f7f7f\">awkward_utils.py</span></a><span style=\"color: #7f7f7f; text-decoration-color: #7f7f7f\">:</span><a href=\"file:///eos/home-c/chuw/HiggsDNAenv/HiggsDNA/higgs_dna/utils/awkward_utils.py#87\" target=\"_blank\"><span style=\"color: #7f7f7f; text-decoration-color: #7f7f7f\">87</span></a>\n",
       "         deltaRLeadPhotonfromGen, but it is already present and overwrite <span style=\"color: #7f7f7f; text-decoration-color: #7f7f7f\">                   </span>\n",
       "         option was not selected. Not overwriting existing field.         <span style=\"color: #7f7f7f; text-decoration-color: #7f7f7f\">                   </span>\n",
       "</pre>\n"
      ],
      "text/plain": [
       "\u001b[31mWARNING \u001b[0m \u001b[1m[\u001b[0mawkward_utils.py : add_field\u001b[1m]\u001b[0m You tried to write the field      \u001b]8;id=405003;file:///eos/home-c/chuw/HiggsDNAenv/HiggsDNA/higgs_dna/utils/awkward_utils.py\u001b\\\u001b[2mawkward_utils.py\u001b[0m\u001b]8;;\u001b\\\u001b[2m:\u001b[0m\u001b]8;id=292313;file:///eos/home-c/chuw/HiggsDNAenv/HiggsDNA/higgs_dna/utils/awkward_utils.py#87\u001b\\\u001b[2m87\u001b[0m\u001b]8;;\u001b\\\n",
       "         deltaRLeadPhotonfromGen, but it is already present and overwrite \u001b[2m                   \u001b[0m\n",
       "         option was not selected. Not overwriting existing field.         \u001b[2m                   \u001b[0m\n"
      ]
     },
     "metadata": {},
     "output_type": "display_data"
    },
    {
     "data": {
      "text/html": [
       "<pre style=\"white-space:pre;overflow-x:auto;line-height:normal;font-family:Menlo,'DejaVu Sans Mono',consolas,'Courier New',monospace\"><span style=\"color: #800000; text-decoration-color: #800000\">WARNING </span> <span style=\"font-weight: bold\">[</span>awkward_utils.py : add_field<span style=\"font-weight: bold\">]</span> You tried to write the field      <a href=\"file:///eos/home-c/chuw/HiggsDNAenv/HiggsDNA/higgs_dna/utils/awkward_utils.py\" target=\"_blank\"><span style=\"color: #7f7f7f; text-decoration-color: #7f7f7f\">awkward_utils.py</span></a><span style=\"color: #7f7f7f; text-decoration-color: #7f7f7f\">:</span><a href=\"file:///eos/home-c/chuw/HiggsDNAenv/HiggsDNA/higgs_dna/utils/awkward_utils.py#87\" target=\"_blank\"><span style=\"color: #7f7f7f; text-decoration-color: #7f7f7f\">87</span></a>\n",
       "         deltaRSubleadPhotonfromGen, but it is already present and        <span style=\"color: #7f7f7f; text-decoration-color: #7f7f7f\">                   </span>\n",
       "         overwrite option was not selected. Not overwriting existing      <span style=\"color: #7f7f7f; text-decoration-color: #7f7f7f\">                   </span>\n",
       "         field.                                                           <span style=\"color: #7f7f7f; text-decoration-color: #7f7f7f\">                   </span>\n",
       "</pre>\n"
      ],
      "text/plain": [
       "\u001b[31mWARNING \u001b[0m \u001b[1m[\u001b[0mawkward_utils.py : add_field\u001b[1m]\u001b[0m You tried to write the field      \u001b]8;id=125514;file:///eos/home-c/chuw/HiggsDNAenv/HiggsDNA/higgs_dna/utils/awkward_utils.py\u001b\\\u001b[2mawkward_utils.py\u001b[0m\u001b]8;;\u001b\\\u001b[2m:\u001b[0m\u001b]8;id=650532;file:///eos/home-c/chuw/HiggsDNAenv/HiggsDNA/higgs_dna/utils/awkward_utils.py#87\u001b\\\u001b[2m87\u001b[0m\u001b]8;;\u001b\\\n",
       "         deltaRSubleadPhotonfromGen, but it is already present and        \u001b[2m                   \u001b[0m\n",
       "         overwrite option was not selected. Not overwriting existing      \u001b[2m                   \u001b[0m\n",
       "         field.                                                           \u001b[2m                   \u001b[0m\n"
      ]
     },
     "metadata": {},
     "output_type": "display_data"
    },
    {
     "data": {
      "text/plain": [
       "<Array [0.00403, 0.00684, ... 3.05e-05] type='6734 * float32'>"
      ]
     },
     "execution_count": 64,
     "metadata": {},
     "output_type": "execute_result"
    }
   ],
   "source": [
    "awkward_utils.add_field(events, \"deltaRLeadPhotonfromGen\", deltaRLeadPhotonfromGen)\n",
    "awkward_utils.add_field(events, \"deltaRSubleadPhotonfromGen\", deltaRSubleadPhotonfromGen)"
   ]
  },
  {
   "cell_type": "code",
   "execution_count": 65,
   "id": "2a37db79",
   "metadata": {},
   "outputs": [],
   "source": [
    "deltaRFatHbbJetGenOtherHiggs = events.SelectedFatHbbJet.deltaR(gen_otherh.GenParent)"
   ]
  },
  {
   "cell_type": "code",
   "execution_count": 66,
   "id": "b2d4f7c5",
   "metadata": {},
   "outputs": [
    {
     "name": "stdout",
     "output_type": "stream",
     "text": [
      "                     eta   mass       phi     pt  genPartIdxMother  pdgId  \\\n",
      "entry subentry                                                              \n",
      "0     0        -0.679688  125.0  0.515625  409.0                 3     25   \n",
      "1     0        -0.861328  125.0 -0.383789  430.0                 3     25   \n",
      "2     0         0.564453  125.0 -0.434570  368.0                 3     25   \n",
      "3     0         0.070068  125.0  0.556641  536.0                 3     25   \n",
      "4     0        -1.812500  125.0  1.886719  243.0                 3     25   \n",
      "...                  ...    ...       ...    ...               ...    ...   \n",
      "6729  0         0.262695  125.0  0.002731  410.0                 3     25   \n",
      "6730  0         1.031250  125.0  2.367188  461.0                 3     25   \n",
      "6731  0        -1.515625  125.0  2.476562  476.0                 3     25   \n",
      "6732  0         0.521484  125.0 -1.566406  472.0                 3     25   \n",
      "6733  0         0.330078  125.0  1.164062  397.0                 3     25   \n",
      "\n",
      "                status  statusFlags        dR  Child_1_Id  Child_2_Id  \n",
      "entry subentry                                                         \n",
      "0     0             22        14721  0.239122          24          24  \n",
      "1     0             22        14721  0.308730          24          24  \n",
      "2     0             22        14721  0.277634          24          24  \n",
      "3     0             22        14721  0.146901          24          24  \n",
      "4     0             22        14721  0.440351          24          24  \n",
      "...                ...          ...       ...         ...         ...  \n",
      "6729  0             22        14721  0.093552          24          24  \n",
      "6730  0             22        14721  0.069549          24          24  \n",
      "6731  0             22        14721  0.264156          24          24  \n",
      "6732  0             22        14721  0.095123          24          24  \n",
      "6733  0             22        14721  0.115882          24          24  \n",
      "\n",
      "[6734 rows x 11 columns]\n"
     ]
    }
   ],
   "source": [
    "print(ak.to_pandas(gen_otherh.GenParent))"
   ]
  },
  {
   "cell_type": "code",
   "execution_count": 67,
   "id": "d78c7182",
   "metadata": {},
   "outputs": [],
   "source": [
    "deltaRFatHbbJetGenOtherHiggs = awkward.where(hxxevts & (n_fatjets>0), \n",
    "                                                      deltaRFatHbbJetGenOtherHiggs, \n",
    "                                                      awkward.ones_like(deltaRFatHbbJetGenOtherHiggs)*DUMMY_VALUE)"
   ]
  },
  {
   "cell_type": "code",
   "execution_count": 68,
   "id": "978ee92e",
   "metadata": {},
   "outputs": [],
   "source": [
    "deltaRFatHbbJetGenOtherHiggs = awkward.flatten(deltaRFatHbbJetGenOtherHiggs,axis=1)"
   ]
  },
  {
   "cell_type": "code",
   "execution_count": 69,
   "id": "93205ace",
   "metadata": {},
   "outputs": [],
   "source": [
    "# awkward_utils.add_field(events, \"deltaRFatHbbJetGenOtherHiggs\", deltaRFatHbbJetGenOtherHiggs)"
   ]
  },
  {
   "cell_type": "code",
   "execution_count": 70,
   "id": "d7784ae6",
   "metadata": {},
   "outputs": [],
   "source": [
    "deltaRFatH4qJetGenOtherHiggs = events.SelectedFatH4qJet.deltaR(gen_otherh.GenParent)"
   ]
  },
  {
   "cell_type": "code",
   "execution_count": 71,
   "id": "7e4f34ec",
   "metadata": {},
   "outputs": [],
   "source": [
    "deltaRFatH4qJetGenOtherHiggs = awkward.where(hxxevts & (n_fatjets>0), \n",
    "                                                      deltaRFatH4qJetGenOtherHiggs, \n",
    "                                                      awkward.ones_like(deltaRFatH4qJetGenOtherHiggs)*DUMMY_VALUE)"
   ]
  },
  {
   "cell_type": "code",
   "execution_count": 72,
   "id": "309c0186",
   "metadata": {},
   "outputs": [],
   "source": [
    "deltaRFatH4qJetGenOtherHiggs = awkward.flatten(deltaRFatH4qJetGenOtherHiggs,axis=1)"
   ]
  },
  {
   "cell_type": "code",
   "execution_count": 73,
   "id": "88ef1e80",
   "metadata": {},
   "outputs": [
    {
     "data": {
      "text/html": [
       "<pre style=\"white-space:pre;overflow-x:auto;line-height:normal;font-family:Menlo,'DejaVu Sans Mono',consolas,'Courier New',monospace\"><span style=\"color: #800000; text-decoration-color: #800000\">WARNING </span> <span style=\"font-weight: bold\">[</span>awkward_utils.py : add_field<span style=\"font-weight: bold\">]</span> You tried to write the field      <a href=\"file:///eos/home-c/chuw/HiggsDNAenv/HiggsDNA/higgs_dna/utils/awkward_utils.py\" target=\"_blank\"><span style=\"color: #7f7f7f; text-decoration-color: #7f7f7f\">awkward_utils.py</span></a><span style=\"color: #7f7f7f; text-decoration-color: #7f7f7f\">:</span><a href=\"file:///eos/home-c/chuw/HiggsDNAenv/HiggsDNA/higgs_dna/utils/awkward_utils.py#87\" target=\"_blank\"><span style=\"color: #7f7f7f; text-decoration-color: #7f7f7f\">87</span></a>\n",
       "         deltaRFatH4qJetGenOtherHiggs, but it is already present and      <span style=\"color: #7f7f7f; text-decoration-color: #7f7f7f\">                   </span>\n",
       "         overwrite option was not selected. Not overwriting existing      <span style=\"color: #7f7f7f; text-decoration-color: #7f7f7f\">                   </span>\n",
       "         field.                                                           <span style=\"color: #7f7f7f; text-decoration-color: #7f7f7f\">                   </span>\n",
       "</pre>\n"
      ],
      "text/plain": [
       "\u001b[31mWARNING \u001b[0m \u001b[1m[\u001b[0mawkward_utils.py : add_field\u001b[1m]\u001b[0m You tried to write the field      \u001b]8;id=643109;file:///eos/home-c/chuw/HiggsDNAenv/HiggsDNA/higgs_dna/utils/awkward_utils.py\u001b\\\u001b[2mawkward_utils.py\u001b[0m\u001b]8;;\u001b\\\u001b[2m:\u001b[0m\u001b]8;id=5369;file:///eos/home-c/chuw/HiggsDNAenv/HiggsDNA/higgs_dna/utils/awkward_utils.py#87\u001b\\\u001b[2m87\u001b[0m\u001b]8;;\u001b\\\n",
       "         deltaRFatH4qJetGenOtherHiggs, but it is already present and      \u001b[2m                   \u001b[0m\n",
       "         overwrite option was not selected. Not overwriting existing      \u001b[2m                   \u001b[0m\n",
       "         field.                                                           \u001b[2m                   \u001b[0m\n"
      ]
     },
     "metadata": {},
     "output_type": "display_data"
    },
    {
     "data": {
      "text/plain": [
       "<Array [0.0463, 0.00798, ... 0.0146, 0.0453] type='6734 * ?float32'>"
      ]
     },
     "execution_count": 73,
     "metadata": {},
     "output_type": "execute_result"
    }
   ],
   "source": [
    "awkward_utils.add_field(events, \"deltaRFatH4qJetGenOtherHiggs\", deltaRFatH4qJetGenOtherHiggs)"
   ]
  },
  {
   "cell_type": "code",
   "execution_count": 74,
   "id": "372e51d8",
   "metadata": {},
   "outputs": [],
   "source": [
    "pho_id = (events.LeadPhoton.mvaID > options[\"photon_mvaID\"]) & (events.SubleadPhoton.mvaID > options[\"photon_mvaID\"])"
   ]
  },
  {
   "cell_type": "code",
   "execution_count": 75,
   "id": "38193c44",
   "metadata": {},
   "outputs": [],
   "source": [
    "ptOvermgg_cut = (events.LeadPhoton.pt/events.Diphoton.mass)>0.33"
   ]
  },
  {
   "cell_type": "code",
   "execution_count": 76,
   "id": "7b7afe9b",
   "metadata": {},
   "outputs": [],
   "source": [
    "ptOvermgg_cut = ptOvermgg_cut & ((events.SubleadPhoton.pt/events.Diphoton.mass)>0.25)"
   ]
  },
  {
   "cell_type": "code",
   "execution_count": 77,
   "id": "7bf0d5ee",
   "metadata": {},
   "outputs": [],
   "source": [
    "category = awkward.zeros_like(n_jets)"
   ]
  },
  {
   "cell_type": "code",
   "execution_count": 78,
   "id": "e8e95f48",
   "metadata": {},
   "outputs": [],
   "source": [
    "category = awkward.fill_none(category, 0)"
   ]
  },
  {
   "cell_type": "code",
   "execution_count": 79,
   "id": "7397cf11",
   "metadata": {},
   "outputs": [],
   "source": [
    "category = awkward.where(n_fatjets>0, awkward.ones_like(category)*1, category)"
   ]
  },
  {
   "cell_type": "code",
   "execution_count": 80,
   "id": "93e536b4",
   "metadata": {},
   "outputs": [],
   "source": [
    "category = awkward.where((n_fatjets==0) & (n_jets>1), awkward.ones_like(category)*2, category)"
   ]
  },
  {
   "cell_type": "code",
   "execution_count": 81,
   "id": "d15d28ca",
   "metadata": {},
   "outputs": [
    {
     "data": {
      "text/plain": [
       "<Array [1, 1, 1, 1, 2, 1, ... 1, 1, 1, 1, 1, 1] type='6734 * int64'>"
      ]
     },
     "execution_count": 81,
     "metadata": {},
     "output_type": "execute_result"
    }
   ],
   "source": [
    "awkward_utils.add_field(events, \"category\", category) "
   ]
  },
  {
   "cell_type": "code",
   "execution_count": 82,
   "id": "62b3140e",
   "metadata": {},
   "outputs": [],
   "source": [
    "category_cut = category > 0"
   ]
  },
  {
   "cell_type": "code",
   "execution_count": 83,
   "id": "1795dfa7",
   "metadata": {},
   "outputs": [],
   "source": [
    "presel_cut = pho_id & ptOvermgg_cut & category_cut"
   ]
  },
  {
   "cell_type": "code",
   "execution_count": 114,
   "id": "4f047875",
   "metadata": {},
   "outputs": [
    {
     "ename": "NameError",
     "evalue": "name 'register_cuts' is not defined",
     "output_type": "error",
     "traceback": [
      "\u001b[0;31m---------------------------------------------------------------------------\u001b[0m",
      "\u001b[0;31mNameError\u001b[0m                                 Traceback (most recent call last)",
      "Input \u001b[0;32mIn [114]\u001b[0m, in \u001b[0;36m<cell line: 1>\u001b[0;34m()\u001b[0m\n\u001b[0;32m----> 1\u001b[0m \u001b[43mregister_cuts\u001b[49m(\n\u001b[1;32m      2\u001b[0m             names \u001b[38;5;241m=\u001b[39m [\u001b[38;5;124m\"\u001b[39m\u001b[38;5;124mphoton ID MVA\u001b[39m\u001b[38;5;124m\"\u001b[39m, \u001b[38;5;124m\"\u001b[39m\u001b[38;5;124mptOvermgg_cut\u001b[39m\u001b[38;5;124m\"\u001b[39m, \u001b[38;5;124m\"\u001b[39m\u001b[38;5;124mcategory_cut\u001b[39m\u001b[38;5;124m\"\u001b[39m, \u001b[38;5;124m\"\u001b[39m\u001b[38;5;124mall cuts\u001b[39m\u001b[38;5;124m\"\u001b[39m],\n\u001b[1;32m      3\u001b[0m             results \u001b[38;5;241m=\u001b[39m [pho_id, ptOvermgg_cut, category_cut, presel_cut]\n\u001b[1;32m      4\u001b[0m         )\n",
      "\u001b[0;31mNameError\u001b[0m: name 'register_cuts' is not defined"
     ]
    }
   ],
   "source": [
    "# register_cuts(\n",
    "#             names = [\"photon ID MVA\", \"ptOvermgg_cut\", \"category_cut\", \"all cuts\"],\n",
    "#             results = [pho_id, ptOvermgg_cut, category_cut, presel_cut]\n",
    "#         )"
   ]
  },
  {
   "cell_type": "code",
   "execution_count": null,
   "id": "13fb79fc",
   "metadata": {},
   "outputs": [],
   "source": []
  }
 ],
 "metadata": {
  "kernelspec": {
   "display_name": "Python 3 (ipykernel)",
   "language": "python",
   "name": "python3"
  },
  "language_info": {
   "codemirror_mode": {
    "name": "ipython",
    "version": 3
   },
   "file_extension": ".py",
   "mimetype": "text/x-python",
   "name": "python",
   "nbconvert_exporter": "python",
   "pygments_lexer": "ipython3",
   "version": "3.9.12"
  }
 },
 "nbformat": 4,
 "nbformat_minor": 5
}
